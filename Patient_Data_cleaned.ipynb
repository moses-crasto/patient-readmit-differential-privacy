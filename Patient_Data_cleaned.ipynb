{
 "cells": [
  {
   "cell_type": "markdown",
   "metadata": {
    "id": "LISEzq957YER"
   },
   "source": [
    "# Installing and importing libraries"
   ]
  },
  {
   "cell_type": "code",
   "execution_count": null,
   "metadata": {
    "colab": {
     "base_uri": "https://localhost:8080/"
    },
    "collapsed": true,
    "id": "5gBvhIJsLOFe",
    "outputId": "3a197cc5-8b83-436d-cc38-75310090b725"
   },
   "outputs": [
    {
     "name": "stdout",
     "output_type": "stream",
     "text": [
      "Collecting tensorflow-privacy\n",
      "  Downloading tensorflow_privacy-0.9.0-py3-none-any.whl.metadata (763 bytes)\n",
      "Requirement already satisfied: absl-py==1.*,>=1.0 in /usr/local/lib/python3.11/dist-packages (from tensorflow-privacy) (1.4.0)\n",
      "Collecting dm-tree==0.1.8 (from tensorflow-privacy)\n",
      "  Downloading dm_tree-0.1.8-cp311-cp311-manylinux_2_17_x86_64.manylinux2014_x86_64.whl.metadata (1.9 kB)\n",
      "Collecting dp-accounting==0.4.3 (from tensorflow-privacy)\n",
      "  Downloading dp_accounting-0.4.3-py3-none-any.whl.metadata (1.8 kB)\n",
      "Collecting numpy~=1.21 (from tensorflow-privacy)\n",
      "  Downloading numpy-1.26.4-cp311-cp311-manylinux_2_17_x86_64.manylinux2014_x86_64.whl.metadata (61 kB)\n",
      "\u001b[2K     \u001b[90m━━━━━━━━━━━━━━━━━━━━━━━━━━━━━━━━━━━━━━━━\u001b[0m \u001b[32m61.0/61.0 kB\u001b[0m \u001b[31m4.6 MB/s\u001b[0m eta \u001b[36m0:00:00\u001b[0m\n",
      "\u001b[?25hCollecting packaging~=22.0 (from tensorflow-privacy)\n",
      "  Downloading packaging-22.0-py3-none-any.whl.metadata (3.1 kB)\n",
      "Requirement already satisfied: scikit-learn==1.*,>=1.0 in /usr/local/lib/python3.11/dist-packages (from tensorflow-privacy) (1.6.1)\n",
      "Requirement already satisfied: scipy~=1.9 in /usr/local/lib/python3.11/dist-packages (from tensorflow-privacy) (1.15.2)\n",
      "Collecting tensorflow-estimator~=2.4 (from tensorflow-privacy)\n",
      "  Downloading tensorflow_estimator-2.15.0-py2.py3-none-any.whl.metadata (1.3 kB)\n",
      "Collecting tensorflow-probability~=0.22.0 (from tensorflow-privacy)\n",
      "  Downloading tensorflow_probability-0.22.1-py2.py3-none-any.whl.metadata (13 kB)\n",
      "Requirement already satisfied: tensorflow~=2.4 in /usr/local/lib/python3.11/dist-packages (from tensorflow-privacy) (2.18.0)\n",
      "Requirement already satisfied: attrs>=22 in /usr/local/lib/python3.11/dist-packages (from dp-accounting==0.4.3->tensorflow-privacy) (25.3.0)\n",
      "Requirement already satisfied: mpmath~=1.2 in /usr/local/lib/python3.11/dist-packages (from dp-accounting==0.4.3->tensorflow-privacy) (1.3.0)\n",
      "Requirement already satisfied: joblib>=1.2.0 in /usr/local/lib/python3.11/dist-packages (from scikit-learn==1.*,>=1.0->tensorflow-privacy) (1.4.2)\n",
      "Requirement already satisfied: threadpoolctl>=3.1.0 in /usr/local/lib/python3.11/dist-packages (from scikit-learn==1.*,>=1.0->tensorflow-privacy) (3.6.0)\n",
      "Requirement already satisfied: astunparse>=1.6.0 in /usr/local/lib/python3.11/dist-packages (from tensorflow~=2.4->tensorflow-privacy) (1.6.3)\n",
      "Requirement already satisfied: flatbuffers>=24.3.25 in /usr/local/lib/python3.11/dist-packages (from tensorflow~=2.4->tensorflow-privacy) (25.2.10)\n",
      "Requirement already satisfied: gast!=0.5.0,!=0.5.1,!=0.5.2,>=0.2.1 in /usr/local/lib/python3.11/dist-packages (from tensorflow~=2.4->tensorflow-privacy) (0.6.0)\n",
      "Requirement already satisfied: google-pasta>=0.1.1 in /usr/local/lib/python3.11/dist-packages (from tensorflow~=2.4->tensorflow-privacy) (0.2.0)\n",
      "Requirement already satisfied: libclang>=13.0.0 in /usr/local/lib/python3.11/dist-packages (from tensorflow~=2.4->tensorflow-privacy) (18.1.1)\n",
      "Requirement already satisfied: opt-einsum>=2.3.2 in /usr/local/lib/python3.11/dist-packages (from tensorflow~=2.4->tensorflow-privacy) (3.4.0)\n",
      "Requirement already satisfied: protobuf!=4.21.0,!=4.21.1,!=4.21.2,!=4.21.3,!=4.21.4,!=4.21.5,<6.0.0dev,>=3.20.3 in /usr/local/lib/python3.11/dist-packages (from tensorflow~=2.4->tensorflow-privacy) (5.29.4)\n",
      "Requirement already satisfied: requests<3,>=2.21.0 in /usr/local/lib/python3.11/dist-packages (from tensorflow~=2.4->tensorflow-privacy) (2.32.3)\n",
      "Requirement already satisfied: setuptools in /usr/local/lib/python3.11/dist-packages (from tensorflow~=2.4->tensorflow-privacy) (75.2.0)\n",
      "Requirement already satisfied: six>=1.12.0 in /usr/local/lib/python3.11/dist-packages (from tensorflow~=2.4->tensorflow-privacy) (1.17.0)\n",
      "Requirement already satisfied: termcolor>=1.1.0 in /usr/local/lib/python3.11/dist-packages (from tensorflow~=2.4->tensorflow-privacy) (3.1.0)\n",
      "Requirement already satisfied: typing-extensions>=3.6.6 in /usr/local/lib/python3.11/dist-packages (from tensorflow~=2.4->tensorflow-privacy) (4.13.2)\n",
      "Requirement already satisfied: wrapt>=1.11.0 in /usr/local/lib/python3.11/dist-packages (from tensorflow~=2.4->tensorflow-privacy) (1.17.2)\n",
      "Requirement already satisfied: grpcio<2.0,>=1.24.3 in /usr/local/lib/python3.11/dist-packages (from tensorflow~=2.4->tensorflow-privacy) (1.71.0)\n",
      "Requirement already satisfied: tensorboard<2.19,>=2.18 in /usr/local/lib/python3.11/dist-packages (from tensorflow~=2.4->tensorflow-privacy) (2.18.0)\n",
      "Requirement already satisfied: keras>=3.5.0 in /usr/local/lib/python3.11/dist-packages (from tensorflow~=2.4->tensorflow-privacy) (3.8.0)\n",
      "Requirement already satisfied: h5py>=3.11.0 in /usr/local/lib/python3.11/dist-packages (from tensorflow~=2.4->tensorflow-privacy) (3.13.0)\n",
      "Requirement already satisfied: ml-dtypes<0.5.0,>=0.4.0 in /usr/local/lib/python3.11/dist-packages (from tensorflow~=2.4->tensorflow-privacy) (0.4.1)\n",
      "Requirement already satisfied: tensorflow-io-gcs-filesystem>=0.23.1 in /usr/local/lib/python3.11/dist-packages (from tensorflow~=2.4->tensorflow-privacy) (0.37.1)\n",
      "Requirement already satisfied: decorator in /usr/local/lib/python3.11/dist-packages (from tensorflow-probability~=0.22.0->tensorflow-privacy) (4.4.2)\n",
      "Requirement already satisfied: cloudpickle>=1.3 in /usr/local/lib/python3.11/dist-packages (from tensorflow-probability~=0.22.0->tensorflow-privacy) (3.1.1)\n",
      "Requirement already satisfied: wheel<1.0,>=0.23.0 in /usr/local/lib/python3.11/dist-packages (from astunparse>=1.6.0->tensorflow~=2.4->tensorflow-privacy) (0.45.1)\n",
      "Requirement already satisfied: rich in /usr/local/lib/python3.11/dist-packages (from keras>=3.5.0->tensorflow~=2.4->tensorflow-privacy) (13.9.4)\n",
      "Requirement already satisfied: namex in /usr/local/lib/python3.11/dist-packages (from keras>=3.5.0->tensorflow~=2.4->tensorflow-privacy) (0.0.9)\n",
      "Requirement already satisfied: optree in /usr/local/lib/python3.11/dist-packages (from keras>=3.5.0->tensorflow~=2.4->tensorflow-privacy) (0.15.0)\n",
      "Requirement already satisfied: charset-normalizer<4,>=2 in /usr/local/lib/python3.11/dist-packages (from requests<3,>=2.21.0->tensorflow~=2.4->tensorflow-privacy) (3.4.1)\n",
      "Requirement already satisfied: idna<4,>=2.5 in /usr/local/lib/python3.11/dist-packages (from requests<3,>=2.21.0->tensorflow~=2.4->tensorflow-privacy) (3.10)\n",
      "Requirement already satisfied: urllib3<3,>=1.21.1 in /usr/local/lib/python3.11/dist-packages (from requests<3,>=2.21.0->tensorflow~=2.4->tensorflow-privacy) (2.4.0)\n",
      "Requirement already satisfied: certifi>=2017.4.17 in /usr/local/lib/python3.11/dist-packages (from requests<3,>=2.21.0->tensorflow~=2.4->tensorflow-privacy) (2025.4.26)\n",
      "Requirement already satisfied: markdown>=2.6.8 in /usr/local/lib/python3.11/dist-packages (from tensorboard<2.19,>=2.18->tensorflow~=2.4->tensorflow-privacy) (3.8)\n",
      "Requirement already satisfied: tensorboard-data-server<0.8.0,>=0.7.0 in /usr/local/lib/python3.11/dist-packages (from tensorboard<2.19,>=2.18->tensorflow~=2.4->tensorflow-privacy) (0.7.2)\n",
      "Requirement already satisfied: werkzeug>=1.0.1 in /usr/local/lib/python3.11/dist-packages (from tensorboard<2.19,>=2.18->tensorflow~=2.4->tensorflow-privacy) (3.1.3)\n",
      "Requirement already satisfied: MarkupSafe>=2.1.1 in /usr/local/lib/python3.11/dist-packages (from werkzeug>=1.0.1->tensorboard<2.19,>=2.18->tensorflow~=2.4->tensorflow-privacy) (3.0.2)\n",
      "Requirement already satisfied: markdown-it-py>=2.2.0 in /usr/local/lib/python3.11/dist-packages (from rich->keras>=3.5.0->tensorflow~=2.4->tensorflow-privacy) (3.0.0)\n",
      "Requirement already satisfied: pygments<3.0.0,>=2.13.0 in /usr/local/lib/python3.11/dist-packages (from rich->keras>=3.5.0->tensorflow~=2.4->tensorflow-privacy) (2.19.1)\n",
      "Requirement already satisfied: mdurl~=0.1 in /usr/local/lib/python3.11/dist-packages (from markdown-it-py>=2.2.0->rich->keras>=3.5.0->tensorflow~=2.4->tensorflow-privacy) (0.1.2)\n",
      "Downloading tensorflow_privacy-0.9.0-py3-none-any.whl (323 kB)\n",
      "\u001b[2K   \u001b[90m━━━━━━━━━━━━━━━━━━━━━━━━━━━━━━━━━━━━━━━━\u001b[0m \u001b[32m323.2/323.2 kB\u001b[0m \u001b[31m22.5 MB/s\u001b[0m eta \u001b[36m0:00:00\u001b[0m\n",
      "\u001b[?25hDownloading dm_tree-0.1.8-cp311-cp311-manylinux_2_17_x86_64.manylinux2014_x86_64.whl (152 kB)\n",
      "\u001b[2K   \u001b[90m━━━━━━━━━━━━━━━━━━━━━━━━━━━━━━━━━━━━━━━━\u001b[0m \u001b[32m152.8/152.8 kB\u001b[0m \u001b[31m14.5 MB/s\u001b[0m eta \u001b[36m0:00:00\u001b[0m\n",
      "\u001b[?25hDownloading dp_accounting-0.4.3-py3-none-any.whl (104 kB)\n",
      "\u001b[2K   \u001b[90m━━━━━━━━━━━━━━━━━━━━━━━━━━━━━━━━━━━━━━━━\u001b[0m \u001b[32m104.8/104.8 kB\u001b[0m \u001b[31m10.4 MB/s\u001b[0m eta \u001b[36m0:00:00\u001b[0m\n",
      "\u001b[?25hDownloading numpy-1.26.4-cp311-cp311-manylinux_2_17_x86_64.manylinux2014_x86_64.whl (18.3 MB)\n",
      "\u001b[2K   \u001b[90m━━━━━━━━━━━━━━━━━━━━━━━━━━━━━━━━━━━━━━━━\u001b[0m \u001b[32m18.3/18.3 MB\u001b[0m \u001b[31m114.9 MB/s\u001b[0m eta \u001b[36m0:00:00\u001b[0m\n",
      "\u001b[?25hDownloading packaging-22.0-py3-none-any.whl (42 kB)\n",
      "\u001b[2K   \u001b[90m━━━━━━━━━━━━━━━━━━━━━━━━━━━━━━━━━━━━━━━━\u001b[0m \u001b[32m42.6/42.6 kB\u001b[0m \u001b[31m3.6 MB/s\u001b[0m eta \u001b[36m0:00:00\u001b[0m\n",
      "\u001b[?25hDownloading tensorflow_estimator-2.15.0-py2.py3-none-any.whl (441 kB)\n",
      "\u001b[2K   \u001b[90m━━━━━━━━━━━━━━━━━━━━━━━━━━━━━━━━━━━━━━━━\u001b[0m \u001b[32m442.0/442.0 kB\u001b[0m \u001b[31m36.8 MB/s\u001b[0m eta \u001b[36m0:00:00\u001b[0m\n",
      "\u001b[?25hDownloading tensorflow_probability-0.22.1-py2.py3-none-any.whl (6.9 MB)\n",
      "\u001b[2K   \u001b[90m━━━━━━━━━━━━━━━━━━━━━━━━━━━━━━━━━━━━━━━━\u001b[0m \u001b[32m6.9/6.9 MB\u001b[0m \u001b[31m97.4 MB/s\u001b[0m eta \u001b[36m0:00:00\u001b[0m\n",
      "\u001b[?25hInstalling collected packages: dm-tree, tensorflow-estimator, packaging, numpy, tensorflow-probability, dp-accounting, tensorflow-privacy\n",
      "  Attempting uninstall: dm-tree\n",
      "    Found existing installation: dm-tree 0.1.9\n",
      "    Uninstalling dm-tree-0.1.9:\n",
      "      Successfully uninstalled dm-tree-0.1.9\n",
      "  Attempting uninstall: packaging\n",
      "    Found existing installation: packaging 24.2\n",
      "    Uninstalling packaging-24.2:\n",
      "      Successfully uninstalled packaging-24.2\n",
      "  Attempting uninstall: numpy\n",
      "    Found existing installation: numpy 2.0.2\n",
      "    Uninstalling numpy-2.0.2:\n",
      "      Successfully uninstalled numpy-2.0.2\n",
      "  Attempting uninstall: tensorflow-probability\n",
      "    Found existing installation: tensorflow-probability 0.25.0\n",
      "    Uninstalling tensorflow-probability-0.25.0:\n",
      "      Successfully uninstalled tensorflow-probability-0.25.0\n",
      "\u001b[31mERROR: pip's dependency resolver does not currently take into account all the packages that are installed. This behaviour is the source of the following dependency conflicts.\n",
      "sphinx 8.2.3 requires packaging>=23.0, but you have packaging 22.0 which is incompatible.\n",
      "langchain-core 0.3.56 requires packaging<25,>=23.2, but you have packaging 22.0 which is incompatible.\n",
      "langsmith 0.3.39 requires packaging>=23.2, but you have packaging 22.0 which is incompatible.\n",
      "thinc 8.3.6 requires numpy<3.0.0,>=2.0.0, but you have numpy 1.26.4 which is incompatible.\n",
      "xarray 2025.3.1 requires packaging>=23.2, but you have packaging 22.0 which is incompatible.\n",
      "google-cloud-bigquery 3.31.0 requires packaging>=24.2.0, but you have packaging 22.0 which is incompatible.\u001b[0m\u001b[31m\n",
      "\u001b[0mSuccessfully installed dm-tree-0.1.8 dp-accounting-0.4.3 numpy-1.26.4 packaging-22.0 tensorflow-estimator-2.15.0 tensorflow-privacy-0.9.0 tensorflow-probability-0.22.1\n",
      "Collecting tensorflow-estimator==2.3.0\n",
      "  Downloading tensorflow_estimator-2.3.0-py2.py3-none-any.whl.metadata (1.2 kB)\n",
      "Downloading tensorflow_estimator-2.3.0-py2.py3-none-any.whl (459 kB)\n",
      "\u001b[2K   \u001b[90m━━━━━━━━━━━━━━━━━━━━━━━━━━━━━━━━━━━━━━━━\u001b[0m \u001b[32m459.0/459.0 kB\u001b[0m \u001b[31m22.9 MB/s\u001b[0m eta \u001b[36m0:00:00\u001b[0m\n",
      "\u001b[?25hInstalling collected packages: tensorflow-estimator\n",
      "  Attempting uninstall: tensorflow-estimator\n",
      "    Found existing installation: tensorflow-estimator 2.15.0\n",
      "    Uninstalling tensorflow-estimator-2.15.0:\n",
      "      Successfully uninstalled tensorflow-estimator-2.15.0\n",
      "\u001b[31mERROR: pip's dependency resolver does not currently take into account all the packages that are installed. This behaviour is the source of the following dependency conflicts.\n",
      "tensorflow-privacy 0.9.0 requires tensorflow-estimator~=2.4, but you have tensorflow-estimator 2.3.0 which is incompatible.\u001b[0m\u001b[31m\n",
      "\u001b[0mSuccessfully installed tensorflow-estimator-2.3.0\n",
      "Collecting tensorflow==2.14.0\n",
      "  Downloading tensorflow-2.14.0-cp311-cp311-manylinux_2_17_x86_64.manylinux2014_x86_64.whl.metadata (4.1 kB)\n",
      "Requirement already satisfied: absl-py>=1.0.0 in /usr/local/lib/python3.11/dist-packages (from tensorflow==2.14.0) (1.4.0)\n",
      "Requirement already satisfied: astunparse>=1.6.0 in /usr/local/lib/python3.11/dist-packages (from tensorflow==2.14.0) (1.6.3)\n",
      "Requirement already satisfied: flatbuffers>=23.5.26 in /usr/local/lib/python3.11/dist-packages (from tensorflow==2.14.0) (25.2.10)\n",
      "Requirement already satisfied: gast!=0.5.0,!=0.5.1,!=0.5.2,>=0.2.1 in /usr/local/lib/python3.11/dist-packages (from tensorflow==2.14.0) (0.6.0)\n",
      "Requirement already satisfied: google-pasta>=0.1.1 in /usr/local/lib/python3.11/dist-packages (from tensorflow==2.14.0) (0.2.0)\n",
      "Requirement already satisfied: h5py>=2.9.0 in /usr/local/lib/python3.11/dist-packages (from tensorflow==2.14.0) (3.13.0)\n",
      "Requirement already satisfied: libclang>=13.0.0 in /usr/local/lib/python3.11/dist-packages (from tensorflow==2.14.0) (18.1.1)\n",
      "Collecting ml-dtypes==0.2.0 (from tensorflow==2.14.0)\n",
      "  Downloading ml_dtypes-0.2.0-cp311-cp311-manylinux_2_17_x86_64.manylinux2014_x86_64.whl.metadata (20 kB)\n",
      "Requirement already satisfied: numpy>=1.23.5 in /usr/local/lib/python3.11/dist-packages (from tensorflow==2.14.0) (1.26.4)\n",
      "Requirement already satisfied: opt-einsum>=2.3.2 in /usr/local/lib/python3.11/dist-packages (from tensorflow==2.14.0) (3.4.0)\n",
      "Requirement already satisfied: packaging in /usr/local/lib/python3.11/dist-packages (from tensorflow==2.14.0) (22.0)\n",
      "Collecting protobuf!=4.21.0,!=4.21.1,!=4.21.2,!=4.21.3,!=4.21.4,!=4.21.5,<5.0.0dev,>=3.20.3 (from tensorflow==2.14.0)\n",
      "  Downloading protobuf-4.25.7-cp37-abi3-manylinux2014_x86_64.whl.metadata (541 bytes)\n",
      "Requirement already satisfied: setuptools in /usr/local/lib/python3.11/dist-packages (from tensorflow==2.14.0) (75.2.0)\n",
      "Requirement already satisfied: six>=1.12.0 in /usr/local/lib/python3.11/dist-packages (from tensorflow==2.14.0) (1.17.0)\n",
      "Requirement already satisfied: termcolor>=1.1.0 in /usr/local/lib/python3.11/dist-packages (from tensorflow==2.14.0) (3.1.0)\n",
      "Requirement already satisfied: typing-extensions>=3.6.6 in /usr/local/lib/python3.11/dist-packages (from tensorflow==2.14.0) (4.13.2)\n",
      "Collecting wrapt<1.15,>=1.11.0 (from tensorflow==2.14.0)\n",
      "  Downloading wrapt-1.14.1-cp311-cp311-manylinux_2_5_x86_64.manylinux1_x86_64.manylinux_2_17_x86_64.manylinux2014_x86_64.whl.metadata (6.7 kB)\n",
      "Requirement already satisfied: tensorflow-io-gcs-filesystem>=0.23.1 in /usr/local/lib/python3.11/dist-packages (from tensorflow==2.14.0) (0.37.1)\n",
      "Requirement already satisfied: grpcio<2.0,>=1.24.3 in /usr/local/lib/python3.11/dist-packages (from tensorflow==2.14.0) (1.71.0)\n",
      "Collecting tensorboard<2.15,>=2.14 (from tensorflow==2.14.0)\n",
      "  Downloading tensorboard-2.14.1-py3-none-any.whl.metadata (1.7 kB)\n",
      "Collecting tensorflow-estimator<2.15,>=2.14.0 (from tensorflow==2.14.0)\n",
      "  Downloading tensorflow_estimator-2.14.0-py2.py3-none-any.whl.metadata (1.3 kB)\n",
      "Collecting keras<2.15,>=2.14.0 (from tensorflow==2.14.0)\n",
      "  Downloading keras-2.14.0-py3-none-any.whl.metadata (2.4 kB)\n",
      "Requirement already satisfied: wheel<1.0,>=0.23.0 in /usr/local/lib/python3.11/dist-packages (from astunparse>=1.6.0->tensorflow==2.14.0) (0.45.1)\n",
      "Requirement already satisfied: google-auth<3,>=1.6.3 in /usr/local/lib/python3.11/dist-packages (from tensorboard<2.15,>=2.14->tensorflow==2.14.0) (2.38.0)\n",
      "Collecting google-auth-oauthlib<1.1,>=0.5 (from tensorboard<2.15,>=2.14->tensorflow==2.14.0)\n",
      "  Downloading google_auth_oauthlib-1.0.0-py2.py3-none-any.whl.metadata (2.7 kB)\n",
      "Requirement already satisfied: markdown>=2.6.8 in /usr/local/lib/python3.11/dist-packages (from tensorboard<2.15,>=2.14->tensorflow==2.14.0) (3.8)\n",
      "Requirement already satisfied: requests<3,>=2.21.0 in /usr/local/lib/python3.11/dist-packages (from tensorboard<2.15,>=2.14->tensorflow==2.14.0) (2.32.3)\n",
      "Requirement already satisfied: tensorboard-data-server<0.8.0,>=0.7.0 in /usr/local/lib/python3.11/dist-packages (from tensorboard<2.15,>=2.14->tensorflow==2.14.0) (0.7.2)\n",
      "Requirement already satisfied: werkzeug>=1.0.1 in /usr/local/lib/python3.11/dist-packages (from tensorboard<2.15,>=2.14->tensorflow==2.14.0) (3.1.3)\n",
      "Requirement already satisfied: cachetools<6.0,>=2.0.0 in /usr/local/lib/python3.11/dist-packages (from google-auth<3,>=1.6.3->tensorboard<2.15,>=2.14->tensorflow==2.14.0) (5.5.2)\n",
      "Requirement already satisfied: pyasn1-modules>=0.2.1 in /usr/local/lib/python3.11/dist-packages (from google-auth<3,>=1.6.3->tensorboard<2.15,>=2.14->tensorflow==2.14.0) (0.4.2)\n",
      "Requirement already satisfied: rsa<5,>=3.1.4 in /usr/local/lib/python3.11/dist-packages (from google-auth<3,>=1.6.3->tensorboard<2.15,>=2.14->tensorflow==2.14.0) (4.9.1)\n",
      "Requirement already satisfied: requests-oauthlib>=0.7.0 in /usr/local/lib/python3.11/dist-packages (from google-auth-oauthlib<1.1,>=0.5->tensorboard<2.15,>=2.14->tensorflow==2.14.0) (2.0.0)\n",
      "Requirement already satisfied: charset-normalizer<4,>=2 in /usr/local/lib/python3.11/dist-packages (from requests<3,>=2.21.0->tensorboard<2.15,>=2.14->tensorflow==2.14.0) (3.4.1)\n",
      "Requirement already satisfied: idna<4,>=2.5 in /usr/local/lib/python3.11/dist-packages (from requests<3,>=2.21.0->tensorboard<2.15,>=2.14->tensorflow==2.14.0) (3.10)\n",
      "Requirement already satisfied: urllib3<3,>=1.21.1 in /usr/local/lib/python3.11/dist-packages (from requests<3,>=2.21.0->tensorboard<2.15,>=2.14->tensorflow==2.14.0) (2.4.0)\n",
      "Requirement already satisfied: certifi>=2017.4.17 in /usr/local/lib/python3.11/dist-packages (from requests<3,>=2.21.0->tensorboard<2.15,>=2.14->tensorflow==2.14.0) (2025.4.26)\n",
      "Requirement already satisfied: MarkupSafe>=2.1.1 in /usr/local/lib/python3.11/dist-packages (from werkzeug>=1.0.1->tensorboard<2.15,>=2.14->tensorflow==2.14.0) (3.0.2)\n",
      "Requirement already satisfied: pyasn1<0.7.0,>=0.6.1 in /usr/local/lib/python3.11/dist-packages (from pyasn1-modules>=0.2.1->google-auth<3,>=1.6.3->tensorboard<2.15,>=2.14->tensorflow==2.14.0) (0.6.1)\n",
      "Requirement already satisfied: oauthlib>=3.0.0 in /usr/local/lib/python3.11/dist-packages (from requests-oauthlib>=0.7.0->google-auth-oauthlib<1.1,>=0.5->tensorboard<2.15,>=2.14->tensorflow==2.14.0) (3.2.2)\n",
      "Downloading tensorflow-2.14.0-cp311-cp311-manylinux_2_17_x86_64.manylinux2014_x86_64.whl (489.9 MB)\n",
      "\u001b[2K   \u001b[90m━━━━━━━━━━━━━━━━━━━━━━━━━━━━━━━━━━━━━━━━\u001b[0m \u001b[32m489.9/489.9 MB\u001b[0m \u001b[31m2.5 MB/s\u001b[0m eta \u001b[36m0:00:00\u001b[0m\n",
      "\u001b[?25hDownloading ml_dtypes-0.2.0-cp311-cp311-manylinux_2_17_x86_64.manylinux2014_x86_64.whl (1.0 MB)\n",
      "\u001b[2K   \u001b[90m━━━━━━━━━━━━━━━━━━━━━━━━━━━━━━━━━━━━━━━━\u001b[0m \u001b[32m1.0/1.0 MB\u001b[0m \u001b[31m62.3 MB/s\u001b[0m eta \u001b[36m0:00:00\u001b[0m\n",
      "\u001b[?25hDownloading keras-2.14.0-py3-none-any.whl (1.7 MB)\n",
      "\u001b[2K   \u001b[90m━━━━━━━━━━━━━━━━━━━━━━━━━━━━━━━━━━━━━━━━\u001b[0m \u001b[32m1.7/1.7 MB\u001b[0m \u001b[31m83.1 MB/s\u001b[0m eta \u001b[36m0:00:00\u001b[0m\n",
      "\u001b[?25hDownloading protobuf-4.25.7-cp37-abi3-manylinux2014_x86_64.whl (294 kB)\n",
      "\u001b[2K   \u001b[90m━━━━━━━━━━━━━━━━━━━━━━━━━━━━━━━━━━━━━━━━\u001b[0m \u001b[32m294.6/294.6 kB\u001b[0m \u001b[31m26.0 MB/s\u001b[0m eta \u001b[36m0:00:00\u001b[0m\n",
      "\u001b[?25hDownloading tensorboard-2.14.1-py3-none-any.whl (5.5 MB)\n",
      "\u001b[2K   \u001b[90m━━━━━━━━━━━━━━━━━━━━━━━━━━━━━━━━━━━━━━━━\u001b[0m \u001b[32m5.5/5.5 MB\u001b[0m \u001b[31m122.0 MB/s\u001b[0m eta \u001b[36m0:00:00\u001b[0m\n",
      "\u001b[?25hDownloading tensorflow_estimator-2.14.0-py2.py3-none-any.whl (440 kB)\n",
      "\u001b[2K   \u001b[90m━━━━━━━━━━━━━━━━━━━━━━━━━━━━━━━━━━━━━━━━\u001b[0m \u001b[32m440.7/440.7 kB\u001b[0m \u001b[31m37.1 MB/s\u001b[0m eta \u001b[36m0:00:00\u001b[0m\n",
      "\u001b[?25hDownloading wrapt-1.14.1-cp311-cp311-manylinux_2_5_x86_64.manylinux1_x86_64.manylinux_2_17_x86_64.manylinux2014_x86_64.whl (78 kB)\n",
      "\u001b[2K   \u001b[90m━━━━━━━━━━━━━━━━━━━━━━━━━━━━━━━━━━━━━━━━\u001b[0m \u001b[32m78.4/78.4 kB\u001b[0m \u001b[31m8.2 MB/s\u001b[0m eta \u001b[36m0:00:00\u001b[0m\n",
      "\u001b[?25hDownloading google_auth_oauthlib-1.0.0-py2.py3-none-any.whl (18 kB)\n",
      "Installing collected packages: wrapt, tensorflow-estimator, protobuf, ml-dtypes, keras, google-auth-oauthlib, tensorboard, tensorflow\n",
      "  Attempting uninstall: wrapt\n",
      "    Found existing installation: wrapt 1.17.2\n",
      "    Uninstalling wrapt-1.17.2:\n",
      "      Successfully uninstalled wrapt-1.17.2\n",
      "  Attempting uninstall: tensorflow-estimator\n",
      "    Found existing installation: tensorflow-estimator 2.3.0\n",
      "    Uninstalling tensorflow-estimator-2.3.0:\n",
      "      Successfully uninstalled tensorflow-estimator-2.3.0\n",
      "  Attempting uninstall: protobuf\n",
      "    Found existing installation: protobuf 5.29.4\n",
      "    Uninstalling protobuf-5.29.4:\n",
      "      Successfully uninstalled protobuf-5.29.4\n",
      "  Attempting uninstall: ml-dtypes\n",
      "    Found existing installation: ml-dtypes 0.4.1\n",
      "    Uninstalling ml-dtypes-0.4.1:\n",
      "      Successfully uninstalled ml-dtypes-0.4.1\n",
      "  Attempting uninstall: keras\n",
      "    Found existing installation: keras 3.8.0\n",
      "    Uninstalling keras-3.8.0:\n",
      "      Successfully uninstalled keras-3.8.0\n",
      "  Attempting uninstall: google-auth-oauthlib\n",
      "    Found existing installation: google-auth-oauthlib 1.2.2\n",
      "    Uninstalling google-auth-oauthlib-1.2.2:\n",
      "      Successfully uninstalled google-auth-oauthlib-1.2.2\n",
      "  Attempting uninstall: tensorboard\n",
      "    Found existing installation: tensorboard 2.18.0\n",
      "    Uninstalling tensorboard-2.18.0:\n",
      "      Successfully uninstalled tensorboard-2.18.0\n",
      "  Attempting uninstall: tensorflow\n",
      "    Found existing installation: tensorflow 2.18.0\n",
      "    Uninstalling tensorflow-2.18.0:\n",
      "      Successfully uninstalled tensorflow-2.18.0\n",
      "\u001b[31mERROR: pip's dependency resolver does not currently take into account all the packages that are installed. This behaviour is the source of the following dependency conflicts.\n",
      "tensorflow-decision-forests 1.11.0 requires tensorflow==2.18.0, but you have tensorflow 2.14.0 which is incompatible.\n",
      "tensorstore 0.1.74 requires ml_dtypes>=0.3.1, but you have ml-dtypes 0.2.0 which is incompatible.\n",
      "jax 0.5.2 requires ml_dtypes>=0.4.0, but you have ml-dtypes 0.2.0 which is incompatible.\n",
      "tensorflow-text 2.18.1 requires tensorflow<2.19,>=2.18.0, but you have tensorflow 2.14.0 which is incompatible.\n",
      "tf-keras 2.18.0 requires tensorflow<2.19,>=2.18, but you have tensorflow 2.14.0 which is incompatible.\n",
      "grpcio-status 1.71.0 requires protobuf<6.0dev,>=5.26.1, but you have protobuf 4.25.7 which is incompatible.\n",
      "google-cloud-bigquery 3.31.0 requires packaging>=24.2.0, but you have packaging 22.0 which is incompatible.\n",
      "ydf 0.11.0 requires protobuf<6.0.0,>=5.29.1, but you have protobuf 4.25.7 which is incompatible.\u001b[0m\u001b[31m\n",
      "\u001b[0mSuccessfully installed google-auth-oauthlib-1.0.0 keras-2.14.0 ml-dtypes-0.2.0 protobuf-4.25.7 tensorboard-2.14.1 tensorflow-2.14.0 tensorflow-estimator-2.14.0 wrapt-1.14.1\n"
     ]
    }
   ],
   "source": [
    "!pip install tensorflow-privacy\n",
    "!pip install --upgrade tensorflow-estimator==2.3.0\n",
    "!pip install --upgrade tensorflow==2.14.0"
   ]
  },
  {
   "cell_type": "code",
   "execution_count": null,
   "metadata": {
    "colab": {
     "base_uri": "https://localhost:8080/",
     "height": 747
    },
    "collapsed": true,
    "id": "ramLAIX3YRwp",
    "outputId": "51efde88-b4fb-4bc7-ae6b-80ba53808693"
   },
   "outputs": [
    {
     "ename": "RecursionError",
     "evalue": "maximum recursion depth exceeded",
     "output_type": "error",
     "traceback": [
      "\u001b[0;31m---------------------------------------------------------------------------\u001b[0m",
      "\u001b[0;31mRecursionError\u001b[0m                            Traceback (most recent call last)",
      "\u001b[0;32m/usr/local/lib/python3.11/dist-packages/ml_dtypes/__init__.py\u001b[0m in \u001b[0;36m<module>\u001b[0;34m\u001b[0m\n\u001b[1;32m     38\u001b[0m \u001b[0;32mfrom\u001b[0m \u001b[0mml_dtypes\u001b[0m\u001b[0;34m.\u001b[0m\u001b[0m_custom_floats\u001b[0m \u001b[0;32mimport\u001b[0m \u001b[0mint4\u001b[0m\u001b[0;34m\u001b[0m\u001b[0;34m\u001b[0m\u001b[0m\n\u001b[1;32m     39\u001b[0m \u001b[0;32mfrom\u001b[0m \u001b[0mml_dtypes\u001b[0m\u001b[0;34m.\u001b[0m\u001b[0m_custom_floats\u001b[0m \u001b[0;32mimport\u001b[0m \u001b[0muint4\u001b[0m\u001b[0;34m\u001b[0m\u001b[0;34m\u001b[0m\u001b[0m\n\u001b[0;32m---> 40\u001b[0;31m \u001b[0;32mfrom\u001b[0m \u001b[0mml_dtypes\u001b[0m\u001b[0;34m.\u001b[0m\u001b[0m_finfo\u001b[0m \u001b[0;32mimport\u001b[0m \u001b[0mfinfo\u001b[0m\u001b[0;34m\u001b[0m\u001b[0;34m\u001b[0m\u001b[0m\n\u001b[0m\u001b[1;32m     41\u001b[0m \u001b[0;32mfrom\u001b[0m \u001b[0mml_dtypes\u001b[0m\u001b[0;34m.\u001b[0m\u001b[0m_iinfo\u001b[0m \u001b[0;32mimport\u001b[0m \u001b[0miinfo\u001b[0m\u001b[0;34m\u001b[0m\u001b[0;34m\u001b[0m\u001b[0m\n\u001b[1;32m     42\u001b[0m \u001b[0;34m\u001b[0m\u001b[0m\n",
      "\u001b[0;32m/usr/local/lib/python3.11/dist-packages/ml_dtypes/_finfo.py\u001b[0m in \u001b[0;36m<module>\u001b[0;34m\u001b[0m\n\u001b[1;32m     26\u001b[0m \u001b[0;32mimport\u001b[0m \u001b[0mnumpy\u001b[0m \u001b[0;32mas\u001b[0m \u001b[0mnp\u001b[0m\u001b[0;34m\u001b[0m\u001b[0;34m\u001b[0m\u001b[0m\n\u001b[1;32m     27\u001b[0m \u001b[0;34m\u001b[0m\u001b[0m\n\u001b[0;32m---> 28\u001b[0;31m \u001b[0m_bfloat16_dtype\u001b[0m \u001b[0;34m=\u001b[0m \u001b[0mnp\u001b[0m\u001b[0;34m.\u001b[0m\u001b[0mdtype\u001b[0m\u001b[0;34m(\u001b[0m\u001b[0mbfloat16\u001b[0m\u001b[0;34m)\u001b[0m\u001b[0;34m\u001b[0m\u001b[0;34m\u001b[0m\u001b[0m\n\u001b[0m\u001b[1;32m     29\u001b[0m \u001b[0m_float8_e4m3b11fnuz_dtype\u001b[0m \u001b[0;34m=\u001b[0m \u001b[0mnp\u001b[0m\u001b[0;34m.\u001b[0m\u001b[0mdtype\u001b[0m\u001b[0;34m(\u001b[0m\u001b[0mfloat8_e4m3b11fnuz\u001b[0m\u001b[0;34m)\u001b[0m\u001b[0;34m\u001b[0m\u001b[0;34m\u001b[0m\u001b[0m\n\u001b[1;32m     30\u001b[0m \u001b[0m_float8_e4m3fn_dtype\u001b[0m \u001b[0;34m=\u001b[0m \u001b[0mnp\u001b[0m\u001b[0;34m.\u001b[0m\u001b[0mdtype\u001b[0m\u001b[0;34m(\u001b[0m\u001b[0mfloat8_e4m3fn\u001b[0m\u001b[0;34m)\u001b[0m\u001b[0;34m\u001b[0m\u001b[0;34m\u001b[0m\u001b[0m\n",
      "\u001b[0;32m/usr/local/lib/python3.11/dist-packages/numpy/core/_dtype.py\u001b[0m in \u001b[0;36m__repr__\u001b[0;34m(dtype)\u001b[0m\n\u001b[1;32m     44\u001b[0m \u001b[0;34m\u001b[0m\u001b[0m\n\u001b[1;32m     45\u001b[0m \u001b[0;32mdef\u001b[0m \u001b[0m__repr__\u001b[0m\u001b[0;34m(\u001b[0m\u001b[0mdtype\u001b[0m\u001b[0;34m)\u001b[0m\u001b[0;34m:\u001b[0m\u001b[0;34m\u001b[0m\u001b[0;34m\u001b[0m\u001b[0m\n\u001b[0;32m---> 46\u001b[0;31m     \u001b[0marg_str\u001b[0m \u001b[0;34m=\u001b[0m \u001b[0m_construction_repr\u001b[0m\u001b[0;34m(\u001b[0m\u001b[0mdtype\u001b[0m\u001b[0;34m,\u001b[0m \u001b[0minclude_align\u001b[0m\u001b[0;34m=\u001b[0m\u001b[0;32mFalse\u001b[0m\u001b[0;34m)\u001b[0m\u001b[0;34m\u001b[0m\u001b[0;34m\u001b[0m\u001b[0m\n\u001b[0m\u001b[1;32m     47\u001b[0m     \u001b[0;32mif\u001b[0m \u001b[0mdtype\u001b[0m\u001b[0;34m.\u001b[0m\u001b[0misalignedstruct\u001b[0m\u001b[0;34m:\u001b[0m\u001b[0;34m\u001b[0m\u001b[0;34m\u001b[0m\u001b[0m\n\u001b[1;32m     48\u001b[0m         \u001b[0marg_str\u001b[0m \u001b[0;34m=\u001b[0m \u001b[0marg_str\u001b[0m \u001b[0;34m+\u001b[0m \u001b[0;34m\", align=True\"\u001b[0m\u001b[0;34m\u001b[0m\u001b[0;34m\u001b[0m\u001b[0m\n",
      "\u001b[0;32m/usr/local/lib/python3.11/dist-packages/numpy/core/_dtype.py\u001b[0m in \u001b[0;36m_construction_repr\u001b[0;34m(dtype, include_align, short)\u001b[0m\n\u001b[1;32m     98\u001b[0m         \u001b[0;32mreturn\u001b[0m \u001b[0m_subarray_str\u001b[0m\u001b[0;34m(\u001b[0m\u001b[0mdtype\u001b[0m\u001b[0;34m)\u001b[0m\u001b[0;34m\u001b[0m\u001b[0;34m\u001b[0m\u001b[0m\n\u001b[1;32m     99\u001b[0m     \u001b[0;32melse\u001b[0m\u001b[0;34m:\u001b[0m\u001b[0;34m\u001b[0m\u001b[0;34m\u001b[0m\u001b[0m\n\u001b[0;32m--> 100\u001b[0;31m         \u001b[0;32mreturn\u001b[0m \u001b[0m_scalar_str\u001b[0m\u001b[0;34m(\u001b[0m\u001b[0mdtype\u001b[0m\u001b[0;34m,\u001b[0m \u001b[0mshort\u001b[0m\u001b[0;34m=\u001b[0m\u001b[0mshort\u001b[0m\u001b[0;34m)\u001b[0m\u001b[0;34m\u001b[0m\u001b[0;34m\u001b[0m\u001b[0m\n\u001b[0m\u001b[1;32m    101\u001b[0m \u001b[0;34m\u001b[0m\u001b[0m\n\u001b[1;32m    102\u001b[0m \u001b[0;34m\u001b[0m\u001b[0m\n",
      "\u001b[0;32m/usr/local/lib/python3.11/dist-packages/numpy/core/_dtype.py\u001b[0m in \u001b[0;36m_scalar_str\u001b[0;34m(dtype, short)\u001b[0m\n\u001b[1;32m    141\u001b[0m         \u001b[0;32mreturn\u001b[0m \u001b[0;34m\"'%sm8%s'\"\u001b[0m \u001b[0;34m%\u001b[0m \u001b[0;34m(\u001b[0m\u001b[0mbyteorder\u001b[0m\u001b[0;34m,\u001b[0m \u001b[0m_datetime_metadata_str\u001b[0m\u001b[0;34m(\u001b[0m\u001b[0mdtype\u001b[0m\u001b[0;34m)\u001b[0m\u001b[0;34m)\u001b[0m\u001b[0;34m\u001b[0m\u001b[0;34m\u001b[0m\u001b[0m\n\u001b[1;32m    142\u001b[0m \u001b[0;34m\u001b[0m\u001b[0m\n\u001b[0;32m--> 143\u001b[0;31m     \u001b[0;32melif\u001b[0m \u001b[0mnp\u001b[0m\u001b[0;34m.\u001b[0m\u001b[0missubdtype\u001b[0m\u001b[0;34m(\u001b[0m\u001b[0mdtype\u001b[0m\u001b[0;34m,\u001b[0m \u001b[0mnp\u001b[0m\u001b[0;34m.\u001b[0m\u001b[0mnumber\u001b[0m\u001b[0;34m)\u001b[0m\u001b[0;34m:\u001b[0m\u001b[0;34m\u001b[0m\u001b[0;34m\u001b[0m\u001b[0m\n\u001b[0m\u001b[1;32m    144\u001b[0m         \u001b[0;31m# Short repr with endianness, like '<f8'\u001b[0m\u001b[0;34m\u001b[0m\u001b[0;34m\u001b[0m\u001b[0m\n\u001b[1;32m    145\u001b[0m         \u001b[0;32mif\u001b[0m \u001b[0mshort\u001b[0m \u001b[0;32mor\u001b[0m \u001b[0mdtype\u001b[0m\u001b[0;34m.\u001b[0m\u001b[0mbyteorder\u001b[0m \u001b[0;32mnot\u001b[0m \u001b[0;32min\u001b[0m \u001b[0;34m(\u001b[0m\u001b[0;34m'='\u001b[0m\u001b[0;34m,\u001b[0m \u001b[0;34m'|'\u001b[0m\u001b[0;34m)\u001b[0m\u001b[0;34m:\u001b[0m\u001b[0;34m\u001b[0m\u001b[0;34m\u001b[0m\u001b[0m\n",
      "\u001b[0;32m/usr/local/lib/python3.11/dist-packages/numpy/_core/numerictypes.py\u001b[0m in \u001b[0;36missubdtype\u001b[0;34m(arg1, arg2)\u001b[0m\n",
      "... last 4 frames repeated, from the frame below ...\n",
      "\u001b[0;32m/usr/local/lib/python3.11/dist-packages/numpy/core/_dtype.py\u001b[0m in \u001b[0;36m__repr__\u001b[0;34m(dtype)\u001b[0m\n\u001b[1;32m     44\u001b[0m \u001b[0;34m\u001b[0m\u001b[0m\n\u001b[1;32m     45\u001b[0m \u001b[0;32mdef\u001b[0m \u001b[0m__repr__\u001b[0m\u001b[0;34m(\u001b[0m\u001b[0mdtype\u001b[0m\u001b[0;34m)\u001b[0m\u001b[0;34m:\u001b[0m\u001b[0;34m\u001b[0m\u001b[0;34m\u001b[0m\u001b[0m\n\u001b[0;32m---> 46\u001b[0;31m     \u001b[0marg_str\u001b[0m \u001b[0;34m=\u001b[0m \u001b[0m_construction_repr\u001b[0m\u001b[0;34m(\u001b[0m\u001b[0mdtype\u001b[0m\u001b[0;34m,\u001b[0m \u001b[0minclude_align\u001b[0m\u001b[0;34m=\u001b[0m\u001b[0;32mFalse\u001b[0m\u001b[0;34m)\u001b[0m\u001b[0;34m\u001b[0m\u001b[0;34m\u001b[0m\u001b[0m\n\u001b[0m\u001b[1;32m     47\u001b[0m     \u001b[0;32mif\u001b[0m \u001b[0mdtype\u001b[0m\u001b[0;34m.\u001b[0m\u001b[0misalignedstruct\u001b[0m\u001b[0;34m:\u001b[0m\u001b[0;34m\u001b[0m\u001b[0;34m\u001b[0m\u001b[0m\n\u001b[1;32m     48\u001b[0m         \u001b[0marg_str\u001b[0m \u001b[0;34m=\u001b[0m \u001b[0marg_str\u001b[0m \u001b[0;34m+\u001b[0m \u001b[0;34m\", align=True\"\u001b[0m\u001b[0;34m\u001b[0m\u001b[0;34m\u001b[0m\u001b[0m\n",
      "\u001b[0;31mRecursionError\u001b[0m: maximum recursion depth exceeded"
     ]
    },
    {
     "ename": "TypeError",
     "evalue": "Unable to convert function return value to a Python type! The signature was\n\t() -> handle",
     "output_type": "error",
     "traceback": [
      "\u001b[0;31m---------------------------------------------------------------------------\u001b[0m",
      "\u001b[0;31mTypeError\u001b[0m                                 Traceback (most recent call last)",
      "\u001b[0;32m<ipython-input-6-d3819aab7c59>\u001b[0m in \u001b[0;36m<cell line: 0>\u001b[0;34m()\u001b[0m\n\u001b[1;32m      2\u001b[0m \u001b[0;32mimport\u001b[0m \u001b[0mcsv\u001b[0m\u001b[0;34m\u001b[0m\u001b[0;34m\u001b[0m\u001b[0m\n\u001b[1;32m      3\u001b[0m \u001b[0;32mimport\u001b[0m \u001b[0mnumpy\u001b[0m \u001b[0;32mas\u001b[0m \u001b[0mnp\u001b[0m\u001b[0;34m\u001b[0m\u001b[0;34m\u001b[0m\u001b[0m\n\u001b[0;32m----> 4\u001b[0;31m \u001b[0;32mimport\u001b[0m \u001b[0mtensorflow\u001b[0m \u001b[0;32mas\u001b[0m \u001b[0mtf\u001b[0m\u001b[0;34m\u001b[0m\u001b[0;34m\u001b[0m\u001b[0m\n\u001b[0m\u001b[1;32m      5\u001b[0m \u001b[0;32mfrom\u001b[0m \u001b[0msklearn\u001b[0m\u001b[0;34m.\u001b[0m\u001b[0mpreprocessing\u001b[0m \u001b[0;32mimport\u001b[0m \u001b[0mLabelEncoder\u001b[0m\u001b[0;34m\u001b[0m\u001b[0;34m\u001b[0m\u001b[0m\n\u001b[1;32m      6\u001b[0m \u001b[0;32mfrom\u001b[0m \u001b[0msklearn\u001b[0m\u001b[0;34m.\u001b[0m\u001b[0mutils\u001b[0m \u001b[0;32mimport\u001b[0m \u001b[0mshuffle\u001b[0m\u001b[0;34m\u001b[0m\u001b[0;34m\u001b[0m\u001b[0m\n",
      "\u001b[0;32m/usr/local/lib/python3.11/dist-packages/tensorflow/__init__.py\u001b[0m in \u001b[0;36m<module>\u001b[0;34m\u001b[0m\n\u001b[1;32m     36\u001b[0m \u001b[0;32mimport\u001b[0m \u001b[0mtyping\u001b[0m \u001b[0;32mas\u001b[0m \u001b[0m_typing\u001b[0m\u001b[0;34m\u001b[0m\u001b[0;34m\u001b[0m\u001b[0m\n\u001b[1;32m     37\u001b[0m \u001b[0;34m\u001b[0m\u001b[0m\n\u001b[0;32m---> 38\u001b[0;31m \u001b[0;32mfrom\u001b[0m \u001b[0mtensorflow\u001b[0m\u001b[0;34m.\u001b[0m\u001b[0mpython\u001b[0m\u001b[0;34m.\u001b[0m\u001b[0mtools\u001b[0m \u001b[0;32mimport\u001b[0m \u001b[0mmodule_util\u001b[0m \u001b[0;32mas\u001b[0m \u001b[0m_module_util\u001b[0m\u001b[0;34m\u001b[0m\u001b[0;34m\u001b[0m\u001b[0m\n\u001b[0m\u001b[1;32m     39\u001b[0m \u001b[0;32mfrom\u001b[0m \u001b[0mtensorflow\u001b[0m\u001b[0;34m.\u001b[0m\u001b[0mpython\u001b[0m\u001b[0;34m.\u001b[0m\u001b[0mutil\u001b[0m\u001b[0;34m.\u001b[0m\u001b[0mlazy_loader\u001b[0m \u001b[0;32mimport\u001b[0m \u001b[0mLazyLoader\u001b[0m \u001b[0;32mas\u001b[0m \u001b[0m_LazyLoader\u001b[0m\u001b[0;34m\u001b[0m\u001b[0;34m\u001b[0m\u001b[0m\n\u001b[1;32m     40\u001b[0m \u001b[0;34m\u001b[0m\u001b[0m\n",
      "\u001b[0;32m/usr/local/lib/python3.11/dist-packages/tensorflow/python/__init__.py\u001b[0m in \u001b[0;36m<module>\u001b[0;34m\u001b[0m\n\u001b[1;32m     40\u001b[0m \u001b[0;31m# from tensorflow.python import keras\u001b[0m\u001b[0;34m\u001b[0m\u001b[0;34m\u001b[0m\u001b[0m\n\u001b[1;32m     41\u001b[0m \u001b[0;31m# from tensorflow.python.layers import layers\u001b[0m\u001b[0;34m\u001b[0m\u001b[0;34m\u001b[0m\u001b[0m\n\u001b[0;32m---> 42\u001b[0;31m \u001b[0;32mfrom\u001b[0m \u001b[0mtensorflow\u001b[0m\u001b[0;34m.\u001b[0m\u001b[0mpython\u001b[0m\u001b[0;34m.\u001b[0m\u001b[0msaved_model\u001b[0m \u001b[0;32mimport\u001b[0m \u001b[0msaved_model\u001b[0m\u001b[0;34m\u001b[0m\u001b[0;34m\u001b[0m\u001b[0m\n\u001b[0m\u001b[1;32m     43\u001b[0m \u001b[0;32mfrom\u001b[0m \u001b[0mtensorflow\u001b[0m\u001b[0;34m.\u001b[0m\u001b[0mpython\u001b[0m\u001b[0;34m.\u001b[0m\u001b[0mtpu\u001b[0m \u001b[0;32mimport\u001b[0m \u001b[0mapi\u001b[0m\u001b[0;34m\u001b[0m\u001b[0;34m\u001b[0m\u001b[0m\n\u001b[1;32m     44\u001b[0m \u001b[0;34m\u001b[0m\u001b[0m\n",
      "\u001b[0;32m/usr/local/lib/python3.11/dist-packages/tensorflow/python/saved_model/saved_model.py\u001b[0m in \u001b[0;36m<module>\u001b[0;34m\u001b[0m\n\u001b[1;32m     18\u001b[0m \u001b[0;34m\u001b[0m\u001b[0m\n\u001b[1;32m     19\u001b[0m \u001b[0;31m# pylint: disable=unused-import\u001b[0m\u001b[0;34m\u001b[0m\u001b[0;34m\u001b[0m\u001b[0m\n\u001b[0;32m---> 20\u001b[0;31m \u001b[0;32mfrom\u001b[0m \u001b[0mtensorflow\u001b[0m\u001b[0;34m.\u001b[0m\u001b[0mpython\u001b[0m\u001b[0;34m.\u001b[0m\u001b[0msaved_model\u001b[0m \u001b[0;32mimport\u001b[0m \u001b[0mbuilder\u001b[0m\u001b[0;34m\u001b[0m\u001b[0;34m\u001b[0m\u001b[0m\n\u001b[0m\u001b[1;32m     21\u001b[0m \u001b[0;32mfrom\u001b[0m \u001b[0mtensorflow\u001b[0m\u001b[0;34m.\u001b[0m\u001b[0mpython\u001b[0m\u001b[0;34m.\u001b[0m\u001b[0msaved_model\u001b[0m \u001b[0;32mimport\u001b[0m \u001b[0mconstants\u001b[0m\u001b[0;34m\u001b[0m\u001b[0;34m\u001b[0m\u001b[0m\n\u001b[1;32m     22\u001b[0m \u001b[0;32mfrom\u001b[0m \u001b[0mtensorflow\u001b[0m\u001b[0;34m.\u001b[0m\u001b[0mpython\u001b[0m\u001b[0;34m.\u001b[0m\u001b[0msaved_model\u001b[0m \u001b[0;32mimport\u001b[0m \u001b[0mloader\u001b[0m\u001b[0;34m\u001b[0m\u001b[0;34m\u001b[0m\u001b[0m\n",
      "\u001b[0;32m/usr/local/lib/python3.11/dist-packages/tensorflow/python/saved_model/builder.py\u001b[0m in \u001b[0;36m<module>\u001b[0;34m\u001b[0m\n\u001b[1;32m     21\u001b[0m \u001b[0;34m\u001b[0m\u001b[0m\n\u001b[1;32m     22\u001b[0m \u001b[0;31m# pylint: disable=unused-import\u001b[0m\u001b[0;34m\u001b[0m\u001b[0;34m\u001b[0m\u001b[0m\n\u001b[0;32m---> 23\u001b[0;31m \u001b[0;32mfrom\u001b[0m \u001b[0mtensorflow\u001b[0m\u001b[0;34m.\u001b[0m\u001b[0mpython\u001b[0m\u001b[0;34m.\u001b[0m\u001b[0msaved_model\u001b[0m\u001b[0;34m.\u001b[0m\u001b[0mbuilder_impl\u001b[0m \u001b[0;32mimport\u001b[0m \u001b[0m_SavedModelBuilder\u001b[0m\u001b[0;34m\u001b[0m\u001b[0;34m\u001b[0m\u001b[0m\n\u001b[0m\u001b[1;32m     24\u001b[0m \u001b[0;32mfrom\u001b[0m \u001b[0mtensorflow\u001b[0m\u001b[0;34m.\u001b[0m\u001b[0mpython\u001b[0m\u001b[0;34m.\u001b[0m\u001b[0msaved_model\u001b[0m\u001b[0;34m.\u001b[0m\u001b[0mbuilder_impl\u001b[0m \u001b[0;32mimport\u001b[0m \u001b[0mSavedModelBuilder\u001b[0m\u001b[0;34m\u001b[0m\u001b[0;34m\u001b[0m\u001b[0m\n\u001b[1;32m     25\u001b[0m \u001b[0;31m# pylint: enable=unused-import\u001b[0m\u001b[0;34m\u001b[0m\u001b[0;34m\u001b[0m\u001b[0m\n",
      "\u001b[0;32m/usr/local/lib/python3.11/dist-packages/tensorflow/python/saved_model/builder_impl.py\u001b[0m in \u001b[0;36m<module>\u001b[0;34m\u001b[0m\n\u001b[1;32m     24\u001b[0m \u001b[0;32mfrom\u001b[0m \u001b[0mtensorflow\u001b[0m\u001b[0;34m.\u001b[0m\u001b[0mcore\u001b[0m\u001b[0;34m.\u001b[0m\u001b[0mprotobuf\u001b[0m \u001b[0;32mimport\u001b[0m \u001b[0msaved_model_pb2\u001b[0m\u001b[0;34m\u001b[0m\u001b[0;34m\u001b[0m\u001b[0m\n\u001b[1;32m     25\u001b[0m \u001b[0;32mfrom\u001b[0m \u001b[0mtensorflow\u001b[0m\u001b[0;34m.\u001b[0m\u001b[0mcore\u001b[0m\u001b[0;34m.\u001b[0m\u001b[0mprotobuf\u001b[0m \u001b[0;32mimport\u001b[0m \u001b[0msaver_pb2\u001b[0m\u001b[0;34m\u001b[0m\u001b[0;34m\u001b[0m\u001b[0m\n\u001b[0;32m---> 26\u001b[0;31m \u001b[0;32mfrom\u001b[0m \u001b[0mtensorflow\u001b[0m\u001b[0;34m.\u001b[0m\u001b[0mpython\u001b[0m\u001b[0;34m.\u001b[0m\u001b[0mframework\u001b[0m \u001b[0;32mimport\u001b[0m \u001b[0mdtypes\u001b[0m\u001b[0;34m\u001b[0m\u001b[0;34m\u001b[0m\u001b[0m\n\u001b[0m\u001b[1;32m     27\u001b[0m \u001b[0;32mfrom\u001b[0m \u001b[0mtensorflow\u001b[0m\u001b[0;34m.\u001b[0m\u001b[0mpython\u001b[0m\u001b[0;34m.\u001b[0m\u001b[0mframework\u001b[0m \u001b[0;32mimport\u001b[0m \u001b[0mops\u001b[0m\u001b[0;34m\u001b[0m\u001b[0;34m\u001b[0m\u001b[0m\n\u001b[1;32m     28\u001b[0m \u001b[0;32mfrom\u001b[0m \u001b[0mtensorflow\u001b[0m\u001b[0;34m.\u001b[0m\u001b[0mpython\u001b[0m\u001b[0;34m.\u001b[0m\u001b[0mframework\u001b[0m \u001b[0;32mimport\u001b[0m \u001b[0mtensor\u001b[0m\u001b[0;34m\u001b[0m\u001b[0;34m\u001b[0m\u001b[0m\n",
      "\u001b[0;32m/usr/local/lib/python3.11/dist-packages/tensorflow/python/framework/dtypes.py\u001b[0m in \u001b[0;36m<module>\u001b[0;34m\u001b[0m\n\u001b[1;32m     35\u001b[0m \u001b[0;32mfrom\u001b[0m \u001b[0mtensorflow\u001b[0m\u001b[0;34m.\u001b[0m\u001b[0mtsl\u001b[0m\u001b[0;34m.\u001b[0m\u001b[0mpython\u001b[0m\u001b[0;34m.\u001b[0m\u001b[0mlib\u001b[0m\u001b[0;34m.\u001b[0m\u001b[0mcore\u001b[0m \u001b[0;32mimport\u001b[0m \u001b[0mpywrap_ml_dtypes\u001b[0m\u001b[0;34m\u001b[0m\u001b[0;34m\u001b[0m\u001b[0m\n\u001b[1;32m     36\u001b[0m \u001b[0;34m\u001b[0m\u001b[0m\n\u001b[0;32m---> 37\u001b[0;31m \u001b[0m_np_bfloat16\u001b[0m \u001b[0;34m=\u001b[0m \u001b[0mpywrap_ml_dtypes\u001b[0m\u001b[0;34m.\u001b[0m\u001b[0mbfloat16\u001b[0m\u001b[0;34m(\u001b[0m\u001b[0;34m)\u001b[0m\u001b[0;34m\u001b[0m\u001b[0;34m\u001b[0m\u001b[0m\n\u001b[0m\u001b[1;32m     38\u001b[0m \u001b[0m_np_float8_e4m3fn\u001b[0m \u001b[0;34m=\u001b[0m \u001b[0mpywrap_ml_dtypes\u001b[0m\u001b[0;34m.\u001b[0m\u001b[0mfloat8_e4m3fn\u001b[0m\u001b[0;34m(\u001b[0m\u001b[0;34m)\u001b[0m\u001b[0;34m\u001b[0m\u001b[0;34m\u001b[0m\u001b[0m\n\u001b[1;32m     39\u001b[0m \u001b[0m_np_float8_e5m2\u001b[0m \u001b[0;34m=\u001b[0m \u001b[0mpywrap_ml_dtypes\u001b[0m\u001b[0;34m.\u001b[0m\u001b[0mfloat8_e5m2\u001b[0m\u001b[0;34m(\u001b[0m\u001b[0;34m)\u001b[0m\u001b[0;34m\u001b[0m\u001b[0;34m\u001b[0m\u001b[0m\n",
      "\u001b[0;31mTypeError\u001b[0m: Unable to convert function return value to a Python type! The signature was\n\t() -> handle"
     ]
    }
   ],
   "source": [
    "#import pandas as pd\n",
    "import csv\n",
    "import numpy as np\n",
    "import tensorflow as tf\n",
    "from sklearn.preprocessing import LabelEncoder\n",
    "from sklearn.utils import shuffle\n",
    "#import tensorflow_privacy as tfp\n",
    "from sklearn.model_selection import train_test_split\n",
    "from sklearn.preprocessing import StandardScaler\n",
    "from sklearn.ensemble import RandomForestRegressor\n",
    "from sklearn.metrics import mean_squared_error\n",
    "from tqdm import tqdm"
   ]
  },
  {
   "cell_type": "code",
   "execution_count": null,
   "metadata": {
    "colab": {
     "base_uri": "https://localhost:8080/",
     "height": 304
    },
    "id": "kiyBaqfGaIfI",
    "outputId": "f8aa7ff1-2202-4988-e592-e5165189e5d8"
   },
   "outputs": [
    {
     "ename": "MessageError",
     "evalue": "Error: credential propagation was unsuccessful",
     "output_type": "error",
     "traceback": [
      "\u001b[0;31m---------------------------------------------------------------------------\u001b[0m",
      "\u001b[0;31mMessageError\u001b[0m                              Traceback (most recent call last)",
      "\u001b[0;32m<ipython-input-1-d5df0069828e>\u001b[0m in \u001b[0;36m<cell line: 0>\u001b[0;34m()\u001b[0m\n\u001b[1;32m      1\u001b[0m \u001b[0;32mfrom\u001b[0m \u001b[0mgoogle\u001b[0m\u001b[0;34m.\u001b[0m\u001b[0mcolab\u001b[0m \u001b[0;32mimport\u001b[0m \u001b[0mdrive\u001b[0m\u001b[0;34m\u001b[0m\u001b[0;34m\u001b[0m\u001b[0m\n\u001b[0;32m----> 2\u001b[0;31m \u001b[0mdrive\u001b[0m\u001b[0;34m.\u001b[0m\u001b[0mmount\u001b[0m\u001b[0;34m(\u001b[0m\u001b[0;34m'/content/drive'\u001b[0m\u001b[0;34m)\u001b[0m\u001b[0;34m\u001b[0m\u001b[0;34m\u001b[0m\u001b[0m\n\u001b[0m",
      "\u001b[0;32m/usr/local/lib/python3.11/dist-packages/google/colab/drive.py\u001b[0m in \u001b[0;36mmount\u001b[0;34m(mountpoint, force_remount, timeout_ms, readonly)\u001b[0m\n\u001b[1;32m     98\u001b[0m \u001b[0;32mdef\u001b[0m \u001b[0mmount\u001b[0m\u001b[0;34m(\u001b[0m\u001b[0mmountpoint\u001b[0m\u001b[0;34m,\u001b[0m \u001b[0mforce_remount\u001b[0m\u001b[0;34m=\u001b[0m\u001b[0;32mFalse\u001b[0m\u001b[0;34m,\u001b[0m \u001b[0mtimeout_ms\u001b[0m\u001b[0;34m=\u001b[0m\u001b[0;36m120000\u001b[0m\u001b[0;34m,\u001b[0m \u001b[0mreadonly\u001b[0m\u001b[0;34m=\u001b[0m\u001b[0;32mFalse\u001b[0m\u001b[0;34m)\u001b[0m\u001b[0;34m:\u001b[0m\u001b[0;34m\u001b[0m\u001b[0;34m\u001b[0m\u001b[0m\n\u001b[1;32m     99\u001b[0m   \u001b[0;34m\"\"\"Mount your Google Drive at the specified mountpoint path.\"\"\"\u001b[0m\u001b[0;34m\u001b[0m\u001b[0;34m\u001b[0m\u001b[0m\n\u001b[0;32m--> 100\u001b[0;31m   return _mount(\n\u001b[0m\u001b[1;32m    101\u001b[0m       \u001b[0mmountpoint\u001b[0m\u001b[0;34m,\u001b[0m\u001b[0;34m\u001b[0m\u001b[0;34m\u001b[0m\u001b[0m\n\u001b[1;32m    102\u001b[0m       \u001b[0mforce_remount\u001b[0m\u001b[0;34m=\u001b[0m\u001b[0mforce_remount\u001b[0m\u001b[0;34m,\u001b[0m\u001b[0;34m\u001b[0m\u001b[0;34m\u001b[0m\u001b[0m\n",
      "\u001b[0;32m/usr/local/lib/python3.11/dist-packages/google/colab/drive.py\u001b[0m in \u001b[0;36m_mount\u001b[0;34m(mountpoint, force_remount, timeout_ms, ephemeral, readonly)\u001b[0m\n\u001b[1;32m    135\u001b[0m   )\n\u001b[1;32m    136\u001b[0m   \u001b[0;32mif\u001b[0m \u001b[0mephemeral\u001b[0m\u001b[0;34m:\u001b[0m\u001b[0;34m\u001b[0m\u001b[0;34m\u001b[0m\u001b[0m\n\u001b[0;32m--> 137\u001b[0;31m     _message.blocking_request(\n\u001b[0m\u001b[1;32m    138\u001b[0m         \u001b[0;34m'request_auth'\u001b[0m\u001b[0;34m,\u001b[0m\u001b[0;34m\u001b[0m\u001b[0;34m\u001b[0m\u001b[0m\n\u001b[1;32m    139\u001b[0m         \u001b[0mrequest\u001b[0m\u001b[0;34m=\u001b[0m\u001b[0;34m{\u001b[0m\u001b[0;34m'authType'\u001b[0m\u001b[0;34m:\u001b[0m \u001b[0;34m'dfs_ephemeral'\u001b[0m\u001b[0;34m}\u001b[0m\u001b[0;34m,\u001b[0m\u001b[0;34m\u001b[0m\u001b[0;34m\u001b[0m\u001b[0m\n",
      "\u001b[0;32m/usr/local/lib/python3.11/dist-packages/google/colab/_message.py\u001b[0m in \u001b[0;36mblocking_request\u001b[0;34m(request_type, request, timeout_sec, parent)\u001b[0m\n\u001b[1;32m    174\u001b[0m       \u001b[0mrequest_type\u001b[0m\u001b[0;34m,\u001b[0m \u001b[0mrequest\u001b[0m\u001b[0;34m,\u001b[0m \u001b[0mparent\u001b[0m\u001b[0;34m=\u001b[0m\u001b[0mparent\u001b[0m\u001b[0;34m,\u001b[0m \u001b[0mexpect_reply\u001b[0m\u001b[0;34m=\u001b[0m\u001b[0;32mTrue\u001b[0m\u001b[0;34m\u001b[0m\u001b[0;34m\u001b[0m\u001b[0m\n\u001b[1;32m    175\u001b[0m   )\n\u001b[0;32m--> 176\u001b[0;31m   \u001b[0;32mreturn\u001b[0m \u001b[0mread_reply_from_input\u001b[0m\u001b[0;34m(\u001b[0m\u001b[0mrequest_id\u001b[0m\u001b[0;34m,\u001b[0m \u001b[0mtimeout_sec\u001b[0m\u001b[0;34m)\u001b[0m\u001b[0;34m\u001b[0m\u001b[0;34m\u001b[0m\u001b[0m\n\u001b[0m",
      "\u001b[0;32m/usr/local/lib/python3.11/dist-packages/google/colab/_message.py\u001b[0m in \u001b[0;36mread_reply_from_input\u001b[0;34m(message_id, timeout_sec)\u001b[0m\n\u001b[1;32m    101\u001b[0m     ):\n\u001b[1;32m    102\u001b[0m       \u001b[0;32mif\u001b[0m \u001b[0;34m'error'\u001b[0m \u001b[0;32min\u001b[0m \u001b[0mreply\u001b[0m\u001b[0;34m:\u001b[0m\u001b[0;34m\u001b[0m\u001b[0;34m\u001b[0m\u001b[0m\n\u001b[0;32m--> 103\u001b[0;31m         \u001b[0;32mraise\u001b[0m \u001b[0mMessageError\u001b[0m\u001b[0;34m(\u001b[0m\u001b[0mreply\u001b[0m\u001b[0;34m[\u001b[0m\u001b[0;34m'error'\u001b[0m\u001b[0;34m]\u001b[0m\u001b[0;34m)\u001b[0m\u001b[0;34m\u001b[0m\u001b[0;34m\u001b[0m\u001b[0m\n\u001b[0m\u001b[1;32m    104\u001b[0m       \u001b[0;32mreturn\u001b[0m \u001b[0mreply\u001b[0m\u001b[0;34m.\u001b[0m\u001b[0mget\u001b[0m\u001b[0;34m(\u001b[0m\u001b[0;34m'data'\u001b[0m\u001b[0;34m,\u001b[0m \u001b[0;32mNone\u001b[0m\u001b[0;34m)\u001b[0m\u001b[0;34m\u001b[0m\u001b[0;34m\u001b[0m\u001b[0m\n\u001b[1;32m    105\u001b[0m \u001b[0;34m\u001b[0m\u001b[0m\n",
      "\u001b[0;31mMessageError\u001b[0m: Error: credential propagation was unsuccessful"
     ]
    }
   ],
   "source": [
    "from google.colab import drive\n",
    "drive.mount('/content/drive')"
   ]
  },
  {
   "cell_type": "markdown",
   "metadata": {
    "id": "9WFQoV7W74lk"
   },
   "source": [
    "# File conversions and defining paths"
   ]
  },
  {
   "cell_type": "code",
   "execution_count": null,
   "metadata": {
    "id": "k5cNUdOHkedI"
   },
   "outputs": [],
   "source": [
    "# Define input and output file paths for all files\n",
    "files = [\n",
    "    {\n",
    "        'txt_file': '/content/drive/MyDrive/datasets/100000-Patients/AdmissionsCorePopulatedTable.txt',\n",
    "        'csv_file': '/content/drive/MyDrive/datasets/100000-Patients/AdmissionsCorePopulatedTable.csv'\n",
    "    },\n",
    "    {\n",
    "        'txt_file': '/content/drive/MyDrive/datasets/100000-Patients/AdmissionsDiagnosesCorePopulatedTable.txt',\n",
    "        'csv_file': '/content/drive/MyDrive/datasets/100000-Patients/AdmissionsDiagnosesCorePopulatedTable.csv'\n",
    "    },\n",
    "    {\n",
    "        'txt_file': '/content/drive/MyDrive/datasets/100000-Patients/LabsCorePopulatedTable.txt',\n",
    "        'csv_file': '/content/drive/MyDrive/datasets/100000-Patients/LabsCorePopulatedTable.csv'\n",
    "    },\n",
    "    {\n",
    "        'txt_file': '/content/drive/MyDrive/datasets/100000-Patients/PatientCorePopulatedTable.txt',\n",
    "        'csv_file': '/content/drive/MyDrive/datasets/100000-Patients/PatientCorePopulatedTable.csv'\n",
    "    }\n",
    "]"
   ]
  },
  {
   "cell_type": "code",
   "execution_count": null,
   "metadata": {
    "id": "tOmZq16Tm1yH"
   },
   "outputs": [],
   "source": [
    "# Define the file paths\n",
    "admissions_file = '/content/drive/MyDrive/datasets/100000-Patients/AdmissionsCorePopulatedTable.csv'\n",
    "diagnoses_file = '/content/drive/MyDrive/datasets/100000-Patients/AdmissionsDiagnosesCorePopulatedTable.csv'\n",
    "patients_file = '/content/drive/MyDrive/datasets/100000-Patients/PatientCorePopulatedTable.csv'\n",
    "labs_file = '/content/drive/MyDrive/datasets/100000-Patients/LabsCorePopulatedTable.csv'"
   ]
  },
  {
   "cell_type": "code",
   "execution_count": null,
   "metadata": {
    "colab": {
     "base_uri": "https://localhost:8080/",
     "height": 211
    },
    "collapsed": true,
    "id": "Qab-jbaaPVJu",
    "outputId": "25426969-1701-475d-ffa1-22a880f1963f"
   },
   "outputs": [
    {
     "ename": "FileNotFoundError",
     "evalue": "[Errno 2] No such file or directory: '/content/drive/MyDrive/datasets/100000-Patients/AdmissionsCorePopulatedTable.txt'",
     "output_type": "error",
     "traceback": [
      "\u001b[0;31m---------------------------------------------------------------------------\u001b[0m",
      "\u001b[0;31mFileNotFoundError\u001b[0m                         Traceback (most recent call last)",
      "\u001b[0;32m<ipython-input-3-6c9534749568>\u001b[0m in \u001b[0;36m<cell line: 0>\u001b[0;34m()\u001b[0m\n\u001b[1;32m      5\u001b[0m \u001b[0;34m\u001b[0m\u001b[0m\n\u001b[1;32m      6\u001b[0m     \u001b[0;31m# Read the .txt file and write to a .csv file\u001b[0m\u001b[0;34m\u001b[0m\u001b[0;34m\u001b[0m\u001b[0m\n\u001b[0;32m----> 7\u001b[0;31m     \u001b[0;32mwith\u001b[0m \u001b[0mopen\u001b[0m\u001b[0;34m(\u001b[0m\u001b[0mtxt_file\u001b[0m\u001b[0;34m,\u001b[0m \u001b[0;34m'r'\u001b[0m\u001b[0;34m)\u001b[0m \u001b[0;32mas\u001b[0m \u001b[0minfile\u001b[0m\u001b[0;34m,\u001b[0m \u001b[0mopen\u001b[0m\u001b[0;34m(\u001b[0m\u001b[0mcsv_file\u001b[0m\u001b[0;34m,\u001b[0m \u001b[0;34m'w'\u001b[0m\u001b[0;34m,\u001b[0m \u001b[0mnewline\u001b[0m\u001b[0;34m=\u001b[0m\u001b[0;34m''\u001b[0m\u001b[0;34m)\u001b[0m \u001b[0;32mas\u001b[0m \u001b[0moutfile\u001b[0m\u001b[0;34m:\u001b[0m\u001b[0;34m\u001b[0m\u001b[0;34m\u001b[0m\u001b[0m\n\u001b[0m\u001b[1;32m      8\u001b[0m         \u001b[0mwriter\u001b[0m \u001b[0;34m=\u001b[0m \u001b[0mcsv\u001b[0m\u001b[0;34m.\u001b[0m\u001b[0mwriter\u001b[0m\u001b[0;34m(\u001b[0m\u001b[0moutfile\u001b[0m\u001b[0;34m)\u001b[0m\u001b[0;34m\u001b[0m\u001b[0;34m\u001b[0m\u001b[0m\n\u001b[1;32m      9\u001b[0m         \u001b[0;32mfor\u001b[0m \u001b[0mline\u001b[0m \u001b[0;32min\u001b[0m \u001b[0minfile\u001b[0m\u001b[0;34m:\u001b[0m\u001b[0;34m\u001b[0m\u001b[0;34m\u001b[0m\u001b[0m\n",
      "\u001b[0;31mFileNotFoundError\u001b[0m: [Errno 2] No such file or directory: '/content/drive/MyDrive/datasets/100000-Patients/AdmissionsCorePopulatedTable.txt'"
     ]
    }
   ],
   "source": [
    "# Process each file\n",
    "for file in files:\n",
    "    txt_file = file['txt_file']\n",
    "    csv_file = file['csv_file']\n",
    "\n",
    "    # Read the .txt file and write to a .csv file\n",
    "    with open(txt_file, 'r') as infile, open(csv_file, 'w', newline='') as outfile:\n",
    "        writer = csv.writer(outfile)\n",
    "        for line in infile:\n",
    "            # Assuming tab or comma separates values in the .txt file\n",
    "            row = line.strip().split('\\t')  # Replace '\\t' with ',' if comma-separated\n",
    "            writer.writerow(row)\n",
    "\n",
    "    print(f\"File converted and saved as {csv_file}\")"
   ]
  },
  {
   "cell_type": "markdown",
   "metadata": {
    "id": "gn37ezA_8fHn"
   },
   "source": [
    "# Basic Analysis"
   ]
  },
  {
   "cell_type": "code",
   "execution_count": null,
   "metadata": {
    "colab": {
     "base_uri": "https://localhost:8080/"
    },
    "id": "3aHE2s_YZWOW",
    "outputId": "c87f7b4f-ddff-4161-8f3b-ec12c01aad32"
   },
   "outputs": [
    {
     "name": "stdout",
     "output_type": "stream",
     "text": [
      "Column names of /content/drive/MyDrive/datasets/100000-Patients/AdmissionsCorePopulatedTable.csv:\n",
      "['PatientID', 'AdmissionID', 'AdmissionStartDate', 'AdmissionEndDate']\n",
      "\n",
      "--------------------------------------------------\n",
      "\n",
      "Column names of /content/drive/MyDrive/datasets/100000-Patients/AdmissionsDiagnosesCorePopulatedTable.csv:\n",
      "['PatientID', 'AdmissionID', 'PrimaryDiagnosisCode', 'PrimaryDiagnosisDescription']\n",
      "\n",
      "--------------------------------------------------\n",
      "\n",
      "Column names of /content/drive/MyDrive/datasets/100000-Patients/LabsCorePopulatedTable.csv:\n",
      "['PatientID', 'AdmissionID', 'LabName', 'LabValue', 'LabUnits', 'LabDateTime']\n",
      "\n",
      "--------------------------------------------------\n",
      "\n",
      "Column names of /content/drive/MyDrive/datasets/100000-Patients/PatientCorePopulatedTable.csv:\n",
      "['PatientID', 'PatientGender', 'PatientDateOfBirth', 'PatientRace', 'PatientMaritalStatus', 'PatientLanguage', 'PatientPopulationPercentageBelowPoverty']\n",
      "\n",
      "--------------------------------------------------\n",
      "\n"
     ]
    }
   ],
   "source": [
    "# Process each file\n",
    "for file in files:\n",
    "    csv_file = file['csv_file']\n",
    "\n",
    "    # If the file is too large, use nrows=0 to load only the header\n",
    "    try:\n",
    "        # Load only the column names (header) for large files\n",
    "        data = pd.read_csv(csv_file, nrows=0)\n",
    "\n",
    "        # Display the column names\n",
    "        print(f\"Column names of {csv_file}:\")\n",
    "        print(data.columns.tolist())  # Convert the column names to a list for better readability\n",
    "        print(\"\\n\" + \"-\"*50 + \"\\n\")\n",
    "    except Exception as e:\n",
    "        print(f\"Error processing {csv_file}: {e}\")"
   ]
  },
  {
   "cell_type": "code",
   "execution_count": null,
   "metadata": {
    "colab": {
     "base_uri": "https://localhost:8080/"
    },
    "id": "FGlhxZyMnEXr",
    "outputId": "ec65bb66-3970-45fb-b284-a5b1b32d9a4e"
   },
   "outputs": [
    {
     "name": "stdout",
     "output_type": "stream",
     "text": [
      "All patients from AdmissionsCorePopulatedTable are present in both AdmissionsDiagnosesCorePopulatedTable and PatientCorePopulatedTable.\n"
     ]
    }
   ],
   "source": [
    "# Load the patient IDs from each file\n",
    "admissions_data = pd.read_csv(admissions_file)\n",
    "diagnoses_data = pd.read_csv(diagnoses_file)\n",
    "patients_data = pd.read_csv(patients_file)\n",
    "\n",
    "# Extract the unique patient IDs from each dataset\n",
    "admissions_patients = admissions_data['PatientID'].unique()\n",
    "diagnoses_patients = diagnoses_data['PatientID'].unique()\n",
    "patients_patients = patients_data['PatientID'].unique()\n",
    "\n",
    "# Check if all patients in one file are present in the other two files\n",
    "all_in_diagnoses = all(patient in diagnoses_patients for patient in admissions_patients)\n",
    "all_in_patients = all(patient in patients_patients for patient in admissions_patients)\n",
    "\n",
    "# Print results\n",
    "if all_in_diagnoses and all_in_patients:\n",
    "    print(\"All patients from AdmissionsCorePopulatedTable are present in both AdmissionsDiagnosesCorePopulatedTable and PatientCorePopulatedTable.\")\n",
    "else:\n",
    "    if not all_in_diagnoses:\n",
    "        print(\"Some patients from AdmissionsCorePopulatedTable are missing in AdmissionsDiagnosesCorePopulatedTable.\")\n",
    "    if not all_in_patients:\n",
    "        print(\"Some patients from AdmissionsCorePopulatedTable are missing in PatientCorePopulatedTable.\")"
   ]
  },
  {
   "cell_type": "code",
   "execution_count": null,
   "metadata": {
    "colab": {
     "base_uri": "https://localhost:8080/"
    },
    "id": "4ytGIpJSIoYC",
    "outputId": "4fa8f98a-b5ed-46ad-e04c-13be9a59b7b1"
   },
   "outputs": [
    {
     "name": "stdout",
     "output_type": "stream",
     "text": [
      "AdmissionsCorePopulatedTable.csv:\n",
      "  Unique PatientID count: 100000\n",
      "  Total PatientID count: 361760\n",
      "\n",
      "AdmissionsDiagnosesCorePopulatedTable.csv:\n",
      "  Unique PatientID count: 100000\n",
      "  Total PatientID count: 361760\n",
      "\n",
      "PatientCorePopulatedTable.csv:\n",
      "  Unique PatientID count: 100000\n",
      "  Total PatientID count: 100000\n",
      "\n"
     ]
    }
   ],
   "source": [
    "# Load the datasets\n",
    "admissions_data = pd.read_csv(admissions_file)\n",
    "diagnoses_data = pd.read_csv(diagnoses_file)\n",
    "patients_data = pd.read_csv(patients_file)\n",
    "\n",
    "# Calculate the unique and total PatientID counts for each file\n",
    "def print_patient_counts(data, file_name):\n",
    "    unique_patient_count = data['PatientID'].nunique()\n",
    "    total_patient_count = len(data['PatientID'])\n",
    "    print(f\"{file_name}:\")\n",
    "    print(f\"  Unique PatientID count: {unique_patient_count}\")\n",
    "    print(f\"  Total PatientID count: {total_patient_count}\\n\")\n",
    "\n",
    "# Print the counts for each dataset\n",
    "print_patient_counts(admissions_data, \"AdmissionsCorePopulatedTable.csv\")\n",
    "print_patient_counts(diagnoses_data, \"AdmissionsDiagnosesCorePopulatedTable.csv\")\n",
    "print_patient_counts(patients_data, \"PatientCorePopulatedTable.csv\")"
   ]
  },
  {
   "cell_type": "code",
   "execution_count": null,
   "metadata": {
    "colab": {
     "base_uri": "https://localhost:8080/",
     "height": 211
    },
    "collapsed": true,
    "id": "v2ZA7Nb0XG-W",
    "outputId": "5a50f336-8b40-47f1-d088-1ce48c35858a"
   },
   "outputs": [
    {
     "ename": "NameError",
     "evalue": "name 'pd' is not defined",
     "output_type": "error",
     "traceback": [
      "\u001b[0;31m---------------------------------------------------------------------------\u001b[0m",
      "\u001b[0;31mNameError\u001b[0m                                 Traceback (most recent call last)",
      "\u001b[0;32m<ipython-input-1-644c287bbe26>\u001b[0m in \u001b[0;36m<cell line: 0>\u001b[0;34m()\u001b[0m\n\u001b[0;32m----> 1\u001b[0;31m \u001b[0madmissions_data\u001b[0m \u001b[0;34m=\u001b[0m \u001b[0mpd\u001b[0m\u001b[0;34m.\u001b[0m\u001b[0mread_csv\u001b[0m\u001b[0;34m(\u001b[0m\u001b[0madmissions_file\u001b[0m\u001b[0;34m)\u001b[0m\u001b[0;34m\u001b[0m\u001b[0;34m\u001b[0m\u001b[0m\n\u001b[0m\u001b[1;32m      2\u001b[0m \u001b[0;32mdef\u001b[0m \u001b[0mprint_patient_counts\u001b[0m\u001b[0;34m(\u001b[0m\u001b[0mdata\u001b[0m\u001b[0;34m,\u001b[0m \u001b[0mfile_name\u001b[0m\u001b[0;34m)\u001b[0m\u001b[0;34m:\u001b[0m\u001b[0;34m\u001b[0m\u001b[0;34m\u001b[0m\u001b[0m\n\u001b[1;32m      3\u001b[0m     \u001b[0munique_AdmissionStartDate\u001b[0m \u001b[0;34m=\u001b[0m \u001b[0mdata\u001b[0m\u001b[0;34m[\u001b[0m\u001b[0;34m'AdmissionStartDate'\u001b[0m\u001b[0;34m]\u001b[0m\u001b[0;34m.\u001b[0m\u001b[0mnunique\u001b[0m\u001b[0;34m(\u001b[0m\u001b[0;34m)\u001b[0m\u001b[0;34m\u001b[0m\u001b[0;34m\u001b[0m\u001b[0m\n\u001b[1;32m      4\u001b[0m     \u001b[0mtotal_AdmissionStartDate\u001b[0m \u001b[0;34m=\u001b[0m \u001b[0mlen\u001b[0m\u001b[0;34m(\u001b[0m\u001b[0mdata\u001b[0m\u001b[0;34m[\u001b[0m\u001b[0;34m'AdmissionStartDate'\u001b[0m\u001b[0;34m]\u001b[0m\u001b[0;34m)\u001b[0m\u001b[0;34m\u001b[0m\u001b[0;34m\u001b[0m\u001b[0m\n\u001b[1;32m      5\u001b[0m     \u001b[0mprint\u001b[0m\u001b[0;34m(\u001b[0m\u001b[0;34mf\"{file_name}:\"\u001b[0m\u001b[0;34m)\u001b[0m\u001b[0;34m\u001b[0m\u001b[0;34m\u001b[0m\u001b[0m\n",
      "\u001b[0;31mNameError\u001b[0m: name 'pd' is not defined"
     ]
    }
   ],
   "source": [
    "# Calculate the unique and total AdmissionStartDate counts for AdmissionsCorePopulatedTable file\n",
    "admissions_data = pd.read_csv(admissions_file)\n",
    "def print_patient_counts(data, file_name):\n",
    "    unique_AdmissionStartDate = data['AdmissionStartDate'].nunique()\n",
    "    total_AdmissionStartDate = len(data['AdmissionStartDate'])\n",
    "    print(f\"{file_name}:\")\n",
    "    print(f\"  Unique AdmissionStartDate count: {unique_AdmissionStartDate}\")\n",
    "    print(f\"  Total AdmissionStartDate count: {total_AdmissionStartDate}\\n\")\n",
    "\n",
    "print_patient_counts(admissions_data, \"AdmissionsCorePopulatedTable.csv\")"
   ]
  },
  {
   "cell_type": "code",
   "execution_count": null,
   "metadata": {
    "colab": {
     "base_uri": "https://localhost:8080/",
     "height": 211
    },
    "collapsed": true,
    "id": "5OHM7NbnLAPO",
    "outputId": "09965a38-a710-451a-cb14-4be4d9c7ecc8"
   },
   "outputs": [
    {
     "ename": "NameError",
     "evalue": "name 'pd' is not defined",
     "output_type": "error",
     "traceback": [
      "\u001b[0;31m---------------------------------------------------------------------------\u001b[0m",
      "\u001b[0;31mNameError\u001b[0m                                 Traceback (most recent call last)",
      "\u001b[0;32m<ipython-input-3-ae45411c0d7b>\u001b[0m in \u001b[0;36m<cell line: 0>\u001b[0;34m()\u001b[0m\n\u001b[1;32m      7\u001b[0m \u001b[0;34m\u001b[0m\u001b[0m\n\u001b[1;32m      8\u001b[0m \u001b[0;31m# Process the file in chunks\u001b[0m\u001b[0;34m\u001b[0m\u001b[0;34m\u001b[0m\u001b[0m\n\u001b[0;32m----> 9\u001b[0;31m \u001b[0;32mfor\u001b[0m \u001b[0mchunk\u001b[0m \u001b[0;32min\u001b[0m \u001b[0mpd\u001b[0m\u001b[0;34m.\u001b[0m\u001b[0mread_csv\u001b[0m\u001b[0;34m(\u001b[0m\u001b[0mlabs_file\u001b[0m\u001b[0;34m,\u001b[0m \u001b[0mchunksize\u001b[0m\u001b[0;34m=\u001b[0m\u001b[0mchunk_size\u001b[0m\u001b[0;34m)\u001b[0m\u001b[0;34m:\u001b[0m\u001b[0;34m\u001b[0m\u001b[0;34m\u001b[0m\u001b[0m\n\u001b[0m\u001b[1;32m     10\u001b[0m     \u001b[0;31m# Extract the PatientID column\u001b[0m\u001b[0;34m\u001b[0m\u001b[0;34m\u001b[0m\u001b[0m\n\u001b[1;32m     11\u001b[0m     \u001b[0mpatient_ids\u001b[0m \u001b[0;34m=\u001b[0m \u001b[0mchunk\u001b[0m\u001b[0;34m[\u001b[0m\u001b[0;34m'PatientID'\u001b[0m\u001b[0;34m]\u001b[0m\u001b[0;34m\u001b[0m\u001b[0;34m\u001b[0m\u001b[0m\n",
      "\u001b[0;31mNameError\u001b[0m: name 'pd' is not defined"
     ]
    }
   ],
   "source": [
    "# Initialize counters for unique and total PatientID\n",
    "unique_patient_ids = set()\n",
    "total_patient_count = 0\n",
    "\n",
    "# Define the chunk size\n",
    "chunk_size = 50000\n",
    "\n",
    "# Process the file in chunks\n",
    "for chunk in pd.read_csv(labs_file, chunksize=chunk_size):\n",
    "    # Extract the PatientID column\n",
    "    patient_ids = chunk['PatientID']\n",
    "\n",
    "    # Update the set of unique patient IDs\n",
    "    unique_patient_ids.update(patient_ids)\n",
    "\n",
    "    # Update the total patient count\n",
    "    total_patient_count += len(patient_ids)\n",
    "\n",
    "# Print the results\n",
    "print(f\"LabsCorePopulatedTable.csv:\")\n",
    "print(f\"  Unique PatientID count: {len(unique_patient_ids)}\")\n",
    "print(f\"  Total PatientID count: {total_patient_count}\")"
   ]
  },
  {
   "cell_type": "code",
   "execution_count": null,
   "metadata": {
    "colab": {
     "base_uri": "https://localhost:8080/"
    },
    "id": "9CE2R7rNNIxA",
    "outputId": "9dccaf34-36ac-47a4-ad35-c2b9c3b52803"
   },
   "outputs": [
    {
     "name": "stdout",
     "output_type": "stream",
     "text": [
      "                              PatientID  AdmissionID  \\\n",
      "0  BF7165BC-CCD9-4CE4-944F-E3C9786B7BF3            1   \n",
      "1  BF7165BC-CCD9-4CE4-944F-E3C9786B7BF3            1   \n",
      "2  BF7165BC-CCD9-4CE4-944F-E3C9786B7BF3            1   \n",
      "3  BF7165BC-CCD9-4CE4-944F-E3C9786B7BF3            1   \n",
      "4  BF7165BC-CCD9-4CE4-944F-E3C9786B7BF3            1   \n",
      "5  BF7165BC-CCD9-4CE4-944F-E3C9786B7BF3            1   \n",
      "6  BF7165BC-CCD9-4CE4-944F-E3C9786B7BF3            1   \n",
      "7  BF7165BC-CCD9-4CE4-944F-E3C9786B7BF3            1   \n",
      "8  BF7165BC-CCD9-4CE4-944F-E3C9786B7BF3            1   \n",
      "9  BF7165BC-CCD9-4CE4-944F-E3C9786B7BF3            1   \n",
      "\n",
      "                        LabName  LabValue LabUnits  \\\n",
      "0           METABOLIC: ALT/SGPT      40.0      U/L   \n",
      "1                CBC: MONOCYTES       0.9   k/cumm   \n",
      "2            METABOLIC: GLUCOSE     134.2    mg/dL   \n",
      "3                      CBC: RDW      15.0        %   \n",
      "4            METABOLIC: ALBUMIN       2.8    gm/dL   \n",
      "5   URINALYSIS: RED BLOOD CELLS       0.5  rbc/hpf   \n",
      "6   CBC: WHITE BLOOD CELL COUNT       9.2   k/cumm   \n",
      "7  URINALYSIS: SPECIFIC GRAVITY       1.0  no unit   \n",
      "8              CBC: NEUTROPHILS       7.0   k/cumm   \n",
      "9          METABOLIC: POTASSIUM       3.0   mmol/L   \n",
      "\n",
      "                     LabDateTime  \n",
      "0  1974-01-11 21:10:51.930000000  \n",
      "1  1974-01-11 03:14:30.127000000  \n",
      "2  1974-01-11 13:57:06.970000000  \n",
      "3  1974-01-11 02:10:43.437000000  \n",
      "4  1974-01-11 18:50:32.400000000  \n",
      "5  1974-01-11 07:53:46.990000000  \n",
      "6  1974-01-11 02:24:53.063000000  \n",
      "7  1974-01-11 03:12:04.290000000  \n",
      "8  1974-01-11 13:18:50.063000000  \n",
      "9  1974-01-12 10:39:23.390000000  \n"
     ]
    }
   ],
   "source": [
    "# Read the first 10 rows of the labs file\n",
    "labs_data = pd.read_csv(labs_file, nrows=10)\n",
    "\n",
    "# Print the first 10 rows\n",
    "print(labs_data)"
   ]
  },
  {
   "cell_type": "code",
   "execution_count": null,
   "metadata": {
    "colab": {
     "base_uri": "https://localhost:8080/"
    },
    "id": "V4M9TDeYahzL",
    "outputId": "e4a80ddc-ccf2-4bd1-d800-a42e95abdc7a"
   },
   "outputs": [
    {
     "name": "stdout",
     "output_type": "stream",
     "text": [
      "/content/drive/MyDrive/datasets/100000-Patients/AdmissionsCorePopulatedTable.csv:\n",
      "  Contains missing values: No\n",
      "  Contains duplicate rows: No\n",
      "\n",
      "/content/drive/MyDrive/datasets/100000-Patients/AdmissionsDiagnosesCorePopulatedTable.csv:\n",
      "  Contains missing values: No\n",
      "  Contains duplicate rows: No\n",
      "\n",
      "/content/drive/MyDrive/datasets/100000-Patients/PatientCorePopulatedTable.csv:\n",
      "  Contains missing values: No\n",
      "  Contains duplicate rows: No\n",
      "\n"
     ]
    }
   ],
   "source": [
    "# Define the file paths\n",
    "file_paths = [\n",
    "    admissions_file,\n",
    "    diagnoses_file,\n",
    "    patients_file,\n",
    "]\n",
    "\n",
    "# Function to check for missing values and duplicates\n",
    "def check_file_integrity(file_path):\n",
    "    try:\n",
    "        missing_found = False\n",
    "        duplicate_found = False\n",
    "\n",
    "        # Use sets for duplicates in case the file is large\n",
    "        unique_rows_set = set() if file_path == labs_file else None\n",
    "\n",
    "        # Load data in chunks for large files\n",
    "        for chunk in pd.read_csv(file_path, chunksize=50000):  # Adjust chunksize for large files\n",
    "            # Check for missing values\n",
    "            if chunk.isnull().any().any():\n",
    "                missing_found = True\n",
    "\n",
    "            # Check for duplicates\n",
    "            if unique_rows_set is not None:\n",
    "                # Convert rows to tuples for set comparison\n",
    "                rows_as_tuples = map(tuple, chunk.to_numpy())\n",
    "                for row in rows_as_tuples:\n",
    "                    if row in unique_rows_set:\n",
    "                        duplicate_found = True\n",
    "                        break\n",
    "                    unique_rows_set.add(row)\n",
    "            else:\n",
    "                # For smaller files, use pandas' duplicate detection\n",
    "                if chunk.duplicated().any():\n",
    "                    duplicate_found = True\n",
    "\n",
    "            # Stop early if duplicates or missing values are found\n",
    "            if missing_found or duplicate_found:\n",
    "                break\n",
    "\n",
    "        # Print results\n",
    "        print(f\"{file_path}:\")\n",
    "        print(f\"  Contains missing values: {'Yes' if missing_found else 'No'}\")\n",
    "        print(f\"  Contains duplicate rows: {'Yes' if duplicate_found else 'No'}\\n\")\n",
    "\n",
    "    except Exception as e:\n",
    "        print(f\"Error processing {file_path}: {e}\")\n",
    "\n",
    "# Check each file for missing values and duplicates\n",
    "for file_path in file_paths:\n",
    "    check_file_integrity(file_path)\n"
   ]
  },
  {
   "cell_type": "code",
   "execution_count": null,
   "metadata": {
    "colab": {
     "base_uri": "https://localhost:8080/"
    },
    "id": "9o6i0bPvOOtP",
    "outputId": "9966bdea-3f34-4f0c-8468-33e1e0bccc33"
   },
   "outputs": [
    {
     "name": "stdout",
     "output_type": "stream",
     "text": [
      "                              PatientID  AdmissionID       AdmissionStartDate  \\\n",
      "0  9380F9E3-1927-42F3-9731-03A74D4E4C6B            5  2011-03-23 00:14:52.237   \n",
      "1  0A89658C-C739-45CA-9BF1-CBDDDFB922C0            1  1974-02-10 00:04:28.357   \n",
      "2  0A89658C-C739-45CA-9BF1-CBDDDFB922C0            2  1991-05-22 15:08:52.743   \n",
      "3  0A89658C-C739-45CA-9BF1-CBDDDFB922C0            3  1995-02-26 08:01:26.477   \n",
      "4  0A89658C-C739-45CA-9BF1-CBDDDFB922C0            4  2005-03-17 04:51:15.747   \n",
      "5  0A89658C-C739-45CA-9BF1-CBDDDFB922C0            5  2008-04-12 23:17:33.217   \n",
      "6  EB1C36B1-0697-4145-95EE-0B0C44943339            1  1995-12-04 16:01:07.700   \n",
      "7  EB1C36B1-0697-4145-95EE-0B0C44943339            2  2001-08-02 05:05:13.547   \n",
      "8  EB1C36B1-0697-4145-95EE-0B0C44943339            3  2009-11-15 09:31:16.750   \n",
      "9  F5F37898-D271-4D68-9C0E-18B1184411C6            1  1989-03-15 16:32:19.170   \n",
      "\n",
      "          AdmissionEndDate  \n",
      "0  2011-03-28 01:57:56.467  \n",
      "1  1974-02-16 21:04:43.333  \n",
      "2  1991-05-29 12:30:08.737  \n",
      "3  1995-02-28 16:45:04.407  \n",
      "4  2005-04-04 04:04:14.160  \n",
      "5  2008-04-16 03:22:35.737  \n",
      "6  1995-12-17 22:59:46.223  \n",
      "7  2001-08-16 02:35:48.323  \n",
      "8  2009-12-01 06:49:13.053  \n",
      "9  1989-03-19 07:04:55.640  \n",
      "                              PatientID  AdmissionID PrimaryDiagnosisCode  \\\n",
      "0  54C6E968-45B3-46B1-A64F-2CE3124F2A65            3                F80.1   \n",
      "1  54C6E968-45B3-46B1-A64F-2CE3124F2A65            4               R04.81   \n",
      "2  54C6E968-45B3-46B1-A64F-2CE3124F2A65            5                  I36   \n",
      "3  9DD23357-9BEB-43E4-802D-1AB7ACDD4A3A            1               H16.43   \n",
      "4  9DD23357-9BEB-43E4-802D-1AB7ACDD4A3A            2              M05.161   \n",
      "5  9DD23357-9BEB-43E4-802D-1AB7ACDD4A3A            3              M06.011   \n",
      "6  CE969DDB-A168-49C4-9D48-65CFAE878B5F            1               M02.35   \n",
      "7  CE969DDB-A168-49C4-9D48-65CFAE878B5F            2               C40.31   \n",
      "8  CE969DDB-A168-49C4-9D48-65CFAE878B5F            3               O04.82   \n",
      "9  719278F5-305F-432D-BE0E-76ECE46FD6EA            1               O03.33   \n",
      "\n",
      "                         PrimaryDiagnosisDescription  \n",
      "0                       Expressive language disorder  \n",
      "1   Acute idiopathic pulmonary hemorrhage in infants  \n",
      "2             Nonrheumatic tricuspid valve disorders  \n",
      "3                Localized vascularization of cornea  \n",
      "4  Rheumatoid lung disease with rheumatoid arthri...  \n",
      "5  Rheumatoid arthritis without rheumatoid factor...  \n",
      "6                              Reiter's disease, hip  \n",
      "7  Malignant neoplasm of short bones of right low...  \n",
      "8  Renal failure following (induced) termination ...  \n",
      "9  Metabolic disorder following incomplete sponta...  \n",
      "                              PatientID PatientGender  \\\n",
      "0  F7CF0FE9-AFCD-49EF-BFB3-E42302FFA0D3        Female   \n",
      "1  C3935FBC-DBBA-4844-BBE4-A175FA508454          Male   \n",
      "2  1CA33F6F-2E84-4C99-AF6A-D40F7B4DB27F          Male   \n",
      "3  81606388-2471-42A4-A6F1-1868AE25CFC3          Male   \n",
      "4  E3120DE9-3361-40CF-A618-265C769E75A2        Female   \n",
      "5  5C043111-3F94-44BC-A889-97D44ACCC7F6        Female   \n",
      "6  0A10A379-05B1-438B-84A0-18B4D1AE2615        Female   \n",
      "7  4BE9DA70-090C-45D9-BB34-C9FE07883BD9        Female   \n",
      "8  DED90E65-5B8E-497C-9A17-0679C1DA3B6D          Male   \n",
      "9  67744717-0461-45C5-B85A-D7355EFAF6A1        Female   \n",
      "\n",
      "        PatientDateOfBirth       PatientRace PatientMaritalStatus  \\\n",
      "0  1951-07-10 07:29:47.293             Asian               Single   \n",
      "1  1956-01-27 22:46:39.380  African American               Single   \n",
      "2  1972-12-22 10:11:01.867             White              Married   \n",
      "3  1984-01-17 00:49:06.903             Asian            Separated   \n",
      "4  1978-12-21 07:24:08.957             White              Married   \n",
      "5  1974-09-25 18:38:02.440  African American              Married   \n",
      "6  1986-10-23 18:07:05.173             Asian              Married   \n",
      "7  1988-04-07 13:26:59.347             White              Married   \n",
      "8  1940-09-29 16:37:18.737  African American              Married   \n",
      "9  1967-07-17 12:35:46.713             White               Single   \n",
      "\n",
      "  PatientLanguage  PatientPopulationPercentageBelowPoverty  \n",
      "0         English                                    13.70  \n",
      "1         English                                    15.73  \n",
      "2         English                                     7.09  \n",
      "3         Spanish                                     2.17  \n",
      "4         English                                    18.67  \n",
      "5         English                                     2.57  \n",
      "6       Icelandic                                    14.26  \n",
      "7         English                                    11.03  \n",
      "8         English                                    11.86  \n",
      "9         English                                     5.35  \n"
     ]
    }
   ],
   "source": [
    "# Load your data\n",
    "admissions_df = pd.read_csv(\"/content/drive/MyDrive/datasets/100000-Patients/AdmissionsCorePopulatedTable.csv\")\n",
    "diagnoses_df = pd.read_csv(\"/content/drive/MyDrive/datasets/100000-Patients/AdmissionsDiagnosesCorePopulatedTable.csv\")\n",
    "patient_df = pd.read_csv(\"/content/drive/MyDrive/datasets/100000-Patients/PatientCorePopulatedTable.csv\")\n",
    "\n",
    "# Show first few rows of each dataset\n",
    "print(admissions_df.head(10))\n",
    "print(diagnoses_df.head(10))\n",
    "print(patient_df.head(10))"
   ]
  },
  {
   "cell_type": "code",
   "execution_count": null,
   "metadata": {
    "colab": {
     "base_uri": "https://localhost:8080/"
    },
    "id": "UkKVwMRGWcgX",
    "outputId": "c3205567-2f9a-4a61-f6ec-430db8f51113"
   },
   "outputs": [
    {
     "name": "stdout",
     "output_type": "stream",
     "text": [
      "['Female' 'Male']\n"
     ]
    }
   ],
   "source": [
    "print(patient_df['PatientGender'].unique())"
   ]
  },
  {
   "cell_type": "markdown",
   "metadata": {
    "id": "G0syFWvfAZnw"
   },
   "source": [
    "# Combining patient data with admissions data"
   ]
  },
  {
   "cell_type": "code",
   "execution_count": null,
   "metadata": {
    "id": "a6l5kapjUxll"
   },
   "outputs": [],
   "source": [
    "# Merge all data on PatientID and AdmissionID\n",
    "merged_df = admissions_df.merge(patient_df, on=['PatientID'], how='left')\n",
    "\n",
    "# Drop non-numeric columns (for simplicity, we can later handle categorical data separately)\n",
    "numeric_df = merged_df.select_dtypes(include=[np.number])\n",
    "\n",
    "# Handle missing values\n",
    "numeric_df.fillna(numeric_df.mean(), inplace=True)"
   ]
  },
  {
   "cell_type": "markdown",
   "metadata": {
    "id": "t4XGDajYoRLw"
   },
   "source": [
    "# Conversion of lab txt to csv"
   ]
  },
  {
   "cell_type": "code",
   "execution_count": null,
   "metadata": {
    "colab": {
     "base_uri": "https://localhost:8080/"
    },
    "id": "uhMFix0xnbNs",
    "outputId": "81bb226e-b59b-45e8-af2f-801f273651cb"
   },
   "outputs": [
    {
     "name": "stdout",
     "output_type": "stream",
     "text": [
      "File converted and saved as /content/drive/MyDrive/datasets/100000-Patients/LabsCorePopulatedTable.csv\n"
     ]
    }
   ],
   "source": [
    " txt_file = '/content/drive/MyDrive/datasets/100000-Patients/LabsCorePopulatedTable.txt'\n",
    " csv_file ='/content/drive/MyDrive/datasets/100000-Patients/LabsCorePopulatedTable.csv'\n",
    "\n",
    "#Read the .txt file and write to a .csv file\n",
    "with open(txt_file, 'r') as infile, open(csv_file, 'w', newline='') as outfile:\n",
    "    writer = csv.writer(outfile)\n",
    "    for line in infile:\n",
    "        # Assuming tab or comma separates values in the .txt file\n",
    "        row = line.strip().split('\\t')  # Replace '\\t' with ',' if comma-separated\n",
    "        writer.writerow(row)\n",
    "\n",
    "print(f\"File converted and saved as {csv_file}\")\n"
   ]
  },
  {
   "cell_type": "markdown",
   "metadata": {
    "id": "wT8paZ_um9hx"
   },
   "source": [
    "# Creating a lab file with filtered columns"
   ]
  },
  {
   "cell_type": "code",
   "execution_count": null,
   "metadata": {
    "colab": {
     "base_uri": "https://localhost:8080/"
    },
    "id": "TtoDPCnil48B",
    "outputId": "4178b315-de22-43e8-9fb8-43f8d662ad7f"
   },
   "outputs": [
    {
     "name": "stdout",
     "output_type": "stream",
     "text": [
      "✅ New file created: /content/drive/MyDrive/datasets/100000-Patients/labs_core_selected_columns.csv\n"
     ]
    }
   ],
   "source": [
    "# Define the file paths\n",
    "input_file = '/content/drive/MyDrive/datasets/100000-Patients/LabsCorePopulatedTable.csv'  # Your huge original file\n",
    "output_file = '/content/drive/MyDrive/datasets/100000-Patients/labs_core_selected_columns.csv'  # New smaller file\n",
    "\n",
    "# Define the columns you want to keep\n",
    "selected_columns = ['PatientID', 'AdmissionID', 'LabName', 'LabValue']\n",
    "\n",
    "# Set a batch size\n",
    "chunk_size = 10000  # number of rows per batch\n",
    "\n",
    "# Initialize writing: make sure first write includes the header\n",
    "first_chunk = True\n",
    "\n",
    "# Read and process in chunks\n",
    "for chunk in pd.read_csv(input_file, usecols=selected_columns, chunksize=chunk_size):\n",
    "    # Write the selected columns to the output file\n",
    "    chunk.to_csv(output_file, mode='w' if first_chunk else 'a', index=False, header=first_chunk)\n",
    "    first_chunk = False  # Only write header for the first chunk\n",
    "\n",
    "print(f\"✅ New file created: {output_file}\")"
   ]
  },
  {
   "cell_type": "markdown",
   "metadata": {
    "id": "EbHaD0e30VKB"
   },
   "source": [
    "# Readmission feature generation"
   ]
  },
  {
   "cell_type": "code",
   "execution_count": null,
   "metadata": {
    "colab": {
     "base_uri": "https://localhost:8080/"
    },
    "id": "Au4_QQS17oFF",
    "outputId": "f437a4ac-92f3-4a4c-b5c6-7281213a9df4"
   },
   "outputs": [
    {
     "name": "stdout",
     "output_type": "stream",
     "text": [
      "                                   PatientID  AdmissionID  readmission\n",
      "320049  0000585C-5C9D-49BD-8F9E-41345464F832            1            0\n",
      "320050  0000585C-5C9D-49BD-8F9E-41345464F832            2            0\n",
      "125111  00005E17-D776-4260-8566-3BF18422A777            1            0\n",
      "125112  00005E17-D776-4260-8566-3BF18422A777            2            0\n",
      "32930   00008B98-12EC-484A-A730-788707EB72C8            1            0\n",
      "✅ Merged DataFrame saved to: /content/drive/MyDrive/datasets/100000-Patients/merged_admissions_patient_data.csv\n"
     ]
    }
   ],
   "source": [
    "# Make sure admission and discharge dates are datetime\n",
    "merged_df['AdmissionStartDate'] = pd.to_datetime(merged_df['AdmissionStartDate'])\n",
    "merged_df['AdmissionEndDate'] = pd.to_datetime(merged_df['AdmissionEndDate'])\n",
    "\n",
    "# Sort by patient and admissionStartdate\n",
    "merged_df = merged_df.sort_values(by=['PatientID', 'AdmissionStartDate'])\n",
    "\n",
    "# Calculate days to next admission\n",
    "merged_df['next_admission_date'] = merged_df.groupby('PatientID')['AdmissionStartDate'].shift(-1)\n",
    "merged_df['days_to_readmission'] = (merged_df['next_admission_date'] - merged_df['AdmissionEndDate']).dt.days\n",
    "\n",
    "# Define readmission: 1 if readmitted within 30 days, else 0\n",
    "merged_df['readmission'] = merged_df['days_to_readmission'].apply(lambda x: 1 if 0 <= x <= 30 else 0)\n",
    "\n",
    "# View\n",
    "print(merged_df[['PatientID', 'AdmissionID', 'readmission']].head())\n",
    "\n",
    "# Define the output file path in your Google Drive\n",
    "output_file_path = '/content/drive/MyDrive/datasets/100000-Patients/merged_admissions_patient_data.csv'\n",
    "\n",
    "# Save the DataFrame to CSV\n",
    "merged_df.to_csv(output_file_path, index=False)\n",
    "\n",
    "print(f\"✅ Merged DataFrame saved to: {output_file_path}\")"
   ]
  },
  {
   "cell_type": "markdown",
   "metadata": {
    "id": "0MfiQvPb18Xs"
   },
   "source": [
    "# Combining patient data with lab data and pivotting columns"
   ]
  },
  {
   "cell_type": "code",
   "execution_count": null,
   "metadata": {
    "colab": {
     "base_uri": "https://localhost:8080/"
    },
    "id": "U55dBfj2DCTD",
    "outputId": "b8f66646-9a26-46f5-89f4-229e8675d11b"
   },
   "outputs": [
    {
     "name": "stdout",
     "output_type": "stream",
     "text": [
      "✅ Loaded merged_df with shape: (361760, 13)\n",
      "✅ Filtered merged_df to shape: (181284, 13)\n",
      "✅ Loaded labs_core_df with shape: (107535387, 4)\n",
      "✅ Filtered labs_core_df to shape: (53882973, 4)\n",
      "✅ Final merged data (50% patients, matching labs) saved to: /content/drive/MyDrive/datasets/100000-Patients/merged_with_labs_half_patients_newfile.csv\n"
     ]
    }
   ],
   "source": [
    "# Paths to files\n",
    "merged_df_path = '/content/drive/MyDrive/datasets/100000-Patients/merged_admissions_patient_data.csv'\n",
    "labs_core_df_path = '/content/drive/MyDrive/datasets/100000-Patients/labs_core_selected_columns.csv'\n",
    "output_path = '/content/drive/MyDrive/datasets/100000-Patients/merged_with_labs_half_patients_newfile.csv'\n",
    "\n",
    "# Load merged_df\n",
    "merged_df = pd.read_csv(merged_df_path)\n",
    "print(\"✅ Loaded merged_df with shape:\", merged_df.shape)\n",
    "\n",
    "# Select 50% of unique PatientIDs\n",
    "unique_patient_ids = merged_df['PatientID'].unique()\n",
    "np.random.seed(42)  # For reproducibility\n",
    "selected_patient_ids = np.random.choice(unique_patient_ids, size=len(unique_patient_ids) // 2, replace=False)\n",
    "\n",
    "# Filter merged_df to only include selected PatientIDs\n",
    "filtered_merged_df = merged_df[merged_df['PatientID'].isin(selected_patient_ids)]\n",
    "print(\"✅ Filtered merged_df to shape:\", filtered_merged_df.shape)\n",
    "\n",
    "# Load labs_core_selected_columns.csv\n",
    "labs_core_df = pd.read_csv(labs_core_df_path, usecols=['PatientID', 'AdmissionID', 'LabName', 'LabValue'])\n",
    "print(\"✅ Loaded labs_core_df with shape:\", labs_core_df.shape)\n",
    "\n",
    "# Filter labs_core_df to only include selected PatientIDs (no random sampling here)\n",
    "labs_core_filtered = labs_core_df[labs_core_df['PatientID'].isin(selected_patient_ids)]\n",
    "print(\"✅ Filtered labs_core_df to shape:\", labs_core_filtered.shape)\n",
    "\n",
    "# Merge the datasets\n",
    "final_merged = pd.merge(\n",
    "    filtered_merged_df,\n",
    "    labs_core_filtered,\n",
    "    on=['PatientID', 'AdmissionID'],\n",
    "    how='left'\n",
    ")\n",
    "\n",
    "# Save the final merged dataset\n",
    "final_merged.to_csv(output_path, index=False)\n",
    "print(f\"✅ Final merged data (50% patients, matching labs) saved to: {output_path}\")"
   ]
  },
  {
   "cell_type": "code",
   "execution_count": null,
   "metadata": {
    "colab": {
     "base_uri": "https://localhost:8080/"
    },
    "id": "dvT9PFlYHqVV",
    "outputId": "94f247bd-5630-48c9-fa82-4e7d53b8bb95"
   },
   "outputs": [
    {
     "name": "stdout",
     "output_type": "stream",
     "text": [
      "✅ Columns removed! New shape: (53882973, 13)\n",
      "                              PatientID  AdmissionID PatientGender  \\\n",
      "0  0001E6FA-A3D7-4569-A0B3-7E9865EFF6B6            1          Male   \n",
      "1  0001E6FA-A3D7-4569-A0B3-7E9865EFF6B6            1          Male   \n",
      "2  0001E6FA-A3D7-4569-A0B3-7E9865EFF6B6            1          Male   \n",
      "3  0001E6FA-A3D7-4569-A0B3-7E9865EFF6B6            1          Male   \n",
      "4  0001E6FA-A3D7-4569-A0B3-7E9865EFF6B6            1          Male   \n",
      "\n",
      "        PatientDateOfBirth PatientRace PatientMaritalStatus PatientLanguage  \\\n",
      "0  1987-02-07 02:56:53.157       Asian               Single         English   \n",
      "1  1987-02-07 02:56:53.157       Asian               Single         English   \n",
      "2  1987-02-07 02:56:53.157       Asian               Single         English   \n",
      "3  1987-02-07 02:56:53.157       Asian               Single         English   \n",
      "4  1987-02-07 02:56:53.157       Asian               Single         English   \n",
      "\n",
      "   PatientPopulationPercentageBelowPoverty next_admission_date  \\\n",
      "0                                    18.78                 NaN   \n",
      "1                                    18.78                 NaN   \n",
      "2                                    18.78                 NaN   \n",
      "3                                    18.78                 NaN   \n",
      "4                                    18.78                 NaN   \n",
      "\n",
      "   days_to_readmission  readmission                      LabName  LabValue  \n",
      "0                  NaN            0          METABOLIC: ALT/SGPT      15.9  \n",
      "1                  NaN            0    METABOLIC: CARBON DIOXIDE      20.6  \n",
      "2                  NaN            0          METABOLIC: CHLORIDE     100.3  \n",
      "3                  NaN            0  CBC: WHITE BLOOD CELL COUNT       8.3  \n",
      "4                  NaN            0             CBC: NEUTROPHILS       4.7  \n"
     ]
    }
   ],
   "source": [
    "# Load your merged dataset\n",
    "merged_final = pd.read_csv('/content/drive/MyDrive/datasets/100000-Patients/merged_with_labs_half_patients_newfile.csv')\n",
    "\n",
    "# Drop the admission_start_date and admission_end_date columns\n",
    "merged_final = merged_final.drop(['AdmissionStartDate', 'AdmissionEndDate'], axis=1)\n",
    "\n",
    "# Save the cleaned dataset\n",
    "merged_final.to_csv('merged_with_labs_cleaned.csv', index=False)\n",
    "\n",
    "print(\"✅ Columns removed! New shape:\", merged_final.shape)\n",
    "print(merged_final.head())"
   ]
  },
  {
   "cell_type": "code",
   "execution_count": null,
   "metadata": {
    "colab": {
     "base_uri": "https://localhost:8080/"
    },
    "id": "H4mP6x0F1Lo_",
    "outputId": "5db55598-e991-4cb9-faaf-c5b8f598f5bc"
   },
   "outputs": [
    {
     "name": "stdout",
     "output_type": "stream",
     "text": [
      "✅ Loaded data with shape: (53882973, 13)\n",
      "✅ Pivoted data shape: (181284, 46)\n",
      "                              PatientID  AdmissionID  readmission  \\\n",
      "0  0001E6FA-A3D7-4569-A0B3-7E9865EFF6B6            1            0   \n",
      "1  00034C68-CEC9-4D2A-8C82-76595C67FBF7            1            0   \n",
      "2  00034C68-CEC9-4D2A-8C82-76595C67FBF7            2            0   \n",
      "3  00034C68-CEC9-4D2A-8C82-76595C67FBF7            3            0   \n",
      "4  00034C68-CEC9-4D2A-8C82-76595C67FBF7            4            0   \n",
      "\n",
      "  PatientGender       PatientDateOfBirth PatientRace PatientMaritalStatus  \\\n",
      "0          Male  1987-02-07 02:56:53.157       Asian               Single   \n",
      "1        Female  1942-01-30 06:27:26.147       White               Single   \n",
      "2        Female  1942-01-30 06:27:26.147       White               Single   \n",
      "3        Female  1942-01-30 06:27:26.147       White               Single   \n",
      "4        Female  1942-01-30 06:27:26.147       White               Single   \n",
      "\n",
      "  PatientLanguage  PatientPopulationPercentageBelowPoverty  \\\n",
      "0         English                                    18.78   \n",
      "1         Spanish                                    10.28   \n",
      "2         Spanish                                    10.28   \n",
      "3         Spanish                                    10.28   \n",
      "4         Spanish                                    10.28   \n",
      "\n",
      "       next_admission_date  ...  METABOLIC: CHLORIDE  METABOLIC: CREATININE  \\\n",
      "0                      NaN  ...           103.300000               0.953333   \n",
      "1  1989-04-16 21:26:38.250  ...           103.144444               0.785714   \n",
      "2  2000-02-11 20:20:27.553  ...           102.400000               0.942857   \n",
      "3  2010-02-04 13:11:29.840  ...           105.375000               0.950000   \n",
      "4                      NaN  ...           102.625000               0.946154   \n",
      "\n",
      "   METABOLIC: GLUCOSE  METABOLIC: POTASSIUM  METABOLIC: SODIUM  \\\n",
      "0          100.464286              4.164706         140.175000   \n",
      "1           98.254545              4.690000         136.200000   \n",
      "2           98.190000              3.650000         138.850000   \n",
      "3           96.971429              4.585714         141.685714   \n",
      "4           94.358333              4.730769         143.250000   \n",
      "\n",
      "   METABOLIC: TOTAL PROTEIN  URINALYSIS: PH  URINALYSIS: RED BLOOD CELLS  \\\n",
      "0                  7.808333        5.881818                     1.976923   \n",
      "1                  7.691667        5.875000                     1.200000   \n",
      "2                  6.900000        5.737500                     1.483333   \n",
      "3                  7.442857        6.250000                     1.950000   \n",
      "4                  7.843750        5.993333                     1.331250   \n",
      "\n",
      "   URINALYSIS: SPECIFIC GRAVITY  URINALYSIS: WHITE BLOOD CELLS  \n",
      "0                           1.0                       2.812500  \n",
      "1                           1.0                       2.210000  \n",
      "2                           1.0                       2.800000  \n",
      "3                           1.0                       3.762500  \n",
      "4                           1.0                       2.908333  \n",
      "\n",
      "[5 rows x 46 columns]\n",
      "✅ Pivoted data saved to: /content/drive/MyDrive/datasets/100000-Patients/merged_with_labs_pivoted.csv\n"
     ]
    }
   ],
   "source": [
    "import pandas as pd\n",
    "\n",
    "# Load your data\n",
    "data_path = '/content/drive/MyDrive/datasets/100000-Patients/merged_with_labs_cleaned.csv'\n",
    "df = pd.read_csv(data_path)\n",
    "\n",
    "print(\"✅ Loaded data with shape:\", df.shape)\n",
    "\n",
    "# Separate lab tests and other columns\n",
    "non_lab_columns = ['PatientID', 'AdmissionID', 'readmission', 'PatientGender','PatientDateOfBirth','PatientRace','PatientMaritalStatus','PatientLanguage','PatientPopulationPercentageBelowPoverty','next_admission_date','days_to_readmission']  # Add any other columns you want to keep\n",
    "\n",
    "# Pivot the lab part\n",
    "lab_pivot = df.pivot_table(\n",
    "    index=['PatientID', 'AdmissionID'],\n",
    "    columns='LabName',\n",
    "    values='LabValue',\n",
    "    aggfunc='mean'  # In case multiple lab values exist for same PatientID + AdmissionID + LabName\n",
    ")\n",
    "\n",
    "# Reset index to flatten\n",
    "lab_pivot = lab_pivot.reset_index()\n",
    "\n",
    "# Drop duplicate rows to keep only one row per PatientID + AdmissionID in original data\n",
    "other_info = df[non_lab_columns].drop_duplicates(subset=['PatientID', 'AdmissionID'])\n",
    "\n",
    "# Merge pivoted lab results back with other columns\n",
    "pivot_df = pd.merge(other_info, lab_pivot, on=['PatientID', 'AdmissionID'], how='left')\n",
    "\n",
    "# Preview\n",
    "print(\"✅ Pivoted data shape:\", pivot_df.shape)\n",
    "print(pivot_df.head())\n",
    "\n",
    "# Save the pivoted dataset\n",
    "pivoted_path = '/content/drive/MyDrive/datasets/100000-Patients/merged_with_labs_pivoted.csv'\n",
    "pivot_df.to_csv(pivoted_path, index=False)\n",
    "print(f\"✅ Pivoted data saved to: {pivoted_path}\")\n"
   ]
  },
  {
   "cell_type": "markdown",
   "metadata": {
    "id": "YaAqyZKV2qyM"
   },
   "source": [
    "# Check for unbalanced data (not done)"
   ]
  },
  {
   "cell_type": "code",
   "execution_count": null,
   "metadata": {
    "colab": {
     "base_uri": "https://localhost:8080/"
    },
    "id": "Kmh-CuM-2Url",
    "outputId": "afb7b7fd-8f8f-4c1b-cf35-db2b8985da8f"
   },
   "outputs": [
    {
     "name": "stdout",
     "output_type": "stream",
     "text": [
      "(181284, 37)\n"
     ]
    }
   ],
   "source": [
    "print(pivot_df.shape)"
   ]
  },
  {
   "cell_type": "code",
   "execution_count": null,
   "metadata": {
    "colab": {
     "base_uri": "https://localhost:8080/"
    },
    "id": "qHe_eZ-krn2a",
    "outputId": "ce7645f3-f6cf-4334-bb0a-9309108a3352"
   },
   "outputs": [
    {
     "name": "stdout",
     "output_type": "stream",
     "text": [
      "✅ Number of patients with readmission = 1: 641\n"
     ]
    }
   ],
   "source": [
    "# Count number of readmissions where readmission == 1\n",
    "num_readmitted =(pivot_df['readmission'] == 1).sum()\n",
    "\n",
    "print(f\"✅ Number of patients with readmission = 1: {num_readmitted}\")"
   ]
  },
  {
   "cell_type": "code",
   "execution_count": null,
   "metadata": {
    "colab": {
     "base_uri": "https://localhost:8080/"
    },
    "id": "lpDL5-Fxtxsw",
    "outputId": "a4e3c478-3445-4737-8540-6c97212104af"
   },
   "outputs": [
    {
     "name": "stdout",
     "output_type": "stream",
     "text": [
      "✅ Number of unique Lab Names: 50000\n"
     ]
    }
   ],
   "source": [
    "# Count number of unique lab names\n",
    "num_unique_labs = pivot_df['PatientID'].nunique()\n",
    "\n",
    "print(f\"✅ Number of unique Lab Names: {num_unique_labs}\")"
   ]
  },
  {
   "cell_type": "code",
   "execution_count": null,
   "metadata": {
    "colab": {
     "base_uri": "https://localhost:8080/"
    },
    "id": "pvnn6r177vR2",
    "outputId": "dd8194b7-9c27-4bd8-cbc2-cf22d747b5b2"
   },
   "outputs": [
    {
     "name": "stdout",
     "output_type": "stream",
     "text": [
      "✅ Number of unique PatientIDs with readmission=1: 632\n"
     ]
    }
   ],
   "source": [
    "# Correct filtering from pivot_df\n",
    "readmitted_patients = pivot_df[pivot_df['readmission'] == 1]\n",
    "\n",
    "# Count unique PatientIDs\n",
    "unique_patient_count = readmitted_patients['PatientID'].nunique()\n",
    "\n",
    "print(f\"✅ Number of unique PatientIDs with readmission=1: {unique_patient_count}\")"
   ]
  },
  {
   "cell_type": "markdown",
   "metadata": {
    "id": "2qu5AKes3GDp"
   },
   "source": [
    "# Final Dataset"
   ]
  },
  {
   "cell_type": "code",
   "execution_count": null,
   "metadata": {
    "colab": {
     "base_uri": "https://localhost:8080/"
    },
    "id": "D9k9-P_k-wtQ",
    "outputId": "43dc7a0c-9ed2-43d0-dfdc-f962583b6697"
   },
   "outputs": [
    {
     "name": "stdout",
     "output_type": "stream",
     "text": [
      "✅ Data types of columns:\n",
      "PatientID                                   object\n",
      "AdmissionID                                  int64\n",
      "readmission                                  int64\n",
      "PatientGender                               object\n",
      "PatientDateOfBirth                          object\n",
      "PatientRace                                 object\n",
      "PatientMaritalStatus                        object\n",
      "PatientLanguage                             object\n",
      "PatientPopulationPercentageBelowPoverty    float64\n",
      "next_admission_date                         object\n",
      "days_to_readmission                        float64\n",
      "CBC: ABSOLUTE LYMPHOCYTES                  float64\n",
      "CBC: ABSOLUTE NEUTROPHILS                  float64\n",
      "CBC: BASOPHILS                             float64\n",
      "CBC: EOSINOPHILS                           float64\n",
      "CBC: HEMATOCRIT                            float64\n",
      "CBC: HEMOGLOBIN                            float64\n",
      "CBC: LYMPHOCYTES                           float64\n",
      "CBC: MCH                                   float64\n",
      "CBC: MCHC                                  float64\n",
      "CBC: MEAN CORPUSCULAR VOLUME               float64\n",
      "CBC: MONOCYTES                             float64\n",
      "CBC: NEUTROPHILS                           float64\n",
      "CBC: PLATELET COUNT                        float64\n",
      "CBC: RDW                                   float64\n",
      "CBC: RED BLOOD CELL COUNT                  float64\n",
      "CBC: WHITE BLOOD CELL COUNT                float64\n",
      "METABOLIC: ALBUMIN                         float64\n",
      "METABOLIC: ALK PHOS                        float64\n",
      "METABOLIC: ALT/SGPT                        float64\n",
      "METABOLIC: ANION GAP                       float64\n",
      "METABOLIC: AST/SGOT                        float64\n",
      "METABOLIC: BILI TOTAL                      float64\n",
      "METABOLIC: BUN                             float64\n",
      "METABOLIC: CALCIUM                         float64\n",
      "METABOLIC: CARBON DIOXIDE                  float64\n",
      "METABOLIC: CHLORIDE                        float64\n",
      "METABOLIC: CREATININE                      float64\n",
      "METABOLIC: GLUCOSE                         float64\n",
      "METABOLIC: POTASSIUM                       float64\n",
      "METABOLIC: SODIUM                          float64\n",
      "METABOLIC: TOTAL PROTEIN                   float64\n",
      "URINALYSIS: PH                             float64\n",
      "URINALYSIS: RED BLOOD CELLS                float64\n",
      "URINALYSIS: SPECIFIC GRAVITY               float64\n",
      "URINALYSIS: WHITE BLOOD CELLS              float64\n",
      "dtype: object\n"
     ]
    }
   ],
   "source": [
    "# Load the pivoted dataset\n",
    "pivoted_path = '/content/drive/MyDrive/datasets/100000-Patients/merged_with_labs_pivoted.csv'\n",
    "pivot_df = pd.read_csv(pivoted_path)\n",
    "\n",
    "# Print column names and their types\n",
    "print(\"✅ Data types of columns:\")\n",
    "print(pivot_df.dtypes)\n"
   ]
  },
  {
   "cell_type": "markdown",
   "metadata": {
    "id": "zzOMItF13bmS"
   },
   "source": [
    "# Model training and testing"
   ]
  },
  {
   "cell_type": "code",
   "execution_count": null,
   "metadata": {
    "colab": {
     "base_uri": "https://localhost:8080/",
     "height": 684,
     "referenced_widgets": [
      "18618a60dacb4325b99422cb23451486",
      "e34320c0901e476390c9c9f192855a9a",
      "c421ca0643e14fd5a1a91c6912aabef6",
      "5c62015ac9ee48229cca1b3f793b35b5",
      "6cbc2a1782f54ac5bada0ecb35a2648e",
      "19eca0fe84184ca0b5e36d03df1e0010",
      "d8ab1828b1c641e5b2c60e72614e7deb",
      "1830f7df300c49b7b29d69874b27e61b",
      "466e4dc2b9ec490c990d0009a7a5da17",
      "5e7a02cc5adc4116a280e1b7f472f8e9",
      "1a71b4ef67e24fc7a7398dfdb358c674",
      "e3dee97affe742a2b20a88f560da2f45",
      "aa2f616dd3eb440d81811d79c8708c4c",
      "2db72275d93347889d3a6176b0b16e6c",
      "e4f4da6b4ce445fdbe34110e7b7ddcc6",
      "a9661a1186b946278069bc149fd64513",
      "c893d1d5d772462b985553b98c446c5e",
      "5453077b60a74c68a72506a0cffd0855",
      "9bd324894a0a4448ba90b1620a1369ec",
      "7d1515c230b241e181f455d7da7683fb",
      "6eb469fc728343d688cab4392bf88504",
      "fecf76689d724e5bb9fbd4a3a43855a9"
     ]
    },
    "id": "GLe2E3Q6VGrj",
    "outputId": "6f6da663-3bd9-4e23-89d4-ba721b767e3e"
   },
   "outputs": [
    {
     "name": "stdout",
     "output_type": "stream",
     "text": [
      "✅ Loaded data with shape: (181284, 46)\n",
      "✅ Numeric columns: 37\n",
      "✅ Categorical columns: 6\n",
      "✅ Features preprocessed: (181284, 100053), type: <class 'scipy.sparse._csr.csr_matrix'>\n",
      "✅ Data split:  (145027, 100053) (36257, 100053)\n",
      "🚀 Training with batch size: 128\n"
     ]
    },
    {
     "data": {
      "application/vnd.jupyter.widget-view+json": {
       "model_id": "18618a60dacb4325b99422cb23451486",
       "version_major": 2,
       "version_minor": 0
      },
      "text/plain": [
       "0epoch [00:00, ?epoch/s]"
      ]
     },
     "metadata": {},
     "output_type": "display_data"
    },
    {
     "data": {
      "application/vnd.jupyter.widget-view+json": {
       "model_id": "e3dee97affe742a2b20a88f560da2f45",
       "version_major": 2,
       "version_minor": 0
      },
      "text/plain": [
       "0batch [00:00, ?batch/s]"
      ]
     },
     "metadata": {},
     "output_type": "display_data"
    },
    {
     "name": "stderr",
     "output_type": "stream",
     "text": [
      "WARNING:tensorflow:Converting IndexedSlices(indices=Tensor(\"gradient_tape/sequential/dense/embedding_lookup_sparse/embedding_lookup/Reshape_1:0\", shape=(None,), dtype=int64), values=Tensor(\"gradient_tape/sequential/dense/embedding_lookup_sparse/embedding_lookup/Reshape:0\", shape=(None, 128), dtype=float32), dense_shape=Tensor(\"gradient_tape/sequential/dense/embedding_lookup_sparse/embedding_lookup/Const:0\", shape=(2,), dtype=int32)) to a dense representation may make it slow. Alternatively, output the indices and values of the IndexedSlices separately, and handle the vectorized outputs directly.\n",
      "WARNING:tensorflow:Converting IndexedSlices(indices=Tensor(\"gradient_tape/sequential/dense/embedding_lookup_sparse/embedding_lookup/Reshape_1:0\", shape=(None,), dtype=int64), values=Tensor(\"gradient_tape/sequential/dense/embedding_lookup_sparse/embedding_lookup/Reshape:0\", shape=(None, 128), dtype=float32), dense_shape=Tensor(\"gradient_tape/sequential/dense/embedding_lookup_sparse/embedding_lookup/Const:0\", shape=(2,), dtype=int32)) to a dense representation may make it slow. Alternatively, output the indices and values of the IndexedSlices separately, and handle the vectorized outputs directly.\n",
      "WARNING:absl:`compute_dp_sgd_privacy` is deprecated. It does not account for doubling of sensitivity with microbatching, and assumes Poisson subsampling, which is rarely used in practice. Please use `compute_dp_sgd_privacy_statement`, which provides appropriate context for the guarantee. To compute epsilon under different assumptions than those in `compute_dp_sgd_privacy_statement`, call the `dp_accounting` libraries directly.\n"
     ]
    },
    {
     "name": "stdout",
     "output_type": "stream",
     "text": [
      "✅ Done: batch_size=128 → Accuracy=0.9965, ε=1.87\n"
     ]
    },
    {
     "data": {
      "image/png": "[encoded data removed]",
      "text/plain": [
       "<Figure size 1200x500 with 2 Axes>"
      ]
     },
     "metadata": {},
     "output_type": "display_data"
    }
   ],
   "source": [
    "# 📦 Imports\n",
    "import pandas as pd\n",
    "import numpy as np\n",
    "import matplotlib.pyplot as plt\n",
    "import tensorflow as tf\n",
    "from sklearn.model_selection import train_test_split\n",
    "from sklearn.preprocessing import StandardScaler, OneHotEncoder, LabelEncoder\n",
    "from sklearn.compose import ColumnTransformer\n",
    "from sklearn.pipeline import Pipeline\n",
    "from tensorflow_privacy.privacy.optimizers.dp_optimizer_keras import DPKerasAdamOptimizer\n",
    "from tensorflow_privacy.privacy.analysis.compute_dp_sgd_privacy_lib import compute_dp_sgd_privacy\n",
    "from tensorflow.keras.losses import BinaryCrossentropy\n",
    "\n",
    "# Install tqdm if not installed\n",
    "!pip install -q tqdm\n",
    "from tqdm.keras import TqdmCallback\n",
    "\n",
    "# 🧩 Load dataset\n",
    "data_path = '/content/drive/MyDrive/datasets/100000-Patients/merged_with_labs_pivoted.csv'\n",
    "df = pd.read_csv(data_path)\n",
    "print(\"✅ Loaded data with shape:\", df.shape)\n",
    "\n",
    "# 📉 Drop leakage columns\n",
    "df = df.drop(columns=['next_admission_date', 'days_to_readmission'])\n",
    "\n",
    "# 🎯 Encode target\n",
    "label_encoder = LabelEncoder()\n",
    "df['readmission'] = label_encoder.fit_transform(df['readmission'])\n",
    "\n",
    "# ➗ Separate features and target\n",
    "X = df.drop(columns=['readmission'])\n",
    "y = df['readmission']\n",
    "\n",
    "# 🔍 Identify numeric and categorical columns\n",
    "numeric_cols = X.select_dtypes(include=[np.number]).columns.tolist()\n",
    "categorical_cols = X.select_dtypes(include=['object']).columns.tolist()\n",
    "\n",
    "print(f\"✅ Numeric columns: {len(numeric_cols)}\")\n",
    "print(f\"✅ Categorical columns: {len(categorical_cols)}\")\n",
    "\n",
    "# 🔧 Build preprocessing pipeline\n",
    "numeric_transformer = Pipeline(steps=[\n",
    "    ('scaler', StandardScaler())\n",
    "])\n",
    "\n",
    "categorical_transformer = Pipeline(steps=[\n",
    "    ('onehot', OneHotEncoder(handle_unknown='ignore', sparse_output=True))\n",
    "])\n",
    "\n",
    "preprocessor = ColumnTransformer(\n",
    "    transformers=[\n",
    "        ('num', numeric_transformer, numeric_cols),\n",
    "        ('cat', categorical_transformer, categorical_cols)\n",
    "    ],\n",
    "    sparse_threshold=0.1\n",
    ")\n",
    "\n",
    "# 🔥 Preprocess features (keep sparse)\n",
    "X_processed = preprocessor.fit_transform(X)\n",
    "print(f\"✅ Features preprocessed: {X_processed.shape}, type: {type(X_processed)}\")\n",
    "\n",
    "# ✂️ Train-test split\n",
    "X_train_sparse, X_test_sparse, y_train, y_test = train_test_split(X_processed, y, test_size=0.2, random_state=42)\n",
    "print(\"✅ Data split: \", X_train_sparse.shape, X_test_sparse.shape)\n",
    "\n",
    "# 🔄 Convert to TensorFlow SparseTensor\n",
    "def scipy_to_tf_sparse(scipy_mat):\n",
    "    coo = scipy_mat.tocoo()\n",
    "    indices = np.vstack((coo.row, coo.col)).T\n",
    "    return tf.sparse.SparseTensor(indices, coo.data.astype(np.float32), coo.shape)\n",
    "\n",
    "X_train_tf = scipy_to_tf_sparse(X_train_sparse)\n",
    "X_test_tf = scipy_to_tf_sparse(X_test_sparse)\n",
    "\n",
    "# 🧱 Build the model\n",
    "def create_sparse_model(input_dim):\n",
    "    model = tf.keras.Sequential([\n",
    "        tf.keras.layers.Input(shape=(input_dim,), sparse=True),\n",
    "        tf.keras.layers.Dense(128, activation='relu'),\n",
    "        tf.keras.layers.Dense(64, activation='relu'),\n",
    "        tf.keras.layers.Dense(1, activation='sigmoid')\n",
    "    ])\n",
    "    return model\n",
    "\n",
    "# 📦 Create TensorFlow Datasets\n",
    "batch_size = 128\n",
    "noise_multiplier = 0.7\n",
    "\n",
    "# Store results\n",
    "results = []\n",
    "print(f\"🚀 Training with batch size: {batch_size}\")\n",
    "\n",
    "train_dataset = tf.data.Dataset.from_tensor_slices((X_train_tf, y_train))\n",
    "train_dataset = train_dataset.shuffle(10000).batch(batch_size, drop_remainder=True).prefetch(tf.data.AUTOTUNE)\n",
    "\n",
    "test_dataset = tf.data.Dataset.from_tensor_slices((X_test_tf, y_test))\n",
    "test_dataset = test_dataset.batch(batch_size, drop_remainder=True).prefetch(tf.data.AUTOTUNE)\n",
    "\n",
    "# Create model\n",
    "model = create_sparse_model(X_train_sparse.shape[1])\n",
    "\n",
    "# DP Optimizer\n",
    "optimizer = DPKerasAdamOptimizer(\n",
    "  l2_norm_clip=1.0,\n",
    "  noise_multiplier=noise_multiplier,\n",
    "  num_microbatches=batch_size,\n",
    "  learning_rate=0.001\n",
    ")\n",
    "\n",
    "model.compile(\n",
    "  optimizer=optimizer,\n",
    "  loss=BinaryCrossentropy(from_logits=False, reduction=tf.keras.losses.Reduction.NONE),\n",
    "  metrics=['accuracy']\n",
    "    )\n",
    "\n",
    "# Train model\n",
    "history = model.fit(\n",
    "  train_dataset,\n",
    "  epochs=5,\n",
    "  validation_data=test_dataset,\n",
    "  verbose=0,\n",
    "  callbacks=[TqdmCallback(verbose=1)]\n",
    ")\n",
    "\n",
    "# Evaluate\n",
    "loss, accuracy = model.evaluate(test_dataset, verbose=0)\n",
    "\n",
    "# Compute privacy budget\n",
    "dataset_size = X_train_sparse.shape[0]\n",
    "epsilon, _ = compute_dp_sgd_privacy(   # 🛠 only 2 outputs\n",
    "  n=dataset_size,\n",
    "  batch_size=batch_size,\n",
    "  noise_multiplier=noise_multiplier,\n",
    "  epochs=5,\n",
    "  delta=1e-5\n",
    ")\n",
    "\n",
    "print(f\"✅ Done: batch_size={batch_size} → Accuracy={accuracy:.4f}, ε={epsilon:.2f}\")\n",
    "\n",
    "results.append((batch_size, accuracy, epsilon))\n",
    "\n",
    "# 📈 Plot Results\n",
    "batch_sizes = [r[0] for r in results]\n",
    "accuracies = [r[1] for r in results]\n",
    "epsilons = [r[2] for r in results]\n",
    "\n",
    "# Plot Accuracy\n",
    "plt.figure(figsize=(12, 5))\n",
    "plt.subplot(1, 2, 1)\n",
    "plt.plot(batch_sizes, accuracies, marker='o')\n",
    "plt.title('Accuracy vs Batch Size')\n",
    "plt.xlabel('Batch Size')\n",
    "plt.ylabel('Accuracy')\n",
    "plt.grid(True)\n",
    "\n",
    "# Plot Epsilon\n",
    "plt.subplot(1, 2, 2)\n",
    "plt.plot(batch_sizes, epsilons, marker='o', color='red')\n",
    "plt.title('Privacy ε vs Batch Size')\n",
    "plt.xlabel('Batch Size')\n",
    "plt.ylabel('Epsilon (ε)')\n",
    "plt.grid(True)\n",
    "\n",
    "plt.tight_layout()\n",
    "plt.show()\n"
   ]
  },
  {
   "cell_type": "code",
   "execution_count": null,
   "metadata": {
    "colab": {
     "base_uri": "https://localhost:8080/",
     "height": 684,
     "referenced_widgets": [
      "5f03aa8560734147a227dba03a3ef038",
      "caa7d599b2ca448db32fb97d8f4cf45a",
      "3f324bd8739d4bb985a488692d5d029d",
      "f5052d0b32654c2a80b14068fe84037a",
      "e4a95e80fed84e51a7d415fc6cbe5224",
      "9440be10c6c44c42a48853f4d5ead102",
      "06a595d8f2f64dc3b7f2c2a57b3d0e6e",
      "3e372e923fff448ba7b4604ef4b9393c",
      "57f3141b9f974e698e8defba8b574e51",
      "cf1b6c69d8d34629958088cfaf5c0ab7",
      "39a165d3cc58468789983dfe516623bc",
      "650f5fe2379e4175b70c37e18fee5213",
      "caf9e220a95849b295fb532a16030136",
      "b323e28cf6f5496a97204ac2680f7fdd",
      "b616b53deb4040288032df4d851aaa0e",
      "f0f25c2903f44a2c85a757e21d4483f2",
      "e227a61d6d6141279bdf5cbea429cb09",
      "57e710634a4b4de48e11b95cb33faccc",
      "827abd775c7a4734b0e7590b42ed939b",
      "eb4830693ca745f8a0c286a3e371ce46",
      "a6b9cc4865cd404cbe9d62ea05f203a7",
      "63f62d727ecf46578a685069afb469be"
     ]
    },
    "id": "52xfAC7haQ96",
    "outputId": "b721a786-3d10-4525-cf4b-3a58d20faae3"
   },
   "outputs": [
    {
     "name": "stdout",
     "output_type": "stream",
     "text": [
      "✅ Loaded data with shape: (181284, 46)\n",
      "✅ Numeric columns: 37\n",
      "✅ Categorical columns: 6\n",
      "✅ Features preprocessed: (181284, 100053), type: <class 'scipy.sparse._csr.csr_matrix'>\n",
      "✅ Data split:  (145027, 100053) (36257, 100053)\n",
      "🚀 Training with batch size: 256\n"
     ]
    },
    {
     "data": {
      "application/vnd.jupyter.widget-view+json": {
       "model_id": "5f03aa8560734147a227dba03a3ef038",
       "version_major": 2,
       "version_minor": 0
      },
      "text/plain": [
       "0epoch [00:00, ?epoch/s]"
      ]
     },
     "metadata": {},
     "output_type": "display_data"
    },
    {
     "data": {
      "application/vnd.jupyter.widget-view+json": {
       "model_id": "650f5fe2379e4175b70c37e18fee5213",
       "version_major": 2,
       "version_minor": 0
      },
      "text/plain": [
       "0batch [00:00, ?batch/s]"
      ]
     },
     "metadata": {},
     "output_type": "display_data"
    },
    {
     "name": "stderr",
     "output_type": "stream",
     "text": [
      "WARNING:tensorflow:Converting IndexedSlices(indices=Tensor(\"gradient_tape/sequential_1/dense_3/embedding_lookup_sparse/embedding_lookup/Reshape_1:0\", shape=(None,), dtype=int64), values=Tensor(\"gradient_tape/sequential_1/dense_3/embedding_lookup_sparse/embedding_lookup/Reshape:0\", shape=(None, 128), dtype=float32), dense_shape=Tensor(\"gradient_tape/sequential_1/dense_3/embedding_lookup_sparse/embedding_lookup/Const:0\", shape=(2,), dtype=int32)) to a dense representation may make it slow. Alternatively, output the indices and values of the IndexedSlices separately, and handle the vectorized outputs directly.\n",
      "WARNING:tensorflow:Converting IndexedSlices(indices=Tensor(\"gradient_tape/sequential_1/dense_3/embedding_lookup_sparse/embedding_lookup/Reshape_1:0\", shape=(None,), dtype=int64), values=Tensor(\"gradient_tape/sequential_1/dense_3/embedding_lookup_sparse/embedding_lookup/Reshape:0\", shape=(None, 128), dtype=float32), dense_shape=Tensor(\"gradient_tape/sequential_1/dense_3/embedding_lookup_sparse/embedding_lookup/Const:0\", shape=(2,), dtype=int32)) to a dense representation may make it slow. Alternatively, output the indices and values of the IndexedSlices separately, and handle the vectorized outputs directly.\n",
      "WARNING:absl:`compute_dp_sgd_privacy` is deprecated. It does not account for doubling of sensitivity with microbatching, and assumes Poisson subsampling, which is rarely used in practice. Please use `compute_dp_sgd_privacy_statement`, which provides appropriate context for the guarantee. To compute epsilon under different assumptions than those in `compute_dp_sgd_privacy_statement`, call the `dp_accounting` libraries directly.\n"
     ]
    },
    {
     "name": "stdout",
     "output_type": "stream",
     "text": [
      "✅ Done: batch_size=256 → Accuracy=0.9965, ε=2.36\n"
     ]
    },
    {
     "data": {
      "image/png": "[encoded data removed]",
      "text/plain": [
       "<Figure size 1200x500 with 2 Axes>"
      ]
     },
     "metadata": {},
     "output_type": "display_data"
    }
   ],
   "source": [
    "# 📦 Imports\n",
    "import pandas as pd\n",
    "import numpy as np\n",
    "import matplotlib.pyplot as plt\n",
    "import tensorflow as tf\n",
    "from sklearn.model_selection import train_test_split\n",
    "from sklearn.preprocessing import StandardScaler, OneHotEncoder, LabelEncoder\n",
    "from sklearn.compose import ColumnTransformer\n",
    "from sklearn.pipeline import Pipeline\n",
    "from tensorflow_privacy.privacy.optimizers.dp_optimizer_keras import DPKerasAdamOptimizer\n",
    "from tensorflow_privacy.privacy.analysis.compute_dp_sgd_privacy_lib import compute_dp_sgd_privacy\n",
    "from tensorflow.keras.losses import BinaryCrossentropy\n",
    "\n",
    "# Install tqdm if not installed\n",
    "!pip install -q tqdm\n",
    "from tqdm.keras import TqdmCallback\n",
    "\n",
    "# 🧩 Load dataset\n",
    "data_path = '/content/drive/MyDrive/datasets/100000-Patients/merged_with_labs_pivoted.csv'\n",
    "df = pd.read_csv(data_path)\n",
    "print(\"✅ Loaded data with shape:\", df.shape)\n",
    "\n",
    "# 📉 Drop leakage columns\n",
    "df = df.drop(columns=['next_admission_date', 'days_to_readmission'])\n",
    "\n",
    "# 🎯 Encode target\n",
    "label_encoder = LabelEncoder()\n",
    "df['readmission'] = label_encoder.fit_transform(df['readmission'])\n",
    "\n",
    "# ➗ Separate features and target\n",
    "X = df.drop(columns=['readmission'])\n",
    "y = df['readmission']\n",
    "\n",
    "# 🔍 Identify numeric and categorical columns\n",
    "numeric_cols = X.select_dtypes(include=[np.number]).columns.tolist()\n",
    "categorical_cols = X.select_dtypes(include=['object']).columns.tolist()\n",
    "\n",
    "print(f\"✅ Numeric columns: {len(numeric_cols)}\")\n",
    "print(f\"✅ Categorical columns: {len(categorical_cols)}\")\n",
    "\n",
    "# 🔧 Build preprocessing pipeline\n",
    "numeric_transformer = Pipeline(steps=[\n",
    "    ('scaler', StandardScaler())\n",
    "])\n",
    "\n",
    "categorical_transformer = Pipeline(steps=[\n",
    "    ('onehot', OneHotEncoder(handle_unknown='ignore', sparse_output=True))\n",
    "])\n",
    "\n",
    "preprocessor = ColumnTransformer(\n",
    "    transformers=[\n",
    "        ('num', numeric_transformer, numeric_cols),\n",
    "        ('cat', categorical_transformer, categorical_cols)\n",
    "    ],\n",
    "    sparse_threshold=0.1\n",
    ")\n",
    "\n",
    "# 🔥 Preprocess features (keep sparse)\n",
    "X_processed = preprocessor.fit_transform(X)\n",
    "print(f\"✅ Features preprocessed: {X_processed.shape}, type: {type(X_processed)}\")\n",
    "\n",
    "# ✂️ Train-test split\n",
    "X_train_sparse, X_test_sparse, y_train, y_test = train_test_split(X_processed, y, test_size=0.2, random_state=42)\n",
    "print(\"✅ Data split: \", X_train_sparse.shape, X_test_sparse.shape)\n",
    "\n",
    "# 🔄 Convert to TensorFlow SparseTensor\n",
    "def scipy_to_tf_sparse(scipy_mat):\n",
    "    coo = scipy_mat.tocoo()\n",
    "    indices = np.vstack((coo.row, coo.col)).T\n",
    "    return tf.sparse.SparseTensor(indices, coo.data.astype(np.float32), coo.shape)\n",
    "\n",
    "X_train_tf = scipy_to_tf_sparse(X_train_sparse)\n",
    "X_test_tf = scipy_to_tf_sparse(X_test_sparse)\n",
    "\n",
    "# 🧱 Build the model\n",
    "def create_sparse_model(input_dim):\n",
    "    model = tf.keras.Sequential([\n",
    "        tf.keras.layers.Input(shape=(input_dim,), sparse=True),\n",
    "        tf.keras.layers.Dense(128, activation='relu'),\n",
    "        tf.keras.layers.Dense(64, activation='relu'),\n",
    "        tf.keras.layers.Dense(1, activation='sigmoid')\n",
    "    ])\n",
    "    return model\n",
    "\n",
    "# 📦 Create TensorFlow Datasets\n",
    "batch_size = 256\n",
    "noise_multiplier = 0.7\n",
    "\n",
    "# Store results\n",
    "results = []\n",
    "print(f\"🚀 Training with batch size: {batch_size}\")\n",
    "\n",
    "train_dataset = tf.data.Dataset.from_tensor_slices((X_train_tf, y_train))\n",
    "train_dataset = train_dataset.shuffle(10000).batch(batch_size, drop_remainder=True).prefetch(tf.data.AUTOTUNE)\n",
    "\n",
    "test_dataset = tf.data.Dataset.from_tensor_slices((X_test_tf, y_test))\n",
    "test_dataset = test_dataset.batch(batch_size, drop_remainder=True).prefetch(tf.data.AUTOTUNE)\n",
    "\n",
    "# Create model\n",
    "model = create_sparse_model(X_train_sparse.shape[1])\n",
    "\n",
    "# DP Optimizer\n",
    "optimizer = DPKerasAdamOptimizer(\n",
    "  l2_norm_clip=1.0,\n",
    "  noise_multiplier=noise_multiplier,\n",
    "  num_microbatches=batch_size,\n",
    "  learning_rate=0.001\n",
    ")\n",
    "\n",
    "model.compile(\n",
    "  optimizer=optimizer,\n",
    "  loss=BinaryCrossentropy(from_logits=False, reduction=tf.keras.losses.Reduction.NONE),\n",
    "  metrics=['accuracy']\n",
    "    )\n",
    "\n",
    "# Train model\n",
    "history = model.fit(\n",
    "  train_dataset,\n",
    "  epochs=5,\n",
    "  validation_data=test_dataset,\n",
    "  verbose=0,\n",
    "  callbacks=[TqdmCallback(verbose=1)]\n",
    ")\n",
    "\n",
    "# Evaluate\n",
    "loss, accuracy = model.evaluate(test_dataset, verbose=0)\n",
    "\n",
    "# Compute privacy budget\n",
    "dataset_size = X_train_sparse.shape[0]\n",
    "epsilon, _ = compute_dp_sgd_privacy(   # 🛠 only 2 outputs\n",
    "  n=dataset_size,\n",
    "  batch_size=batch_size,\n",
    "  noise_multiplier=noise_multiplier,\n",
    "  epochs=5,\n",
    "  delta=1e-5\n",
    ")\n",
    "\n",
    "print(f\"✅ Done: batch_size={batch_size} → Accuracy={accuracy:.4f}, ε={epsilon:.2f}\")\n",
    "\n",
    "results.append((batch_size, accuracy, epsilon))\n",
    "\n",
    "# 📈 Plot Results\n",
    "batch_sizes = [r[0] for r in results]\n",
    "accuracies = [r[1] for r in results]\n",
    "epsilons = [r[2] for r in results]\n",
    "\n",
    "# Plot Accuracy\n",
    "plt.figure(figsize=(12, 5))\n",
    "plt.subplot(1, 2, 1)\n",
    "plt.plot(batch_sizes, accuracies, marker='o')\n",
    "plt.title('Accuracy vs Batch Size')\n",
    "plt.xlabel('Batch Size')\n",
    "plt.ylabel('Accuracy')\n",
    "plt.grid(True)\n",
    "\n",
    "# Plot Epsilon\n",
    "plt.subplot(1, 2, 2)\n",
    "plt.plot(batch_sizes, epsilons, marker='o', color='red')\n",
    "plt.title('Privacy ε vs Batch Size')\n",
    "plt.xlabel('Batch Size')\n",
    "plt.ylabel('Epsilon (ε)')\n",
    "plt.grid(True)\n",
    "\n",
    "plt.tight_layout()\n",
    "plt.show()\n"
   ]
  },
  {
   "cell_type": "code",
   "execution_count": null,
   "metadata": {
    "colab": {
     "base_uri": "https://localhost:8080/",
     "height": 684,
     "referenced_widgets": [
      "c06cc74a888f4fd5b9b967799aaf27d3",
      "62904382e8114c419c24062ce33e1fd1",
      "b0d49c4f7d5d4b268f622a3f4672d5b6",
      "bcb0e1a561af476997c8af946b648e0a",
      "56ff81436736467286322bb2ba854e3c",
      "253ff01b28c54b0c9535d8e67f65f190",
      "53290305ab5f4345aeee9c2794c289d8",
      "0a2ed3a0391040569a7bc509ee92c786",
      "22d1c04074b4492c8244b596432e7b2c",
      "a56e6c93b13142bb84f36e844c909bbb",
      "a36c7d74594e4e728dce212b0e8c625f",
      "0c06892f59354c35a9b22dd77477a206",
      "4c6fb583cc0642a489b3365bce39da2a",
      "34870556097e4f6b8cddf27136c2b2b5",
      "6f9d423623c4448eb07f50961f47c923",
      "cc19be421b434c72be371a508b0f0b6f",
      "834ed9ca02be4d7fafa5c088b48d7114",
      "f1fa72e4665145ba83ff304aa9972779",
      "1b7f11ba755645c38584d3bad07b0a5f",
      "a81c78e7421d440286ed868cbee0c1bc",
      "169aa6aad8ec45f2be4bcd7608c254da",
      "e0be761f62964d97a08d5083c2599775"
     ]
    },
    "id": "6OCzkQBftBUd",
    "outputId": "a477f805-537a-44ef-d1fd-ca78b441cef6"
   },
   "outputs": [
    {
     "name": "stdout",
     "output_type": "stream",
     "text": [
      "✅ Loaded data with shape: (181284, 46)\n",
      "✅ Numeric columns: 37\n",
      "✅ Categorical columns: 6\n",
      "✅ Features preprocessed: (181284, 100053), type: <class 'scipy.sparse._csr.csr_matrix'>\n",
      "✅ Data split:  (145027, 100053) (36257, 100053)\n",
      "🚀 Training with batch size: 512\n"
     ]
    },
    {
     "data": {
      "application/vnd.jupyter.widget-view+json": {
       "model_id": "c06cc74a888f4fd5b9b967799aaf27d3",
       "version_major": 2,
       "version_minor": 0
      },
      "text/plain": [
       "0epoch [00:00, ?epoch/s]"
      ]
     },
     "metadata": {},
     "output_type": "display_data"
    },
    {
     "data": {
      "application/vnd.jupyter.widget-view+json": {
       "model_id": "0c06892f59354c35a9b22dd77477a206",
       "version_major": 2,
       "version_minor": 0
      },
      "text/plain": [
       "0batch [00:00, ?batch/s]"
      ]
     },
     "metadata": {},
     "output_type": "display_data"
    },
    {
     "name": "stderr",
     "output_type": "stream",
     "text": [
      "WARNING:tensorflow:Converting IndexedSlices(indices=Tensor(\"gradient_tape/sequential_2/dense_6/embedding_lookup_sparse/embedding_lookup/Reshape_1:0\", shape=(None,), dtype=int64), values=Tensor(\"gradient_tape/sequential_2/dense_6/embedding_lookup_sparse/embedding_lookup/Reshape:0\", shape=(None, 128), dtype=float32), dense_shape=Tensor(\"gradient_tape/sequential_2/dense_6/embedding_lookup_sparse/embedding_lookup/Const:0\", shape=(2,), dtype=int32)) to a dense representation may make it slow. Alternatively, output the indices and values of the IndexedSlices separately, and handle the vectorized outputs directly.\n",
      "WARNING:tensorflow:Converting IndexedSlices(indices=Tensor(\"gradient_tape/sequential_2/dense_6/embedding_lookup_sparse/embedding_lookup/Reshape_1:0\", shape=(None,), dtype=int64), values=Tensor(\"gradient_tape/sequential_2/dense_6/embedding_lookup_sparse/embedding_lookup/Reshape:0\", shape=(None, 128), dtype=float32), dense_shape=Tensor(\"gradient_tape/sequential_2/dense_6/embedding_lookup_sparse/embedding_lookup/Const:0\", shape=(2,), dtype=int32)) to a dense representation may make it slow. Alternatively, output the indices and values of the IndexedSlices separately, and handle the vectorized outputs directly.\n",
      "WARNING:absl:`compute_dp_sgd_privacy` is deprecated. It does not account for doubling of sensitivity with microbatching, and assumes Poisson subsampling, which is rarely used in practice. Please use `compute_dp_sgd_privacy_statement`, which provides appropriate context for the guarantee. To compute epsilon under different assumptions than those in `compute_dp_sgd_privacy_statement`, call the `dp_accounting` libraries directly.\n"
     ]
    },
    {
     "name": "stdout",
     "output_type": "stream",
     "text": [
      "✅ Done: batch_size=512 → Accuracy=0.9966, ε=2.81\n"
     ]
    },
    {
     "data": {
      "image/png": "[encoded data removed]",
      "text/plain": [
       "<Figure size 1200x500 with 2 Axes>"
      ]
     },
     "metadata": {},
     "output_type": "display_data"
    }
   ],
   "source": [
    "# 📦 Imports\n",
    "import pandas as pd\n",
    "import numpy as np\n",
    "import matplotlib.pyplot as plt\n",
    "import tensorflow as tf\n",
    "from sklearn.model_selection import train_test_split\n",
    "from sklearn.preprocessing import StandardScaler, OneHotEncoder, LabelEncoder\n",
    "from sklearn.compose import ColumnTransformer\n",
    "from sklearn.pipeline import Pipeline\n",
    "from tensorflow_privacy.privacy.optimizers.dp_optimizer_keras import DPKerasAdamOptimizer\n",
    "from tensorflow_privacy.privacy.analysis.compute_dp_sgd_privacy_lib import compute_dp_sgd_privacy\n",
    "from tensorflow.keras.losses import BinaryCrossentropy\n",
    "\n",
    "# Install tqdm if not installed\n",
    "!pip install -q tqdm\n",
    "from tqdm.keras import TqdmCallback\n",
    "\n",
    "# 🧩 Load dataset\n",
    "data_path = '/content/drive/MyDrive/datasets/100000-Patients/merged_with_labs_pivoted.csv'\n",
    "df = pd.read_csv(data_path)\n",
    "print(\"✅ Loaded data with shape:\", df.shape)\n",
    "\n",
    "# 📉 Drop leakage columns\n",
    "df = df.drop(columns=['next_admission_date', 'days_to_readmission'])\n",
    "\n",
    "# 🎯 Encode target\n",
    "label_encoder = LabelEncoder()\n",
    "df['readmission'] = label_encoder.fit_transform(df['readmission'])\n",
    "\n",
    "# ➗ Separate features and target\n",
    "X = df.drop(columns=['readmission'])\n",
    "y = df['readmission']\n",
    "\n",
    "# 🔍 Identify numeric and categorical columns\n",
    "numeric_cols = X.select_dtypes(include=[np.number]).columns.tolist()\n",
    "categorical_cols = X.select_dtypes(include=['object']).columns.tolist()\n",
    "\n",
    "print(f\"✅ Numeric columns: {len(numeric_cols)}\")\n",
    "print(f\"✅ Categorical columns: {len(categorical_cols)}\")\n",
    "\n",
    "# 🔧 Build preprocessing pipeline\n",
    "numeric_transformer = Pipeline(steps=[\n",
    "    ('scaler', StandardScaler())\n",
    "])\n",
    "\n",
    "categorical_transformer = Pipeline(steps=[\n",
    "    ('onehot', OneHotEncoder(handle_unknown='ignore', sparse_output=True))\n",
    "])\n",
    "\n",
    "preprocessor = ColumnTransformer(\n",
    "    transformers=[\n",
    "        ('num', numeric_transformer, numeric_cols),\n",
    "        ('cat', categorical_transformer, categorical_cols)\n",
    "    ],\n",
    "    sparse_threshold=0.1\n",
    ")\n",
    "\n",
    "# 🔥 Preprocess features (keep sparse)\n",
    "X_processed = preprocessor.fit_transform(X)\n",
    "print(f\"✅ Features preprocessed: {X_processed.shape}, type: {type(X_processed)}\")\n",
    "\n",
    "# ✂️ Train-test split\n",
    "X_train_sparse, X_test_sparse, y_train, y_test = train_test_split(X_processed, y, test_size=0.2, random_state=42)\n",
    "print(\"✅ Data split: \", X_train_sparse.shape, X_test_sparse.shape)\n",
    "\n",
    "# 🔄 Convert to TensorFlow SparseTensor\n",
    "def scipy_to_tf_sparse(scipy_mat):\n",
    "    coo = scipy_mat.tocoo()\n",
    "    indices = np.vstack((coo.row, coo.col)).T\n",
    "    return tf.sparse.SparseTensor(indices, coo.data.astype(np.float32), coo.shape)\n",
    "\n",
    "X_train_tf = scipy_to_tf_sparse(X_train_sparse)\n",
    "X_test_tf = scipy_to_tf_sparse(X_test_sparse)\n",
    "\n",
    "# 🧱 Build the model\n",
    "def create_sparse_model(input_dim):\n",
    "    model = tf.keras.Sequential([\n",
    "        tf.keras.layers.Input(shape=(input_dim,), sparse=True),\n",
    "        tf.keras.layers.Dense(128, activation='relu'),\n",
    "        tf.keras.layers.Dense(64, activation='relu'),\n",
    "        tf.keras.layers.Dense(1, activation='sigmoid')\n",
    "    ])\n",
    "    return model\n",
    "\n",
    "# 📦 Create TensorFlow Datasets\n",
    "batch_size = 512\n",
    "noise_multiplier = 0.7\n",
    "\n",
    "# Store results\n",
    "results = []\n",
    "print(f\"🚀 Training with batch size: {batch_size}\")\n",
    "\n",
    "train_dataset = tf.data.Dataset.from_tensor_slices((X_train_tf, y_train))\n",
    "train_dataset = train_dataset.shuffle(10000).batch(batch_size, drop_remainder=True).prefetch(tf.data.AUTOTUNE)\n",
    "\n",
    "test_dataset = tf.data.Dataset.from_tensor_slices((X_test_tf, y_test))\n",
    "test_dataset = test_dataset.batch(batch_size, drop_remainder=True).prefetch(tf.data.AUTOTUNE)\n",
    "\n",
    "# Create model\n",
    "model = create_sparse_model(X_train_sparse.shape[1])\n",
    "\n",
    "# DP Optimizer\n",
    "optimizer = DPKerasAdamOptimizer(\n",
    "  l2_norm_clip=1.0,\n",
    "  noise_multiplier=noise_multiplier,\n",
    "  num_microbatches=batch_size,\n",
    "  learning_rate=0.001\n",
    ")\n",
    "\n",
    "model.compile(\n",
    "  optimizer=optimizer,\n",
    "  loss=BinaryCrossentropy(from_logits=False, reduction=tf.keras.losses.Reduction.NONE),\n",
    "  metrics=['accuracy']\n",
    "    )\n",
    "\n",
    "# Train model\n",
    "history = model.fit(\n",
    "  train_dataset,\n",
    "  epochs=5,\n",
    "  validation_data=test_dataset,\n",
    "  verbose=0,\n",
    "  callbacks=[TqdmCallback(verbose=1)]\n",
    ")\n",
    "\n",
    "# Evaluate\n",
    "loss, accuracy = model.evaluate(test_dataset, verbose=0)\n",
    "\n",
    "# Compute privacy budget\n",
    "dataset_size = X_train_sparse.shape[0]\n",
    "epsilon, _ = compute_dp_sgd_privacy(   # 🛠 only 2 outputs\n",
    "  n=dataset_size,\n",
    "  batch_size=batch_size,\n",
    "  noise_multiplier=noise_multiplier,\n",
    "  epochs=5,\n",
    "  delta=1e-5\n",
    ")\n",
    "\n",
    "print(f\"✅ Done: batch_size={batch_size} → Accuracy={accuracy:.4f}, ε={epsilon:.2f}\")\n",
    "\n",
    "results.append((batch_size, accuracy, epsilon))\n",
    "\n",
    "# 📈 Plot Results\n",
    "batch_sizes = [r[0] for r in results]\n",
    "accuracies = [r[1] for r in results]\n",
    "epsilons = [r[2] for r in results]\n",
    "\n",
    "# Plot Accuracy\n",
    "plt.figure(figsize=(12, 5))\n",
    "plt.subplot(1, 2, 1)\n",
    "plt.plot(batch_sizes, accuracies, marker='o')\n",
    "plt.title('Accuracy vs Batch Size')\n",
    "plt.xlabel('Batch Size')\n",
    "plt.ylabel('Accuracy')\n",
    "plt.grid(True)\n",
    "\n",
    "# Plot Epsilon\n",
    "plt.subplot(1, 2, 2)\n",
    "plt.plot(batch_sizes, epsilons, marker='o', color='red')\n",
    "plt.title('Privacy ε vs Batch Size')\n",
    "plt.xlabel('Batch Size')\n",
    "plt.ylabel('Epsilon (ε)')\n",
    "plt.grid(True)\n",
    "\n",
    "plt.tight_layout()\n",
    "plt.show()\n"
   ]
  },
  {
   "cell_type": "code",
   "execution_count": null,
   "metadata": {
    "colab": {
     "base_uri": "https://localhost:8080/",
     "height": 733,
     "referenced_widgets": [
      "e884b604f88244a19ed898c0bc47bf41",
      "da3fd5ba2c1f489db952d871f81b50f9",
      "5a9c2c8ac98940e4967354978eb03f21",
      "817289ee90ea4e3ea94f61250df83047",
      "dfd86f40c19e49918b3a60199f6d3822",
      "70416bd6ade541aebfffbfe3fb370d62",
      "e35619aa40d142ea9ebaef9185aaa5b0",
      "1fe46e466ce34e95aed3837ad5e21461",
      "2904ded21979405b81c4d2f2b2edebbd",
      "4435b8d908d2498ba2b1c1cc6f523d67",
      "c6d1f5e3a6214878b131a5e41023aff4",
      "e6818b30c7714e998026e494a591faa5",
      "41b433e89dd0495dbdd3d84902400ab5",
      "3cd5a0cc91f540238afe3f5f5144fe74",
      "32ec2c80cdbc414485f7a4db05c7b11c",
      "9a1a644037c84ea78ee524d875e040d1",
      "98289fbfc5b846e0921e70add1313524",
      "698b6359097d4d438f15c357aeb1d004",
      "8855d0d868894575bc223a37655ea64f",
      "472eecfff97847beb04aac07468f9a92",
      "422b7479cd25407da7af9755922f3334",
      "078cb15bed6541898a5513f1f13b2796"
     ]
    },
    "id": "PKb1Xfj-QzkY",
    "outputId": "580db9ed-5790-43b5-e9d4-ef644712a21a"
   },
   "outputs": [
    {
     "name": "stdout",
     "output_type": "stream",
     "text": [
      "✅ Loaded data with shape: (181284, 46)\n",
      "✅ Numeric columns: 37\n",
      "✅ Categorical columns: 6\n",
      "✅ Features preprocessed: (181284, 100053), type: <class 'scipy.sparse._csr.csr_matrix'>\n",
      "✅ Data split:  (145027, 100053) (36257, 100053)\n",
      "🚀 Training with batch size: 128\n"
     ]
    },
    {
     "data": {
      "application/vnd.jupyter.widget-view+json": {
       "model_id": "e884b604f88244a19ed898c0bc47bf41",
       "version_major": 2,
       "version_minor": 0
      },
      "text/plain": [
       "0epoch [00:00, ?epoch/s]"
      ]
     },
     "metadata": {},
     "output_type": "display_data"
    },
    {
     "data": {
      "application/vnd.jupyter.widget-view+json": {
       "model_id": "e6818b30c7714e998026e494a591faa5",
       "version_major": 2,
       "version_minor": 0
      },
      "text/plain": [
       "0batch [00:00, ?batch/s]"
      ]
     },
     "metadata": {},
     "output_type": "display_data"
    },
    {
     "name": "stderr",
     "output_type": "stream",
     "text": [
      "WARNING:tensorflow:Converting IndexedSlices(indices=Tensor(\"gradient_tape/sequential/dense/embedding_lookup_sparse/embedding_lookup/Reshape_1:0\", shape=(None,), dtype=int64), values=Tensor(\"gradient_tape/sequential/dense/embedding_lookup_sparse/embedding_lookup/Reshape:0\", shape=(None, 128), dtype=float32), dense_shape=Tensor(\"gradient_tape/sequential/dense/embedding_lookup_sparse/embedding_lookup/Const:0\", shape=(2,), dtype=int32)) to a dense representation may make it slow. Alternatively, output the indices and values of the IndexedSlices separately, and handle the vectorized outputs directly.\n",
      "WARNING:tensorflow:Converting IndexedSlices(indices=Tensor(\"gradient_tape/sequential/dense/embedding_lookup_sparse/embedding_lookup/Reshape_1:0\", shape=(None,), dtype=int64), values=Tensor(\"gradient_tape/sequential/dense/embedding_lookup_sparse/embedding_lookup/Reshape:0\", shape=(None, 128), dtype=float32), dense_shape=Tensor(\"gradient_tape/sequential/dense/embedding_lookup_sparse/embedding_lookup/Const:0\", shape=(2,), dtype=int32)) to a dense representation may make it slow. Alternatively, output the indices and values of the IndexedSlices separately, and handle the vectorized outputs directly.\n",
      "WARNING:absl:`compute_dp_sgd_privacy` is deprecated. It does not account for doubling of sensitivity with microbatching, and assumes Poisson subsampling, which is rarely used in practice. Please use `compute_dp_sgd_privacy_statement`, which provides appropriate context for the guarantee. To compute epsilon under different assumptions than those in `compute_dp_sgd_privacy_statement`, call the `dp_accounting` libraries directly.\n"
     ]
    },
    {
     "name": "stdout",
     "output_type": "stream",
     "text": [
      "✅ Done: batch_size=128 → Accuracy=0.9965, ε=5.47\n"
     ]
    },
    {
     "data": {
      "image/png": "[encoded data removed]",
      "text/plain": [
       "<Figure size 1200x500 with 2 Axes>"
      ]
     },
     "metadata": {},
     "output_type": "display_data"
    }
   ],
   "source": [
    "# 📦 Imports\n",
    "import pandas as pd\n",
    "import numpy as np\n",
    "import matplotlib.pyplot as plt\n",
    "import tensorflow as tf\n",
    "from sklearn.model_selection import train_test_split\n",
    "from sklearn.preprocessing import StandardScaler, OneHotEncoder, LabelEncoder\n",
    "from sklearn.compose import ColumnTransformer\n",
    "from sklearn.pipeline import Pipeline\n",
    "from tensorflow_privacy.privacy.optimizers.dp_optimizer_keras import DPKerasAdamOptimizer\n",
    "from tensorflow_privacy.privacy.analysis.compute_dp_sgd_privacy_lib import compute_dp_sgd_privacy\n",
    "from tensorflow.keras.losses import BinaryCrossentropy\n",
    "\n",
    "# Install tqdm if not installed\n",
    "!pip install -q tqdm\n",
    "from tqdm.keras import TqdmCallback\n",
    "\n",
    "# 🧩 Load dataset\n",
    "data_path = '/content/drive/MyDrive/datasets/100000-Patients/merged_with_labs_pivoted.csv'\n",
    "df = pd.read_csv(data_path)\n",
    "print(\"✅ Loaded data with shape:\", df.shape)\n",
    "\n",
    "# 📉 Drop leakage columns\n",
    "df = df.drop(columns=['next_admission_date', 'days_to_readmission'])\n",
    "\n",
    "# 🎯 Encode target\n",
    "label_encoder = LabelEncoder()\n",
    "df['readmission'] = label_encoder.fit_transform(df['readmission'])\n",
    "\n",
    "# ➗ Separate features and target\n",
    "X = df.drop(columns=['readmission'])\n",
    "y = df['readmission']\n",
    "\n",
    "# 🔍 Identify numeric and categorical columns\n",
    "numeric_cols = X.select_dtypes(include=[np.number]).columns.tolist()\n",
    "categorical_cols = X.select_dtypes(include=['object']).columns.tolist()\n",
    "\n",
    "print(f\"✅ Numeric columns: {len(numeric_cols)}\")\n",
    "print(f\"✅ Categorical columns: {len(categorical_cols)}\")\n",
    "\n",
    "# 🔧 Build preprocessing pipeline\n",
    "numeric_transformer = Pipeline(steps=[\n",
    "    ('scaler', StandardScaler())\n",
    "])\n",
    "\n",
    "categorical_transformer = Pipeline(steps=[\n",
    "    ('onehot', OneHotEncoder(handle_unknown='ignore', sparse_output=True))\n",
    "])\n",
    "\n",
    "preprocessor = ColumnTransformer(\n",
    "    transformers=[\n",
    "        ('num', numeric_transformer, numeric_cols),\n",
    "        ('cat', categorical_transformer, categorical_cols)\n",
    "    ],\n",
    "    sparse_threshold=0.1\n",
    ")\n",
    "\n",
    "# 🔥 Preprocess features (keep sparse)\n",
    "X_processed = preprocessor.fit_transform(X)\n",
    "print(f\"✅ Features preprocessed: {X_processed.shape}, type: {type(X_processed)}\")\n",
    "\n",
    "# ✂️ Train-test split\n",
    "X_train_sparse, X_test_sparse, y_train, y_test = train_test_split(X_processed, y, test_size=0.2, random_state=42)\n",
    "print(\"✅ Data split: \", X_train_sparse.shape, X_test_sparse.shape)\n",
    "\n",
    "# 🔄 Convert to TensorFlow SparseTensor\n",
    "def scipy_to_tf_sparse(scipy_mat):\n",
    "    coo = scipy_mat.tocoo()\n",
    "    indices = np.vstack((coo.row, coo.col)).T\n",
    "    return tf.sparse.SparseTensor(indices, coo.data.astype(np.float32), coo.shape)\n",
    "\n",
    "X_train_tf = scipy_to_tf_sparse(X_train_sparse)\n",
    "X_test_tf = scipy_to_tf_sparse(X_test_sparse)\n",
    "\n",
    "# 🧱 Build the model\n",
    "def create_sparse_model(input_dim):\n",
    "    model = tf.keras.Sequential([\n",
    "        tf.keras.layers.Input(shape=(input_dim,), sparse=True),\n",
    "        tf.keras.layers.Dense(128, activation='relu'),\n",
    "        tf.keras.layers.Dense(64, activation='relu'),\n",
    "        tf.keras.layers.Dense(1, activation='sigmoid')\n",
    "    ])\n",
    "    return model\n",
    "\n",
    "# 📦 Create TensorFlow Datasets\n",
    "batch_size = 128\n",
    "noise_multiplier = 0.5\n",
    "\n",
    "# Store results\n",
    "results = []\n",
    "print(f\"🚀 Training with batch size: {batch_size}\")\n",
    "\n",
    "train_dataset = tf.data.Dataset.from_tensor_slices((X_train_tf, y_train))\n",
    "train_dataset = train_dataset.shuffle(10000).batch(batch_size, drop_remainder=True).prefetch(tf.data.AUTOTUNE)\n",
    "\n",
    "test_dataset = tf.data.Dataset.from_tensor_slices((X_test_tf, y_test))\n",
    "test_dataset = test_dataset.batch(batch_size, drop_remainder=True).prefetch(tf.data.AUTOTUNE)\n",
    "\n",
    "# Create model\n",
    "model = create_sparse_model(X_train_sparse.shape[1])\n",
    "\n",
    "# DP Optimizer\n",
    "optimizer = DPKerasAdamOptimizer(\n",
    "  l2_norm_clip=1.0,\n",
    "  noise_multiplier=noise_multiplier,\n",
    "  num_microbatches=batch_size,\n",
    "  learning_rate=0.001\n",
    ")\n",
    "\n",
    "model.compile(\n",
    "  optimizer=optimizer,\n",
    "  loss=BinaryCrossentropy(from_logits=False, reduction=tf.keras.losses.Reduction.NONE),\n",
    "  metrics=['accuracy']\n",
    "    )\n",
    "\n",
    "# Train model\n",
    "history = model.fit(\n",
    "  train_dataset,\n",
    "  epochs=5,\n",
    "  validation_data=test_dataset,\n",
    "  verbose=0,\n",
    "  callbacks=[TqdmCallback(verbose=1)]\n",
    ")\n",
    "\n",
    "# Evaluate\n",
    "loss, accuracy = model.evaluate(test_dataset, verbose=0)\n",
    "\n",
    "# Compute privacy budget\n",
    "dataset_size = X_train_sparse.shape[0]\n",
    "epsilon, _ = compute_dp_sgd_privacy(   # 🛠 only 2 outputs\n",
    "  n=dataset_size,\n",
    "  batch_size=batch_size,\n",
    "  noise_multiplier=noise_multiplier,\n",
    "  epochs=5,\n",
    "  delta=1e-5\n",
    ")\n",
    "\n",
    "print(f\"✅ Done: batch_size={batch_size} → Accuracy={accuracy:.4f}, ε={epsilon:.2f}\")\n",
    "\n",
    "results.append((batch_size, accuracy, epsilon))\n",
    "\n",
    "# 📈 Plot Results\n",
    "batch_sizes = [r[0] for r in results]\n",
    "accuracies = [r[1] for r in results]\n",
    "epsilons = [r[2] for r in results]\n",
    "\n",
    "# Plot Accuracy\n",
    "plt.figure(figsize=(12, 5))\n",
    "plt.subplot(1, 2, 1)\n",
    "plt.plot(batch_sizes, accuracies, marker='o')\n",
    "plt.title('Accuracy vs Batch Size')\n",
    "plt.xlabel('Batch Size')\n",
    "plt.ylabel('Accuracy')\n",
    "plt.grid(True)\n",
    "\n",
    "# Plot Epsilon\n",
    "plt.subplot(1, 2, 2)\n",
    "plt.plot(batch_sizes, epsilons, marker='o', color='red')\n",
    "plt.title('Privacy ε vs Batch Size')\n",
    "plt.xlabel('Batch Size')\n",
    "plt.ylabel('Epsilon (ε)')\n",
    "plt.grid(True)\n",
    "\n",
    "plt.tight_layout()\n",
    "plt.show()\n"
   ]
  },
  {
   "cell_type": "code",
   "execution_count": null,
   "metadata": {
    "colab": {
     "base_uri": "https://localhost:8080/",
     "height": 684,
     "referenced_widgets": [
      "d7fbc3398ea642cbad3c5418e5dd009b",
      "53f522056e9c457bb30edb75d2f908fa",
      "139ebb7c56db4f3f90a77d679f023f78",
      "7b5c73fd2ae64980ad714773e2bf602e",
      "f82c957e038245b98bf604aec803bf7f",
      "c17e19e0736a4fa0a505c861639a1650",
      "91ffc726fca94ccc851032a3151a1323",
      "2c641781df47417598797def46a84a40",
      "8e4014c2060447fdb0911df4477dbfba",
      "5d2baa140e3c4413b3c209845f6a69a6",
      "32d2acd3394b447291375e4b7017ed00",
      "93cb64c272034d99ac0a9ef6d88f017f",
      "72240f1745d644c18aad0c778031d6fe",
      "c73f187f81a249a8a7f73f5bf790f4ca",
      "60fb7d6163aa495c89753dae59621a6a",
      "3adc5bdbf30d4630b084e28574a6ecb3",
      "e2885baff62248bf8e3b790590a890b1",
      "ec3efcd7738344b7b63ff8ddd0d41f93",
      "04c9715c5db043178c83f3fa7f2189fa",
      "09d4148509524f668fbe42431d703ea3",
      "2b10ff7e57254edc80c6dc8bd3d85004",
      "cf657308fef14f6eac46312a51e3a9d2"
     ]
    },
    "id": "PVphFrWiAnv9",
    "outputId": "4e818a88-e719-4fd2-85e9-eacb321add7f"
   },
   "outputs": [
    {
     "name": "stdout",
     "output_type": "stream",
     "text": [
      "✅ Loaded data with shape: (181284, 46)\n",
      "✅ Numeric columns: 37\n",
      "✅ Categorical columns: 6\n",
      "✅ Features preprocessed: (181284, 100053), type: <class 'scipy.sparse._csr.csr_matrix'>\n",
      "✅ Data split:  (145027, 100053) (36257, 100053)\n",
      "🚀 Training with batch size: 256\n"
     ]
    },
    {
     "data": {
      "application/vnd.jupyter.widget-view+json": {
       "model_id": "d7fbc3398ea642cbad3c5418e5dd009b",
       "version_major": 2,
       "version_minor": 0
      },
      "text/plain": [
       "0epoch [00:00, ?epoch/s]"
      ]
     },
     "metadata": {},
     "output_type": "display_data"
    },
    {
     "data": {
      "application/vnd.jupyter.widget-view+json": {
       "model_id": "93cb64c272034d99ac0a9ef6d88f017f",
       "version_major": 2,
       "version_minor": 0
      },
      "text/plain": [
       "0batch [00:00, ?batch/s]"
      ]
     },
     "metadata": {},
     "output_type": "display_data"
    },
    {
     "name": "stderr",
     "output_type": "stream",
     "text": [
      "WARNING:tensorflow:Converting IndexedSlices(indices=Tensor(\"gradient_tape/sequential/dense/embedding_lookup_sparse/embedding_lookup/Reshape_1:0\", shape=(None,), dtype=int64), values=Tensor(\"gradient_tape/sequential/dense/embedding_lookup_sparse/embedding_lookup/Reshape:0\", shape=(None, 128), dtype=float32), dense_shape=Tensor(\"gradient_tape/sequential/dense/embedding_lookup_sparse/embedding_lookup/Const:0\", shape=(2,), dtype=int32)) to a dense representation may make it slow. Alternatively, output the indices and values of the IndexedSlices separately, and handle the vectorized outputs directly.\n",
      "WARNING:tensorflow:Converting IndexedSlices(indices=Tensor(\"gradient_tape/sequential/dense/embedding_lookup_sparse/embedding_lookup/Reshape_1:0\", shape=(None,), dtype=int64), values=Tensor(\"gradient_tape/sequential/dense/embedding_lookup_sparse/embedding_lookup/Reshape:0\", shape=(None, 128), dtype=float32), dense_shape=Tensor(\"gradient_tape/sequential/dense/embedding_lookup_sparse/embedding_lookup/Const:0\", shape=(2,), dtype=int32)) to a dense representation may make it slow. Alternatively, output the indices and values of the IndexedSlices separately, and handle the vectorized outputs directly.\n",
      "WARNING:absl:`compute_dp_sgd_privacy` is deprecated. It does not account for doubling of sensitivity with microbatching, and assumes Poisson subsampling, which is rarely used in practice. Please use `compute_dp_sgd_privacy_statement`, which provides appropriate context for the guarantee. To compute epsilon under different assumptions than those in `compute_dp_sgd_privacy_statement`, call the `dp_accounting` libraries directly.\n"
     ]
    },
    {
     "name": "stdout",
     "output_type": "stream",
     "text": [
      "✅ Done: batch_size=256 → Accuracy=0.9965, ε=6.78\n"
     ]
    },
    {
     "data": {
      "image/png": "[encoded data removed]",
      "text/plain": [
       "<Figure size 1200x500 with 2 Axes>"
      ]
     },
     "metadata": {},
     "output_type": "display_data"
    }
   ],
   "source": [
    "# 📦 Imports\n",
    "import pandas as pd\n",
    "import numpy as np\n",
    "import matplotlib.pyplot as plt\n",
    "import tensorflow as tf\n",
    "from sklearn.model_selection import train_test_split\n",
    "from sklearn.preprocessing import StandardScaler, OneHotEncoder, LabelEncoder\n",
    "from sklearn.compose import ColumnTransformer\n",
    "from sklearn.pipeline import Pipeline\n",
    "from tensorflow_privacy.privacy.optimizers.dp_optimizer_keras import DPKerasAdamOptimizer\n",
    "from tensorflow_privacy.privacy.analysis.compute_dp_sgd_privacy_lib import compute_dp_sgd_privacy\n",
    "from tensorflow.keras.losses import BinaryCrossentropy\n",
    "\n",
    "# Install tqdm if not installed\n",
    "!pip install -q tqdm\n",
    "from tqdm.keras import TqdmCallback\n",
    "\n",
    "# 🧩 Load dataset\n",
    "data_path = '/content/drive/MyDrive/datasets/100000-Patients/merged_with_labs_pivoted.csv'\n",
    "df = pd.read_csv(data_path)\n",
    "print(\"✅ Loaded data with shape:\", df.shape)\n",
    "\n",
    "# 📉 Drop leakage columns\n",
    "df = df.drop(columns=['next_admission_date', 'days_to_readmission'])\n",
    "\n",
    "# 🎯 Encode target\n",
    "label_encoder = LabelEncoder()\n",
    "df['readmission'] = label_encoder.fit_transform(df['readmission'])\n",
    "\n",
    "# ➗ Separate features and target\n",
    "X = df.drop(columns=['readmission'])\n",
    "y = df['readmission']\n",
    "\n",
    "# 🔍 Identify numeric and categorical columns\n",
    "numeric_cols = X.select_dtypes(include=[np.number]).columns.tolist()\n",
    "categorical_cols = X.select_dtypes(include=['object']).columns.tolist()\n",
    "\n",
    "print(f\"✅ Numeric columns: {len(numeric_cols)}\")\n",
    "print(f\"✅ Categorical columns: {len(categorical_cols)}\")\n",
    "\n",
    "# 🔧 Build preprocessing pipeline\n",
    "numeric_transformer = Pipeline(steps=[\n",
    "    ('scaler', StandardScaler())\n",
    "])\n",
    "\n",
    "categorical_transformer = Pipeline(steps=[\n",
    "    ('onehot', OneHotEncoder(handle_unknown='ignore', sparse_output=True))\n",
    "])\n",
    "\n",
    "preprocessor = ColumnTransformer(\n",
    "    transformers=[\n",
    "        ('num', numeric_transformer, numeric_cols),\n",
    "        ('cat', categorical_transformer, categorical_cols)\n",
    "    ],\n",
    "    sparse_threshold=0.1\n",
    ")\n",
    "\n",
    "# 🔥 Preprocess features (keep sparse)\n",
    "X_processed = preprocessor.fit_transform(X)\n",
    "print(f\"✅ Features preprocessed: {X_processed.shape}, type: {type(X_processed)}\")\n",
    "\n",
    "# ✂️ Train-test split\n",
    "X_train_sparse, X_test_sparse, y_train, y_test = train_test_split(X_processed, y, test_size=0.2, random_state=42)\n",
    "print(\"✅ Data split: \", X_train_sparse.shape, X_test_sparse.shape)\n",
    "\n",
    "# 🔄 Convert to TensorFlow SparseTensor\n",
    "def scipy_to_tf_sparse(scipy_mat):\n",
    "    coo = scipy_mat.tocoo()\n",
    "    indices = np.vstack((coo.row, coo.col)).T\n",
    "    return tf.sparse.SparseTensor(indices, coo.data.astype(np.float32), coo.shape)\n",
    "\n",
    "X_train_tf = scipy_to_tf_sparse(X_train_sparse)\n",
    "X_test_tf = scipy_to_tf_sparse(X_test_sparse)\n",
    "\n",
    "# 🧱 Build the model\n",
    "def create_sparse_model(input_dim):\n",
    "    model = tf.keras.Sequential([\n",
    "        tf.keras.layers.Input(shape=(input_dim,), sparse=True),\n",
    "        tf.keras.layers.Dense(128, activation='relu'),\n",
    "        tf.keras.layers.Dense(64, activation='relu'),\n",
    "        tf.keras.layers.Dense(1, activation='sigmoid')\n",
    "    ])\n",
    "    return model\n",
    "\n",
    "# 📦 Create TensorFlow Datasets\n",
    "batch_size = 256\n",
    "noise_multiplier = 0.5\n",
    "\n",
    "# Store results\n",
    "results = []\n",
    "print(f\"🚀 Training with batch size: {batch_size}\")\n",
    "\n",
    "train_dataset = tf.data.Dataset.from_tensor_slices((X_train_tf, y_train))\n",
    "train_dataset = train_dataset.shuffle(10000).batch(batch_size, drop_remainder=True).prefetch(tf.data.AUTOTUNE)\n",
    "\n",
    "test_dataset = tf.data.Dataset.from_tensor_slices((X_test_tf, y_test))\n",
    "test_dataset = test_dataset.batch(batch_size, drop_remainder=True).prefetch(tf.data.AUTOTUNE)\n",
    "\n",
    "# Create model\n",
    "model = create_sparse_model(X_train_sparse.shape[1])\n",
    "\n",
    "# DP Optimizer\n",
    "optimizer = DPKerasAdamOptimizer(\n",
    "  l2_norm_clip=1.0,\n",
    "  noise_multiplier=noise_multiplier,\n",
    "  num_microbatches=batch_size,\n",
    "  learning_rate=0.001\n",
    ")\n",
    "\n",
    "model.compile(\n",
    "  optimizer=optimizer,\n",
    "  loss=BinaryCrossentropy(from_logits=False, reduction=tf.keras.losses.Reduction.NONE),\n",
    "  metrics=['accuracy']\n",
    "    )\n",
    "\n",
    "# Train model\n",
    "history = model.fit(\n",
    "  train_dataset,\n",
    "  epochs=5,\n",
    "  validation_data=test_dataset,\n",
    "  verbose=0,\n",
    "  callbacks=[TqdmCallback(verbose=1)]\n",
    ")\n",
    "\n",
    "# Evaluate\n",
    "loss, accuracy = model.evaluate(test_dataset, verbose=0)\n",
    "\n",
    "# Compute privacy budget\n",
    "dataset_size = X_train_sparse.shape[0]\n",
    "epsilon, _ = compute_dp_sgd_privacy(   # 🛠 only 2 outputs\n",
    "  n=dataset_size,\n",
    "  batch_size=batch_size,\n",
    "  noise_multiplier=noise_multiplier,\n",
    "  epochs=5,\n",
    "  delta=1e-5\n",
    ")\n",
    "\n",
    "print(f\"✅ Done: batch_size={batch_size} → Accuracy={accuracy:.4f}, ε={epsilon:.2f}\")\n",
    "\n",
    "results.append((batch_size, accuracy, epsilon))\n",
    "\n",
    "# 📈 Plot Results\n",
    "batch_sizes = [r[0] for r in results]\n",
    "accuracies = [r[1] for r in results]\n",
    "epsilons = [r[2] for r in results]\n",
    "\n",
    "# Plot Accuracy\n",
    "plt.figure(figsize=(12, 5))\n",
    "plt.subplot(1, 2, 1)\n",
    "plt.plot(batch_sizes, accuracies, marker='o')\n",
    "plt.title('Accuracy vs Batch Size')\n",
    "plt.xlabel('Batch Size')\n",
    "plt.ylabel('Accuracy')\n",
    "plt.grid(True)\n",
    "\n",
    "# Plot Epsilon\n",
    "plt.subplot(1, 2, 2)\n",
    "plt.plot(batch_sizes, epsilons, marker='o', color='red')\n",
    "plt.title('Privacy ε vs Batch Size')\n",
    "plt.xlabel('Batch Size')\n",
    "plt.ylabel('Epsilon (ε)')\n",
    "plt.grid(True)\n",
    "\n",
    "plt.tight_layout()\n",
    "plt.show()\n"
   ]
  },
  {
   "cell_type": "code",
   "execution_count": null,
   "metadata": {
    "colab": {
     "base_uri": "https://localhost:8080/",
     "height": 684,
     "referenced_widgets": [
      "4b6f699b366a474cbad3a3ef6766ef08",
      "fcc1e3e2cddc485588fa768fc6bde4b3",
      "9ba7a71d9d944fa09e61cc2373d77a68",
      "efbd048f2d6e45338648e02ac0600f0f",
      "41efc08b868b42868a01db2de9e304f5",
      "019668af468548f18cebdafdd329901f",
      "076a74e69a7f4d1182e8a5bacabcb482",
      "788d3f74a9d940fda05c93ed966813a6",
      "4822f1ed220b41a6a1696955125656c9",
      "0bbba6375b824ed1a2e1c5c2e74fdeff",
      "aaffe02acd0043e883c6dd171418a03a",
      "d83e6506d6234970882f033865e479f2",
      "97f1eac05a004179bfa722fc95935149",
      "77c5897580824a80ac69cfc1023424db",
      "8275b377d6b341d5bfce9a338d4289b3",
      "57cdd24576804a5199e6d17fd866fc40",
      "4231205aaaec4b82bb2cb1efb9ef7e43",
      "0aaa23d78e4c49e9b2aa9e6b40dc98db",
      "67c3118b69c742fe82b5f41552abeef1",
      "01cbb33182754acab81efdf0b0d73041",
      "34ec58213c444dc299de8123bf804141",
      "5295dfeead8245589f4e4aee075d7de4"
     ]
    },
    "id": "iDO0Ub9Jj9LW",
    "outputId": "86969471-64aa-4885-d9fa-c7625e889e79"
   },
   "outputs": [
    {
     "name": "stdout",
     "output_type": "stream",
     "text": [
      "✅ Loaded data with shape: (181284, 46)\n",
      "✅ Numeric columns: 37\n",
      "✅ Categorical columns: 6\n",
      "✅ Features preprocessed: (181284, 100053), type: <class 'scipy.sparse._csr.csr_matrix'>\n",
      "✅ Data split:  (145027, 100053) (36257, 100053)\n",
      "🚀 Training with batch size: 512\n"
     ]
    },
    {
     "data": {
      "application/vnd.jupyter.widget-view+json": {
       "model_id": "4b6f699b366a474cbad3a3ef6766ef08",
       "version_major": 2,
       "version_minor": 0
      },
      "text/plain": [
       "0epoch [00:00, ?epoch/s]"
      ]
     },
     "metadata": {},
     "output_type": "display_data"
    },
    {
     "data": {
      "application/vnd.jupyter.widget-view+json": {
       "model_id": "d83e6506d6234970882f033865e479f2",
       "version_major": 2,
       "version_minor": 0
      },
      "text/plain": [
       "0batch [00:00, ?batch/s]"
      ]
     },
     "metadata": {},
     "output_type": "display_data"
    },
    {
     "name": "stderr",
     "output_type": "stream",
     "text": [
      "WARNING:tensorflow:Converting IndexedSlices(indices=Tensor(\"gradient_tape/sequential/dense/embedding_lookup_sparse/embedding_lookup/Reshape_1:0\", shape=(None,), dtype=int64), values=Tensor(\"gradient_tape/sequential/dense/embedding_lookup_sparse/embedding_lookup/Reshape:0\", shape=(None, 128), dtype=float32), dense_shape=Tensor(\"gradient_tape/sequential/dense/embedding_lookup_sparse/embedding_lookup/Const:0\", shape=(2,), dtype=int32)) to a dense representation may make it slow. Alternatively, output the indices and values of the IndexedSlices separately, and handle the vectorized outputs directly.\n",
      "WARNING:tensorflow:Converting IndexedSlices(indices=Tensor(\"gradient_tape/sequential/dense/embedding_lookup_sparse/embedding_lookup/Reshape_1:0\", shape=(None,), dtype=int64), values=Tensor(\"gradient_tape/sequential/dense/embedding_lookup_sparse/embedding_lookup/Reshape:0\", shape=(None, 128), dtype=float32), dense_shape=Tensor(\"gradient_tape/sequential/dense/embedding_lookup_sparse/embedding_lookup/Const:0\", shape=(2,), dtype=int32)) to a dense representation may make it slow. Alternatively, output the indices and values of the IndexedSlices separately, and handle the vectorized outputs directly.\n",
      "WARNING:absl:`compute_dp_sgd_privacy` is deprecated. It does not account for doubling of sensitivity with microbatching, and assumes Poisson subsampling, which is rarely used in practice. Please use `compute_dp_sgd_privacy_statement`, which provides appropriate context for the guarantee. To compute epsilon under different assumptions than those in `compute_dp_sgd_privacy_statement`, call the `dp_accounting` libraries directly.\n"
     ]
    },
    {
     "name": "stdout",
     "output_type": "stream",
     "text": [
      "✅ Done: batch_size=512 → Accuracy=0.9966, ε=8.46\n"
     ]
    },
    {
     "data": {
      "image/png": "[encoded data removed]",
      "text/plain": [
       "<Figure size 1200x500 with 2 Axes>"
      ]
     },
     "metadata": {},
     "output_type": "display_data"
    }
   ],
   "source": [
    "# 📦 Imports\n",
    "import pandas as pd\n",
    "import numpy as np\n",
    "import matplotlib.pyplot as plt\n",
    "import tensorflow as tf\n",
    "from sklearn.model_selection import train_test_split\n",
    "from sklearn.preprocessing import StandardScaler, OneHotEncoder, LabelEncoder\n",
    "from sklearn.compose import ColumnTransformer\n",
    "from sklearn.pipeline import Pipeline\n",
    "from tensorflow_privacy.privacy.optimizers.dp_optimizer_keras import DPKerasAdamOptimizer\n",
    "from tensorflow_privacy.privacy.analysis.compute_dp_sgd_privacy_lib import compute_dp_sgd_privacy\n",
    "from tensorflow.keras.losses import BinaryCrossentropy\n",
    "\n",
    "# Install tqdm if not installed\n",
    "!pip install -q tqdm\n",
    "from tqdm.keras import TqdmCallback\n",
    "\n",
    "# 🧩 Load dataset\n",
    "data_path = '/content/drive/MyDrive/datasets/100000-Patients/merged_with_labs_pivoted.csv'\n",
    "df = pd.read_csv(data_path)\n",
    "print(\"✅ Loaded data with shape:\", df.shape)\n",
    "\n",
    "# 📉 Drop leakage columns\n",
    "df = df.drop(columns=['next_admission_date', 'days_to_readmission'])\n",
    "\n",
    "# 🎯 Encode target\n",
    "label_encoder = LabelEncoder()\n",
    "df['readmission'] = label_encoder.fit_transform(df['readmission'])\n",
    "\n",
    "# ➗ Separate features and target\n",
    "X = df.drop(columns=['readmission'])\n",
    "y = df['readmission']\n",
    "\n",
    "# 🔍 Identify numeric and categorical columns\n",
    "numeric_cols = X.select_dtypes(include=[np.number]).columns.tolist()\n",
    "categorical_cols = X.select_dtypes(include=['object']).columns.tolist()\n",
    "\n",
    "print(f\"✅ Numeric columns: {len(numeric_cols)}\")\n",
    "print(f\"✅ Categorical columns: {len(categorical_cols)}\")\n",
    "\n",
    "# 🔧 Build preprocessing pipeline\n",
    "numeric_transformer = Pipeline(steps=[\n",
    "    ('scaler', StandardScaler())\n",
    "])\n",
    "\n",
    "categorical_transformer = Pipeline(steps=[\n",
    "    ('onehot', OneHotEncoder(handle_unknown='ignore', sparse_output=True))\n",
    "])\n",
    "\n",
    "preprocessor = ColumnTransformer(\n",
    "    transformers=[\n",
    "        ('num', numeric_transformer, numeric_cols),\n",
    "        ('cat', categorical_transformer, categorical_cols)\n",
    "    ],\n",
    "    sparse_threshold=0.1\n",
    ")\n",
    "\n",
    "# 🔥 Preprocess features (keep sparse)\n",
    "X_processed = preprocessor.fit_transform(X)\n",
    "print(f\"✅ Features preprocessed: {X_processed.shape}, type: {type(X_processed)}\")\n",
    "\n",
    "# ✂️ Train-test split\n",
    "X_train_sparse, X_test_sparse, y_train, y_test = train_test_split(X_processed, y, test_size=0.2, random_state=42)\n",
    "print(\"✅ Data split: \", X_train_sparse.shape, X_test_sparse.shape)\n",
    "\n",
    "# 🔄 Convert to TensorFlow SparseTensor\n",
    "def scipy_to_tf_sparse(scipy_mat):\n",
    "    coo = scipy_mat.tocoo()\n",
    "    indices = np.vstack((coo.row, coo.col)).T\n",
    "    return tf.sparse.SparseTensor(indices, coo.data.astype(np.float32), coo.shape)\n",
    "\n",
    "X_train_tf = scipy_to_tf_sparse(X_train_sparse)\n",
    "X_test_tf = scipy_to_tf_sparse(X_test_sparse)\n",
    "\n",
    "# 🧱 Build the model\n",
    "def create_sparse_model(input_dim):\n",
    "    model = tf.keras.Sequential([\n",
    "        tf.keras.layers.Input(shape=(input_dim,), sparse=True),\n",
    "        tf.keras.layers.Dense(128, activation='relu'),\n",
    "        tf.keras.layers.Dense(64, activation='relu'),\n",
    "        tf.keras.layers.Dense(1, activation='sigmoid')\n",
    "    ])\n",
    "    return model\n",
    "\n",
    "# 📦 Create TensorFlow Datasets\n",
    "batch_size = 512\n",
    "noise_multiplier = 0.5\n",
    "\n",
    "# Store results\n",
    "results = []\n",
    "print(f\"🚀 Training with batch size: {batch_size}\")\n",
    "\n",
    "train_dataset = tf.data.Dataset.from_tensor_slices((X_train_tf, y_train))\n",
    "train_dataset = train_dataset.shuffle(10000).batch(batch_size, drop_remainder=True).prefetch(tf.data.AUTOTUNE)\n",
    "\n",
    "test_dataset = tf.data.Dataset.from_tensor_slices((X_test_tf, y_test))\n",
    "test_dataset = test_dataset.batch(batch_size, drop_remainder=True).prefetch(tf.data.AUTOTUNE)\n",
    "\n",
    "# Create model\n",
    "model = create_sparse_model(X_train_sparse.shape[1])\n",
    "\n",
    "# DP Optimizer\n",
    "optimizer = DPKerasAdamOptimizer(\n",
    "  l2_norm_clip=1.0,\n",
    "  noise_multiplier=noise_multiplier,\n",
    "  num_microbatches=batch_size,\n",
    "  learning_rate=0.001\n",
    ")\n",
    "\n",
    "model.compile(\n",
    "  optimizer=optimizer,\n",
    "  loss=BinaryCrossentropy(from_logits=False, reduction=tf.keras.losses.Reduction.NONE),\n",
    "  metrics=['accuracy']\n",
    "    )\n",
    "\n",
    "# Train model\n",
    "history = model.fit(\n",
    "  train_dataset,\n",
    "  epochs=5,\n",
    "  validation_data=test_dataset,\n",
    "  verbose=0,\n",
    "  callbacks=[TqdmCallback(verbose=1)]\n",
    ")\n",
    "\n",
    "# Evaluate\n",
    "loss, accuracy = model.evaluate(test_dataset, verbose=0)\n",
    "\n",
    "# Compute privacy budget\n",
    "dataset_size = X_train_sparse.shape[0]\n",
    "epsilon, _ = compute_dp_sgd_privacy(   # 🛠 only 2 outputs\n",
    "  n=dataset_size,\n",
    "  batch_size=batch_size,\n",
    "  noise_multiplier=noise_multiplier,\n",
    "  epochs=5,\n",
    "  delta=1e-5\n",
    ")\n",
    "\n",
    "print(f\"✅ Done: batch_size={batch_size} → Accuracy={accuracy:.4f}, ε={epsilon:.2f}\")\n",
    "\n",
    "results.append((batch_size, accuracy, epsilon))\n",
    "\n",
    "# 📈 Plot Results\n",
    "batch_sizes = [r[0] for r in results]\n",
    "accuracies = [r[1] for r in results]\n",
    "epsilons = [r[2] for r in results]\n",
    "\n",
    "# Plot Accuracy\n",
    "plt.figure(figsize=(12, 5))\n",
    "plt.subplot(1, 2, 1)\n",
    "plt.plot(batch_sizes, accuracies, marker='o')\n",
    "plt.title('Accuracy vs Batch Size')\n",
    "plt.xlabel('Batch Size')\n",
    "plt.ylabel('Accuracy')\n",
    "plt.grid(True)\n",
    "\n",
    "# Plot Epsilon\n",
    "plt.subplot(1, 2, 2)\n",
    "plt.plot(batch_sizes, epsilons, marker='o', color='red')\n",
    "plt.title('Privacy ε vs Batch Size')\n",
    "plt.xlabel('Batch Size')\n",
    "plt.ylabel('Epsilon (ε)')\n",
    "plt.grid(True)\n",
    "\n",
    "plt.tight_layout()\n",
    "plt.show()\n"
   ]
  },
  {
   "cell_type": "code",
   "execution_count": null,
   "metadata": {
    "colab": {
     "base_uri": "https://localhost:8080/",
     "height": 684,
     "referenced_widgets": [
      "8dc31fe3405346569a310bb552e1154a",
      "77f777002f0f429bb1644310e9e87032",
      "ccdc712a0bee4003a873ca7c2925a439",
      "d913966570a64b61900db5ac6a69f8bc",
      "ef23dee98c53484787a654cdec0086f2",
      "56112cdc47e4429dbf0babace396df7e",
      "20e17ff9b6ae456080b91d8dad30f5de",
      "f4007ba1c78b4355bf0721de21a84436",
      "15562d2e4ad44c8fbce29d46477c0559",
      "d612966f502c4de88dd0184455e144dd",
      "eb82789fdb3f413bb5a275c3eac0d048",
      "255ca2ce2b2747d2921dd65eb7b8bbab",
      "0f4a431677b9450facdcaf1ebe3a09ad",
      "af9a1d10359d45eca25a0e80a6c3a077",
      "ad5565977fb944b0bb071574043c544d",
      "83a8309d39dd4b998f09701b367eb3a2",
      "d6b52011a6bd4d3db4a8f0b1789108fa",
      "a6a238ff16624198a09695d22471b5c2",
      "4e47f8fe35ac45f1ab69c6a1a40894e7",
      "c7bbf5c898f8411bb330b3ac4c7f9783",
      "2cb0e883bf224ab6939b0b6d3aac1101",
      "970f06d459bf477a8acb032f20eab281"
     ]
    },
    "id": "ZeO9k29KJYal",
    "outputId": "b4bef313-095c-4fc7-9141-20406dc180e7"
   },
   "outputs": [
    {
     "name": "stdout",
     "output_type": "stream",
     "text": [
      "✅ Loaded data with shape: (181284, 46)\n",
      "✅ Numeric columns: 37\n",
      "✅ Categorical columns: 6\n",
      "✅ Features preprocessed: (181284, 100053), type: <class 'scipy.sparse._csr.csr_matrix'>\n",
      "✅ Data split:  (145027, 100053) (36257, 100053)\n",
      "🚀 Training with batch size: 128\n"
     ]
    },
    {
     "data": {
      "application/vnd.jupyter.widget-view+json": {
       "model_id": "8dc31fe3405346569a310bb552e1154a",
       "version_major": 2,
       "version_minor": 0
      },
      "text/plain": [
       "0epoch [00:00, ?epoch/s]"
      ]
     },
     "metadata": {},
     "output_type": "display_data"
    },
    {
     "data": {
      "application/vnd.jupyter.widget-view+json": {
       "model_id": "255ca2ce2b2747d2921dd65eb7b8bbab",
       "version_major": 2,
       "version_minor": 0
      },
      "text/plain": [
       "0batch [00:00, ?batch/s]"
      ]
     },
     "metadata": {},
     "output_type": "display_data"
    },
    {
     "name": "stderr",
     "output_type": "stream",
     "text": [
      "WARNING:tensorflow:Converting IndexedSlices(indices=Tensor(\"gradient_tape/sequential/dense/embedding_lookup_sparse/embedding_lookup/Reshape_1:0\", shape=(None,), dtype=int64), values=Tensor(\"gradient_tape/sequential/dense/embedding_lookup_sparse/embedding_lookup/Reshape:0\", shape=(None, 128), dtype=float32), dense_shape=Tensor(\"gradient_tape/sequential/dense/embedding_lookup_sparse/embedding_lookup/Const:0\", shape=(2,), dtype=int32)) to a dense representation may make it slow. Alternatively, output the indices and values of the IndexedSlices separately, and handle the vectorized outputs directly.\n",
      "WARNING:tensorflow:Converting IndexedSlices(indices=Tensor(\"gradient_tape/sequential/dense/embedding_lookup_sparse/embedding_lookup/Reshape_1:0\", shape=(None,), dtype=int64), values=Tensor(\"gradient_tape/sequential/dense/embedding_lookup_sparse/embedding_lookup/Reshape:0\", shape=(None, 128), dtype=float32), dense_shape=Tensor(\"gradient_tape/sequential/dense/embedding_lookup_sparse/embedding_lookup/Const:0\", shape=(2,), dtype=int32)) to a dense representation may make it slow. Alternatively, output the indices and values of the IndexedSlices separately, and handle the vectorized outputs directly.\n",
      "WARNING:absl:`compute_dp_sgd_privacy` is deprecated. It does not account for doubling of sensitivity with microbatching, and assumes Poisson subsampling, which is rarely used in practice. Please use `compute_dp_sgd_privacy_statement`, which provides appropriate context for the guarantee. To compute epsilon under different assumptions than those in `compute_dp_sgd_privacy_statement`, call the `dp_accounting` libraries directly.\n"
     ]
    },
    {
     "name": "stdout",
     "output_type": "stream",
     "text": [
      "✅ Done: batch_size=128 → Accuracy=0.9965, ε=0.72\n"
     ]
    },
    {
     "data": {
      "image/png": "[encoded data removed]",
      "text/plain": [
       "<Figure size 1200x500 with 2 Axes>"
      ]
     },
     "metadata": {},
     "output_type": "display_data"
    }
   ],
   "source": [
    "# 📦 Imports\n",
    "import pandas as pd\n",
    "import numpy as np\n",
    "import matplotlib.pyplot as plt\n",
    "import tensorflow as tf\n",
    "from sklearn.model_selection import train_test_split\n",
    "from sklearn.preprocessing import StandardScaler, OneHotEncoder, LabelEncoder\n",
    "from sklearn.compose import ColumnTransformer\n",
    "from sklearn.pipeline import Pipeline\n",
    "from tensorflow_privacy.privacy.optimizers.dp_optimizer_keras import DPKerasAdamOptimizer\n",
    "from tensorflow_privacy.privacy.analysis.compute_dp_sgd_privacy_lib import compute_dp_sgd_privacy\n",
    "from tensorflow.keras.losses import BinaryCrossentropy\n",
    "\n",
    "# Install tqdm if not installed\n",
    "!pip install -q tqdm\n",
    "from tqdm.keras import TqdmCallback\n",
    "\n",
    "# 🧩 Load dataset\n",
    "data_path = '/content/drive/MyDrive/datasets/100000-Patients/merged_with_labs_pivoted.csv'\n",
    "df = pd.read_csv(data_path)\n",
    "print(\"✅ Loaded data with shape:\", df.shape)\n",
    "\n",
    "# 📉 Drop leakage columns\n",
    "df = df.drop(columns=['next_admission_date', 'days_to_readmission'])\n",
    "\n",
    "# 🎯 Encode target\n",
    "label_encoder = LabelEncoder()\n",
    "df['readmission'] = label_encoder.fit_transform(df['readmission'])\n",
    "\n",
    "# ➗ Separate features and target\n",
    "X = df.drop(columns=['readmission'])\n",
    "y = df['readmission']\n",
    "\n",
    "# 🔍 Identify numeric and categorical columns\n",
    "numeric_cols = X.select_dtypes(include=[np.number]).columns.tolist()\n",
    "categorical_cols = X.select_dtypes(include=['object']).columns.tolist()\n",
    "\n",
    "print(f\"✅ Numeric columns: {len(numeric_cols)}\")\n",
    "print(f\"✅ Categorical columns: {len(categorical_cols)}\")\n",
    "\n",
    "# 🔧 Build preprocessing pipeline\n",
    "numeric_transformer = Pipeline(steps=[\n",
    "    ('scaler', StandardScaler())\n",
    "])\n",
    "\n",
    "categorical_transformer = Pipeline(steps=[\n",
    "    ('onehot', OneHotEncoder(handle_unknown='ignore', sparse_output=True))\n",
    "])\n",
    "\n",
    "preprocessor = ColumnTransformer(\n",
    "    transformers=[\n",
    "        ('num', numeric_transformer, numeric_cols),\n",
    "        ('cat', categorical_transformer, categorical_cols)\n",
    "    ],\n",
    "    sparse_threshold=0.1\n",
    ")\n",
    "\n",
    "# 🔥 Preprocess features (keep sparse)\n",
    "X_processed = preprocessor.fit_transform(X)\n",
    "print(f\"✅ Features preprocessed: {X_processed.shape}, type: {type(X_processed)}\")\n",
    "\n",
    "# ✂️ Train-test split\n",
    "X_train_sparse, X_test_sparse, y_train, y_test = train_test_split(X_processed, y, test_size=0.2, random_state=42)\n",
    "print(\"✅ Data split: \", X_train_sparse.shape, X_test_sparse.shape)\n",
    "\n",
    "# 🔄 Convert to TensorFlow SparseTensor\n",
    "def scipy_to_tf_sparse(scipy_mat):\n",
    "    coo = scipy_mat.tocoo()\n",
    "    indices = np.vstack((coo.row, coo.col)).T\n",
    "    return tf.sparse.SparseTensor(indices, coo.data.astype(np.float32), coo.shape)\n",
    "\n",
    "X_train_tf = scipy_to_tf_sparse(X_train_sparse)\n",
    "X_test_tf = scipy_to_tf_sparse(X_test_sparse)\n",
    "\n",
    "# 🧱 Build the model\n",
    "def create_sparse_model(input_dim):\n",
    "    model = tf.keras.Sequential([\n",
    "        tf.keras.layers.Input(shape=(input_dim,), sparse=True),\n",
    "        tf.keras.layers.Dense(128, activation='relu'),\n",
    "        tf.keras.layers.Dense(64, activation='relu'),\n",
    "        tf.keras.layers.Dense(1, activation='sigmoid')\n",
    "    ])\n",
    "    return model\n",
    "\n",
    "# 📦 Create TensorFlow Datasets\n",
    "batch_size = 128\n",
    "noise_multiplier = 1.0\n",
    "\n",
    "# Store results\n",
    "results = []\n",
    "print(f\"🚀 Training with batch size: {batch_size}\")\n",
    "\n",
    "train_dataset = tf.data.Dataset.from_tensor_slices((X_train_tf, y_train))\n",
    "train_dataset = train_dataset.shuffle(10000).batch(batch_size, drop_remainder=True).prefetch(tf.data.AUTOTUNE)\n",
    "\n",
    "test_dataset = tf.data.Dataset.from_tensor_slices((X_test_tf, y_test))\n",
    "test_dataset = test_dataset.batch(batch_size, drop_remainder=True).prefetch(tf.data.AUTOTUNE)\n",
    "\n",
    "# Create model\n",
    "model = create_sparse_model(X_train_sparse.shape[1])\n",
    "\n",
    "# DP Optimizer\n",
    "optimizer = DPKerasAdamOptimizer(\n",
    "  l2_norm_clip=1.0,\n",
    "  noise_multiplier=noise_multiplier,\n",
    "  num_microbatches=batch_size,\n",
    "  learning_rate=0.001\n",
    ")\n",
    "\n",
    "model.compile(\n",
    "  optimizer=optimizer,\n",
    "  loss=BinaryCrossentropy(from_logits=False, reduction=tf.keras.losses.Reduction.NONE),\n",
    "  metrics=['accuracy']\n",
    "    )\n",
    "\n",
    "# Train model\n",
    "history = model.fit(\n",
    "  train_dataset,\n",
    "  epochs=5,\n",
    "  validation_data=test_dataset,\n",
    "  verbose=0,\n",
    "  callbacks=[TqdmCallback(verbose=1)]\n",
    ")\n",
    "\n",
    "# Evaluate\n",
    "loss, accuracy = model.evaluate(test_dataset, verbose=0)\n",
    "\n",
    "# Compute privacy budget\n",
    "dataset_size = X_train_sparse.shape[0]\n",
    "epsilon, _ = compute_dp_sgd_privacy(   # 🛠 only 2 outputs\n",
    "  n=dataset_size,\n",
    "  batch_size=batch_size,\n",
    "  noise_multiplier=noise_multiplier,\n",
    "  epochs=5,\n",
    "  delta=1e-5\n",
    ")\n",
    "\n",
    "print(f\"✅ Done: batch_size={batch_size} → Accuracy={accuracy:.4f}, ε={epsilon:.2f}\")\n",
    "\n",
    "results.append((batch_size, accuracy, epsilon))\n",
    "\n",
    "# 📈 Plot Results\n",
    "batch_sizes = [r[0] for r in results]\n",
    "accuracies = [r[1] for r in results]\n",
    "epsilons = [r[2] for r in results]\n",
    "\n",
    "# Plot Accuracy\n",
    "plt.figure(figsize=(12, 5))\n",
    "plt.subplot(1, 2, 1)\n",
    "plt.plot(batch_sizes, accuracies, marker='o')\n",
    "plt.title('Accuracy vs Batch Size')\n",
    "plt.xlabel('Batch Size')\n",
    "plt.ylabel('Accuracy')\n",
    "plt.grid(True)\n",
    "\n",
    "# Plot Epsilon\n",
    "plt.subplot(1, 2, 2)\n",
    "plt.plot(batch_sizes, epsilons, marker='o', color='red')\n",
    "plt.title('Privacy ε vs Batch Size')\n",
    "plt.xlabel('Batch Size')\n",
    "plt.ylabel('Epsilon (ε)')\n",
    "plt.grid(True)\n",
    "\n",
    "plt.tight_layout()\n",
    "plt.show()\n"
   ]
  },
  {
   "cell_type": "code",
   "execution_count": null,
   "metadata": {
    "colab": {
     "base_uri": "https://localhost:8080/",
     "height": 684,
     "referenced_widgets": [
      "44f047251aca43f98a81073eef5e608c",
      "abeeb234fc7f400eb578fdeafdae9f32",
      "a4de348de6134bcca61f37c077beb2e2",
      "eb49ae81c9924a4ab0054ffe60e6889b",
      "a37e08ef5e0d4e469ca59fa3f8a47f59",
      "43ca97c7d52f4c9fa7cf280cabbc67d6",
      "ec3725d5065745169f4e3cb72e6e3158",
      "aa965f9f3c114a75a68ca919058299e8",
      "8fd1220202f949ea96bc9980d67bbccb",
      "a1000a980c364e49a284e2d2b553acdd",
      "ae582ecaa7b44b589ddac4c3467d6198",
      "fa65a343450e486b97eb57b06151a9e3",
      "f68d47b6b97b41998a11b292eb2e184c",
      "71d22a5684c1478d85779b57a4ea17bf",
      "6cf2492ff1454f0c9e83b6280a329d85",
      "4387e558cbcc4682bdbfa4b22d87eab1",
      "503e2e4787ca4ceebad932d8d8fe5ec8",
      "660be1c961ba475bbd25cdad6a0f613b",
      "751cfbc92d074eb9b3996549e1e6d4d1",
      "50e5f71732bb4eb189faa3d34c3f539a",
      "28a5d02c197544e590f22d662c5e198b",
      "339d1b0f93794baf91de0e0e486ca7b4"
     ]
    },
    "id": "xKlNSwjFJ-la",
    "outputId": "10c08b04-0837-41c5-b62d-332be81122ad"
   },
   "outputs": [
    {
     "name": "stdout",
     "output_type": "stream",
     "text": [
      "✅ Loaded data with shape: (181284, 46)\n",
      "✅ Numeric columns: 37\n",
      "✅ Categorical columns: 6\n",
      "✅ Features preprocessed: (181284, 100053), type: <class 'scipy.sparse._csr.csr_matrix'>\n",
      "✅ Data split:  (145027, 100053) (36257, 100053)\n",
      "🚀 Training with batch size: 256\n"
     ]
    },
    {
     "data": {
      "application/vnd.jupyter.widget-view+json": {
       "model_id": "44f047251aca43f98a81073eef5e608c",
       "version_major": 2,
       "version_minor": 0
      },
      "text/plain": [
       "0epoch [00:00, ?epoch/s]"
      ]
     },
     "metadata": {},
     "output_type": "display_data"
    },
    {
     "data": {
      "application/vnd.jupyter.widget-view+json": {
       "model_id": "fa65a343450e486b97eb57b06151a9e3",
       "version_major": 2,
       "version_minor": 0
      },
      "text/plain": [
       "0batch [00:00, ?batch/s]"
      ]
     },
     "metadata": {},
     "output_type": "display_data"
    },
    {
     "name": "stderr",
     "output_type": "stream",
     "text": [
      "WARNING:tensorflow:Converting IndexedSlices(indices=Tensor(\"gradient_tape/sequential/dense/embedding_lookup_sparse/embedding_lookup/Reshape_1:0\", shape=(None,), dtype=int64), values=Tensor(\"gradient_tape/sequential/dense/embedding_lookup_sparse/embedding_lookup/Reshape:0\", shape=(None, 128), dtype=float32), dense_shape=Tensor(\"gradient_tape/sequential/dense/embedding_lookup_sparse/embedding_lookup/Const:0\", shape=(2,), dtype=int32)) to a dense representation may make it slow. Alternatively, output the indices and values of the IndexedSlices separately, and handle the vectorized outputs directly.\n",
      "WARNING:tensorflow:Converting IndexedSlices(indices=Tensor(\"gradient_tape/sequential/dense/embedding_lookup_sparse/embedding_lookup/Reshape_1:0\", shape=(None,), dtype=int64), values=Tensor(\"gradient_tape/sequential/dense/embedding_lookup_sparse/embedding_lookup/Reshape:0\", shape=(None, 128), dtype=float32), dense_shape=Tensor(\"gradient_tape/sequential/dense/embedding_lookup_sparse/embedding_lookup/Const:0\", shape=(2,), dtype=int32)) to a dense representation may make it slow. Alternatively, output the indices and values of the IndexedSlices separately, and handle the vectorized outputs directly.\n",
      "WARNING:absl:`compute_dp_sgd_privacy` is deprecated. It does not account for doubling of sensitivity with microbatching, and assumes Poisson subsampling, which is rarely used in practice. Please use `compute_dp_sgd_privacy_statement`, which provides appropriate context for the guarantee. To compute epsilon under different assumptions than those in `compute_dp_sgd_privacy_statement`, call the `dp_accounting` libraries directly.\n"
     ]
    },
    {
     "name": "stdout",
     "output_type": "stream",
     "text": [
      "✅ Done: batch_size=256 → Accuracy=0.9965, ε=0.84\n"
     ]
    },
    {
     "data": {
      "image/png": "[encoded data removed]",
      "text/plain": [
       "<Figure size 1200x500 with 2 Axes>"
      ]
     },
     "metadata": {},
     "output_type": "display_data"
    }
   ],
   "source": [
    "# 📦 Imports\n",
    "import pandas as pd\n",
    "import numpy as np\n",
    "import matplotlib.pyplot as plt\n",
    "import tensorflow as tf\n",
    "from sklearn.model_selection import train_test_split\n",
    "from sklearn.preprocessing import StandardScaler, OneHotEncoder, LabelEncoder\n",
    "from sklearn.compose import ColumnTransformer\n",
    "from sklearn.pipeline import Pipeline\n",
    "from tensorflow_privacy.privacy.optimizers.dp_optimizer_keras import DPKerasAdamOptimizer\n",
    "from tensorflow_privacy.privacy.analysis.compute_dp_sgd_privacy_lib import compute_dp_sgd_privacy\n",
    "from tensorflow.keras.losses import BinaryCrossentropy\n",
    "\n",
    "# Install tqdm if not installed\n",
    "!pip install -q tqdm\n",
    "from tqdm.keras import TqdmCallback\n",
    "\n",
    "# 🧩 Load dataset\n",
    "data_path = '/content/drive/MyDrive/datasets/100000-Patients/merged_with_labs_pivoted.csv'\n",
    "df = pd.read_csv(data_path)\n",
    "print(\"✅ Loaded data with shape:\", df.shape)\n",
    "\n",
    "# 📉 Drop leakage columns\n",
    "df = df.drop(columns=['next_admission_date', 'days_to_readmission'])\n",
    "\n",
    "# 🎯 Encode target\n",
    "label_encoder = LabelEncoder()\n",
    "df['readmission'] = label_encoder.fit_transform(df['readmission'])\n",
    "\n",
    "# ➗ Separate features and target\n",
    "X = df.drop(columns=['readmission'])\n",
    "y = df['readmission']\n",
    "\n",
    "# 🔍 Identify numeric and categorical columns\n",
    "numeric_cols = X.select_dtypes(include=[np.number]).columns.tolist()\n",
    "categorical_cols = X.select_dtypes(include=['object']).columns.tolist()\n",
    "\n",
    "print(f\"✅ Numeric columns: {len(numeric_cols)}\")\n",
    "print(f\"✅ Categorical columns: {len(categorical_cols)}\")\n",
    "\n",
    "# 🔧 Build preprocessing pipeline\n",
    "numeric_transformer = Pipeline(steps=[\n",
    "    ('scaler', StandardScaler())\n",
    "])\n",
    "\n",
    "categorical_transformer = Pipeline(steps=[\n",
    "    ('onehot', OneHotEncoder(handle_unknown='ignore', sparse_output=True))\n",
    "])\n",
    "\n",
    "preprocessor = ColumnTransformer(\n",
    "    transformers=[\n",
    "        ('num', numeric_transformer, numeric_cols),\n",
    "        ('cat', categorical_transformer, categorical_cols)\n",
    "    ],\n",
    "    sparse_threshold=0.1\n",
    ")\n",
    "\n",
    "# 🔥 Preprocess features (keep sparse)\n",
    "X_processed = preprocessor.fit_transform(X)\n",
    "print(f\"✅ Features preprocessed: {X_processed.shape}, type: {type(X_processed)}\")\n",
    "\n",
    "# ✂️ Train-test split\n",
    "X_train_sparse, X_test_sparse, y_train, y_test = train_test_split(X_processed, y, test_size=0.2, random_state=42)\n",
    "print(\"✅ Data split: \", X_train_sparse.shape, X_test_sparse.shape)\n",
    "\n",
    "# 🔄 Convert to TensorFlow SparseTensor\n",
    "def scipy_to_tf_sparse(scipy_mat):\n",
    "    coo = scipy_mat.tocoo()\n",
    "    indices = np.vstack((coo.row, coo.col)).T\n",
    "    return tf.sparse.SparseTensor(indices, coo.data.astype(np.float32), coo.shape)\n",
    "\n",
    "X_train_tf = scipy_to_tf_sparse(X_train_sparse)\n",
    "X_test_tf = scipy_to_tf_sparse(X_test_sparse)\n",
    "\n",
    "# 🧱 Build the model\n",
    "def create_sparse_model(input_dim):\n",
    "    model = tf.keras.Sequential([\n",
    "        tf.keras.layers.Input(shape=(input_dim,), sparse=True),\n",
    "        tf.keras.layers.Dense(128, activation='relu'),\n",
    "        tf.keras.layers.Dense(64, activation='relu'),\n",
    "        tf.keras.layers.Dense(1, activation='sigmoid')\n",
    "    ])\n",
    "    return model\n",
    "\n",
    "# 📦 Create TensorFlow Datasets\n",
    "batch_size = 256\n",
    "noise_multiplier = 1.0\n",
    "\n",
    "# Store results\n",
    "results = []\n",
    "print(f\"🚀 Training with batch size: {batch_size}\")\n",
    "\n",
    "train_dataset = tf.data.Dataset.from_tensor_slices((X_train_tf, y_train))\n",
    "train_dataset = train_dataset.shuffle(10000).batch(batch_size, drop_remainder=True).prefetch(tf.data.AUTOTUNE)\n",
    "\n",
    "test_dataset = tf.data.Dataset.from_tensor_slices((X_test_tf, y_test))\n",
    "test_dataset = test_dataset.batch(batch_size, drop_remainder=True).prefetch(tf.data.AUTOTUNE)\n",
    "\n",
    "# Create model\n",
    "model = create_sparse_model(X_train_sparse.shape[1])\n",
    "\n",
    "# DP Optimizer\n",
    "optimizer = DPKerasAdamOptimizer(\n",
    "  l2_norm_clip=1.0,\n",
    "  noise_multiplier=noise_multiplier,\n",
    "  num_microbatches=batch_size,\n",
    "  learning_rate=0.001\n",
    ")\n",
    "\n",
    "model.compile(\n",
    "  optimizer=optimizer,\n",
    "  loss=BinaryCrossentropy(from_logits=False, reduction=tf.keras.losses.Reduction.NONE),\n",
    "  metrics=['accuracy']\n",
    "    )\n",
    "\n",
    "# Train model\n",
    "history = model.fit(\n",
    "  train_dataset,\n",
    "  epochs=5,\n",
    "  validation_data=test_dataset,\n",
    "  verbose=0,\n",
    "  callbacks=[TqdmCallback(verbose=1)]\n",
    ")\n",
    "\n",
    "# Evaluate\n",
    "loss, accuracy = model.evaluate(test_dataset, verbose=0)\n",
    "\n",
    "# Compute privacy budget\n",
    "dataset_size = X_train_sparse.shape[0]\n",
    "epsilon, _ = compute_dp_sgd_privacy(   # 🛠 only 2 outputs\n",
    "  n=dataset_size,\n",
    "  batch_size=batch_size,\n",
    "  noise_multiplier=noise_multiplier,\n",
    "  epochs=5,\n",
    "  delta=1e-5\n",
    ")\n",
    "\n",
    "print(f\"✅ Done: batch_size={batch_size} → Accuracy={accuracy:.4f}, ε={epsilon:.2f}\")\n",
    "\n",
    "results.append((batch_size, accuracy, epsilon))\n",
    "\n",
    "# 📈 Plot Results\n",
    "batch_sizes = [r[0] for r in results]\n",
    "accuracies = [r[1] for r in results]\n",
    "epsilons = [r[2] for r in results]\n",
    "\n",
    "# Plot Accuracy\n",
    "plt.figure(figsize=(12, 5))\n",
    "plt.subplot(1, 2, 1)\n",
    "plt.plot(batch_sizes, accuracies, marker='o')\n",
    "plt.title('Accuracy vs Batch Size')\n",
    "plt.xlabel('Batch Size')\n",
    "plt.ylabel('Accuracy')\n",
    "plt.grid(True)\n",
    "\n",
    "# Plot Epsilon\n",
    "plt.subplot(1, 2, 2)\n",
    "plt.plot(batch_sizes, epsilons, marker='o', color='red')\n",
    "plt.title('Privacy ε vs Batch Size')\n",
    "plt.xlabel('Batch Size')\n",
    "plt.ylabel('Epsilon (ε)')\n",
    "plt.grid(True)\n",
    "\n",
    "plt.tight_layout()\n",
    "plt.show()\n"
   ]
  },
  {
   "cell_type": "code",
   "execution_count": null,
   "metadata": {
    "colab": {
     "base_uri": "https://localhost:8080/",
     "height": 684,
     "referenced_widgets": [
      "77a80727d77849d48c87c3fac6225301",
      "5b53a707d63d45488bec58e1e571d27e",
      "bc6a039d2eda4615a72820e288bec600",
      "2476d38563d34408b2a1abfc4552195b",
      "5ba513fa90cc48dc820edf25811afd32",
      "08bca2b4136246b386bbf33c53650759",
      "57247660f91b44ed9dea60754dfa068e",
      "256b28f4cd52428a8b94bf2e32ad3151",
      "8c62ab590905455ea9f7547b109f52f6",
      "06888ef50b7a46a9be748f05caf9ce26",
      "80cff523148245d3bf26a810ad489c78",
      "57be53685a3f41ef99270fafd4fc25c6",
      "60e266aaad174b6e9ae94a0234a2368b",
      "5159af4c640541adb3ac7a3d00c19fdc",
      "d5566a44118f44df93d2c7cd9f878e10",
      "d6efb977529f454891f353c210075419",
      "2823781778dc462387283a7afad92e90",
      "a28cb49fd30b4af89cbf0c07000e2250",
      "0ad242f3d8364ad69efdfacbb614e6ed",
      "8c97021e29f447ea9c67fbd28d217f03",
      "45ceb487579f4891b3149a9bb8b13142",
      "0028a737c04a4d83bef1d3b0b0a184a0"
     ]
    },
    "id": "7tW5SzBWKD4a",
    "outputId": "358ceb3b-9fad-4b5b-8ac3-d63277d408c5"
   },
   "outputs": [
    {
     "name": "stdout",
     "output_type": "stream",
     "text": [
      "✅ Loaded data with shape: (181284, 46)\n",
      "✅ Numeric columns: 37\n",
      "✅ Categorical columns: 6\n",
      "✅ Features preprocessed: (181284, 100053), type: <class 'scipy.sparse._csr.csr_matrix'>\n",
      "✅ Data split:  (145027, 100053) (36257, 100053)\n",
      "🚀 Training with batch size: 512\n"
     ]
    },
    {
     "data": {
      "application/vnd.jupyter.widget-view+json": {
       "model_id": "77a80727d77849d48c87c3fac6225301",
       "version_major": 2,
       "version_minor": 0
      },
      "text/plain": [
       "0epoch [00:00, ?epoch/s]"
      ]
     },
     "metadata": {},
     "output_type": "display_data"
    },
    {
     "data": {
      "application/vnd.jupyter.widget-view+json": {
       "model_id": "57be53685a3f41ef99270fafd4fc25c6",
       "version_major": 2,
       "version_minor": 0
      },
      "text/plain": [
       "0batch [00:00, ?batch/s]"
      ]
     },
     "metadata": {},
     "output_type": "display_data"
    },
    {
     "name": "stderr",
     "output_type": "stream",
     "text": [
      "WARNING:tensorflow:Converting IndexedSlices(indices=Tensor(\"gradient_tape/sequential_1/dense_3/embedding_lookup_sparse/embedding_lookup/Reshape_1:0\", shape=(None,), dtype=int64), values=Tensor(\"gradient_tape/sequential_1/dense_3/embedding_lookup_sparse/embedding_lookup/Reshape:0\", shape=(None, 128), dtype=float32), dense_shape=Tensor(\"gradient_tape/sequential_1/dense_3/embedding_lookup_sparse/embedding_lookup/Const:0\", shape=(2,), dtype=int32)) to a dense representation may make it slow. Alternatively, output the indices and values of the IndexedSlices separately, and handle the vectorized outputs directly.\n",
      "WARNING:tensorflow:Converting IndexedSlices(indices=Tensor(\"gradient_tape/sequential_1/dense_3/embedding_lookup_sparse/embedding_lookup/Reshape_1:0\", shape=(None,), dtype=int64), values=Tensor(\"gradient_tape/sequential_1/dense_3/embedding_lookup_sparse/embedding_lookup/Reshape:0\", shape=(None, 128), dtype=float32), dense_shape=Tensor(\"gradient_tape/sequential_1/dense_3/embedding_lookup_sparse/embedding_lookup/Const:0\", shape=(2,), dtype=int32)) to a dense representation may make it slow. Alternatively, output the indices and values of the IndexedSlices separately, and handle the vectorized outputs directly.\n",
      "WARNING:absl:`compute_dp_sgd_privacy` is deprecated. It does not account for doubling of sensitivity with microbatching, and assumes Poisson subsampling, which is rarely used in practice. Please use `compute_dp_sgd_privacy_statement`, which provides appropriate context for the guarantee. To compute epsilon under different assumptions than those in `compute_dp_sgd_privacy_statement`, call the `dp_accounting` libraries directly.\n"
     ]
    },
    {
     "name": "stdout",
     "output_type": "stream",
     "text": [
      "✅ Done: batch_size=512 → Accuracy=0.9966, ε=1.09\n"
     ]
    },
    {
     "data": {
      "image/png": "[encoded data removed]",
      "text/plain": [
       "<Figure size 1200x500 with 2 Axes>"
      ]
     },
     "metadata": {},
     "output_type": "display_data"
    }
   ],
   "source": [
    "# 📦 Imports\n",
    "import pandas as pd\n",
    "import numpy as np\n",
    "import matplotlib.pyplot as plt\n",
    "import tensorflow as tf\n",
    "from sklearn.model_selection import train_test_split\n",
    "from sklearn.preprocessing import StandardScaler, OneHotEncoder, LabelEncoder\n",
    "from sklearn.compose import ColumnTransformer\n",
    "from sklearn.pipeline import Pipeline\n",
    "from tensorflow_privacy.privacy.optimizers.dp_optimizer_keras import DPKerasAdamOptimizer\n",
    "from tensorflow_privacy.privacy.analysis.compute_dp_sgd_privacy_lib import compute_dp_sgd_privacy\n",
    "from tensorflow.keras.losses import BinaryCrossentropy\n",
    "\n",
    "# Install tqdm if not installed\n",
    "!pip install -q tqdm\n",
    "from tqdm.keras import TqdmCallback\n",
    "\n",
    "# 🧩 Load dataset\n",
    "data_path = '/content/drive/MyDrive/datasets/100000-Patients/merged_with_labs_pivoted.csv'\n",
    "df = pd.read_csv(data_path)\n",
    "print(\"✅ Loaded data with shape:\", df.shape)\n",
    "\n",
    "# 📉 Drop leakage columns\n",
    "df = df.drop(columns=['next_admission_date', 'days_to_readmission'])\n",
    "\n",
    "# 🎯 Encode target\n",
    "label_encoder = LabelEncoder()\n",
    "df['readmission'] = label_encoder.fit_transform(df['readmission'])\n",
    "\n",
    "# ➗ Separate features and target\n",
    "X = df.drop(columns=['readmission'])\n",
    "y = df['readmission']\n",
    "\n",
    "# 🔍 Identify numeric and categorical columns\n",
    "numeric_cols = X.select_dtypes(include=[np.number]).columns.tolist()\n",
    "categorical_cols = X.select_dtypes(include=['object']).columns.tolist()\n",
    "\n",
    "print(f\"✅ Numeric columns: {len(numeric_cols)}\")\n",
    "print(f\"✅ Categorical columns: {len(categorical_cols)}\")\n",
    "\n",
    "# 🔧 Build preprocessing pipeline\n",
    "numeric_transformer = Pipeline(steps=[\n",
    "    ('scaler', StandardScaler())\n",
    "])\n",
    "\n",
    "categorical_transformer = Pipeline(steps=[\n",
    "    ('onehot', OneHotEncoder(handle_unknown='ignore', sparse_output=True))\n",
    "])\n",
    "\n",
    "preprocessor = ColumnTransformer(\n",
    "    transformers=[\n",
    "        ('num', numeric_transformer, numeric_cols),\n",
    "        ('cat', categorical_transformer, categorical_cols)\n",
    "    ],\n",
    "    sparse_threshold=0.1\n",
    ")\n",
    "\n",
    "# 🔥 Preprocess features (keep sparse)\n",
    "X_processed = preprocessor.fit_transform(X)\n",
    "print(f\"✅ Features preprocessed: {X_processed.shape}, type: {type(X_processed)}\")\n",
    "\n",
    "# ✂️ Train-test split\n",
    "X_train_sparse, X_test_sparse, y_train, y_test = train_test_split(X_processed, y, test_size=0.2, random_state=42)\n",
    "print(\"✅ Data split: \", X_train_sparse.shape, X_test_sparse.shape)\n",
    "\n",
    "# 🔄 Convert to TensorFlow SparseTensor\n",
    "def scipy_to_tf_sparse(scipy_mat):\n",
    "    coo = scipy_mat.tocoo()\n",
    "    indices = np.vstack((coo.row, coo.col)).T\n",
    "    return tf.sparse.SparseTensor(indices, coo.data.astype(np.float32), coo.shape)\n",
    "\n",
    "X_train_tf = scipy_to_tf_sparse(X_train_sparse)\n",
    "X_test_tf = scipy_to_tf_sparse(X_test_sparse)\n",
    "\n",
    "# 🧱 Build the model\n",
    "def create_sparse_model(input_dim):\n",
    "    model = tf.keras.Sequential([\n",
    "        tf.keras.layers.Input(shape=(input_dim,), sparse=True),\n",
    "        tf.keras.layers.Dense(128, activation='relu'),\n",
    "        tf.keras.layers.Dense(64, activation='relu'),\n",
    "        tf.keras.layers.Dense(1, activation='sigmoid')\n",
    "    ])\n",
    "    return model\n",
    "\n",
    "# 📦 Create TensorFlow Datasets\n",
    "batch_size = 512\n",
    "noise_multiplier = 1.0\n",
    "\n",
    "# Store results\n",
    "results = []\n",
    "print(f\"🚀 Training with batch size: {batch_size}\")\n",
    "\n",
    "train_dataset = tf.data.Dataset.from_tensor_slices((X_train_tf, y_train))\n",
    "train_dataset = train_dataset.shuffle(10000).batch(batch_size, drop_remainder=True).prefetch(tf.data.AUTOTUNE)\n",
    "\n",
    "test_dataset = tf.data.Dataset.from_tensor_slices((X_test_tf, y_test))\n",
    "test_dataset = test_dataset.batch(batch_size, drop_remainder=True).prefetch(tf.data.AUTOTUNE)\n",
    "\n",
    "# Create model\n",
    "model = create_sparse_model(X_train_sparse.shape[1])\n",
    "\n",
    "# DP Optimizer\n",
    "optimizer = DPKerasAdamOptimizer(\n",
    "  l2_norm_clip=1.0,\n",
    "  noise_multiplier=noise_multiplier,\n",
    "  num_microbatches=batch_size,\n",
    "  learning_rate=0.001\n",
    ")\n",
    "\n",
    "model.compile(\n",
    "  optimizer=optimizer,\n",
    "  loss=BinaryCrossentropy(from_logits=False, reduction=tf.keras.losses.Reduction.NONE),\n",
    "  metrics=['accuracy']\n",
    "    )\n",
    "\n",
    "# Train model\n",
    "history = model.fit(\n",
    "  train_dataset,\n",
    "  epochs=5,\n",
    "  validation_data=test_dataset,\n",
    "  verbose=0,\n",
    "  callbacks=[TqdmCallback(verbose=1)]\n",
    ")\n",
    "\n",
    "# Evaluate\n",
    "loss, accuracy = model.evaluate(test_dataset, verbose=0)\n",
    "\n",
    "# Compute privacy budget\n",
    "dataset_size = X_train_sparse.shape[0]\n",
    "epsilon, _ = compute_dp_sgd_privacy(   # 🛠 only 2 outputs\n",
    "  n=dataset_size,\n",
    "  batch_size=batch_size,\n",
    "  noise_multiplier=noise_multiplier,\n",
    "  epochs=5,\n",
    "  delta=1e-5\n",
    ")\n",
    "\n",
    "print(f\"✅ Done: batch_size={batch_size} → Accuracy={accuracy:.4f}, ε={epsilon:.2f}\")\n",
    "\n",
    "results.append((batch_size, accuracy, epsilon))\n",
    "\n",
    "# 📈 Plot Results\n",
    "batch_sizes = [r[0] for r in results]\n",
    "accuracies = [r[1] for r in results]\n",
    "epsilons = [r[2] for r in results]\n",
    "\n",
    "# Plot Accuracy\n",
    "plt.figure(figsize=(12, 5))\n",
    "plt.subplot(1, 2, 1)\n",
    "plt.plot(batch_sizes, accuracies, marker='o')\n",
    "plt.title('Accuracy vs Batch Size')\n",
    "plt.xlabel('Batch Size')\n",
    "plt.ylabel('Accuracy')\n",
    "plt.grid(True)\n",
    "\n",
    "# Plot Epsilon\n",
    "plt.subplot(1, 2, 2)\n",
    "plt.plot(batch_sizes, epsilons, marker='o', color='red')\n",
    "plt.title('Privacy ε vs Batch Size')\n",
    "plt.xlabel('Batch Size')\n",
    "plt.ylabel('Epsilon (ε)')\n",
    "plt.grid(True)\n",
    "\n",
    "plt.tight_layout()\n",
    "plt.show()\n"
   ]
  }
 ],
 "metadata": {
  "colab": {
   "collapsed_sections": [
    "LISEzq957YER",
    "9WFQoV7W74lk",
    "gn37ezA_8fHn",
    "t4XGDajYoRLw",
    "wT8paZ_um9hx",
    "EbHaD0e30VKB",
    "0MfiQvPb18Xs",
    "YaAqyZKV2qyM",
    "2qu5AKes3GDp"
   ],
   "machine_shape": "hm",
   "provenance": []
  },
  "kernelspec": {
   "display_name": "Python 3",
   "name": "python3"
  },
  "language_info": {
   "name": "python"
  }
 },
 "nbformat": 4,
 "nbformat_minor": 0
}
